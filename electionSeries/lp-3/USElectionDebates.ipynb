{
 "cells": [
  {
   "cell_type": "code",
   "execution_count": 1,
   "metadata": {},
   "outputs": [
    {
     "name": "stdout",
     "output_type": "stream",
     "text": [
      "Warning: Your Kaggle API key is readable by other users on this system! To fix this, you can run 'chmod 600 /home/abhinowo/.kaggle/kaggle.json'\n",
      "Downloading us-election-2020-presidential-debates.zip to /home/abhinowo/Documents/LearningProject/PythonDataAnalytics/electionSeries/lp-3\n",
      "100%|███████████████████████████████████████▊| 437M/439M [00:27<00:00, 16.9MB/s]\n",
      "100%|████████████████████████████████████████| 439M/439M [00:27<00:00, 16.5MB/s]\n"
     ]
    }
   ],
   "source": [
    "!kaggle datasets download -d headsortails/us-election-2020-presidential-debates"
   ]
  },
  {
   "cell_type": "code",
   "execution_count": 2,
   "metadata": {},
   "outputs": [
    {
     "name": "stdout",
     "output_type": "stream",
     "text": [
      "Archive:  us-election-2020-presidential-debates.zip\n",
      "  inflating: data_input/us_election_2020_1st_presidential_debate.csv  \n",
      "  inflating: data_input/us_election_2020_1st_presidential_debate.mp3  \n",
      "  inflating: data_input/us_election_2020_1st_presidential_debate.txt  \n",
      "  inflating: data_input/us_election_2020_2nd_presidential_debate.csv  \n",
      "  inflating: data_input/us_election_2020_2nd_presidential_debate.mp3  \n",
      "  inflating: data_input/us_election_2020_2nd_presidential_debate.txt  \n",
      "  inflating: data_input/us_election_2020_biden_town_hall.csv  \n",
      "  inflating: data_input/us_election_2020_biden_town_hall.mp3  \n",
      "  inflating: data_input/us_election_2020_biden_town_hall.txt  \n",
      "  inflating: data_input/us_election_2020_trump_town_hall.csv  \n",
      "  inflating: data_input/us_election_2020_trump_town_hall.mp3  \n",
      "  inflating: data_input/us_election_2020_trump_town_hall.txt  \n",
      "  inflating: data_input/us_election_2020_vice_presidential_debate.csv  \n",
      "  inflating: data_input/us_election_2020_vice_presidential_debate.mp3  \n",
      "  inflating: data_input/us_election_2020_vice_presidential_debate.txt  \n"
     ]
    }
   ],
   "source": [
    "# unzip and put it in the data_input folder\n",
    "!unzip us-election-2020-presidential-debates.zip -d data_input"
   ]
  },
  {
   "cell_type": "markdown",
   "metadata": {},
   "source": [
    "# Introduction\n",
    "\n",
    "This time around, im trying to analysis based on debates between trump and biden."
   ]
  },
  {
   "cell_type": "code",
   "execution_count": 3,
   "metadata": {},
   "outputs": [],
   "source": [
    "# import library\n",
    "\n",
    "import pandas as pd\n",
    "import numpy as np\n",
    "\n",
    "import nltk\n",
    "import string\n",
    "import regex as re\n",
    "from nltk.tokenize import word_tokenize\n",
    "from nltk.corpus import stopwords\n",
    "\n",
    "# For vis\n",
    "import matplotlib.pyplot as plt\n",
    "import seaborn as sns\n",
    "\n"
   ]
  },
  {
   "cell_type": "code",
   "execution_count": 4,
   "metadata": {},
   "outputs": [],
   "source": [
    "first_debate_df = pd.read_csv('data_input/us_election_2020_1st_presidential_debate.csv')\n",
    "second_debate_df = pd.read_csv('data_input/us_election_2020_2nd_presidential_debate.csv')"
   ]
  },
  {
   "cell_type": "code",
   "execution_count": 5,
   "metadata": {},
   "outputs": [
    {
     "data": {
      "text/html": [
       "<div>\n",
       "<style scoped>\n",
       "    .dataframe tbody tr th:only-of-type {\n",
       "        vertical-align: middle;\n",
       "    }\n",
       "\n",
       "    .dataframe tbody tr th {\n",
       "        vertical-align: top;\n",
       "    }\n",
       "\n",
       "    .dataframe thead th {\n",
       "        text-align: right;\n",
       "    }\n",
       "</style>\n",
       "<table border=\"1\" class=\"dataframe\">\n",
       "  <thead>\n",
       "    <tr style=\"text-align: right;\">\n",
       "      <th></th>\n",
       "      <th>speaker</th>\n",
       "      <th>minute</th>\n",
       "      <th>text</th>\n",
       "    </tr>\n",
       "  </thead>\n",
       "  <tbody>\n",
       "    <tr>\n",
       "      <th>0</th>\n",
       "      <td>Chris Wallace</td>\n",
       "      <td>01:20</td>\n",
       "      <td>Good evening from the Health Education Campus ...</td>\n",
       "    </tr>\n",
       "    <tr>\n",
       "      <th>1</th>\n",
       "      <td>Chris Wallace</td>\n",
       "      <td>02:10</td>\n",
       "      <td>This debate is being conducted under health an...</td>\n",
       "    </tr>\n",
       "    <tr>\n",
       "      <th>2</th>\n",
       "      <td>Vice President Joe Biden</td>\n",
       "      <td>02:49</td>\n",
       "      <td>How you doing, man?</td>\n",
       "    </tr>\n",
       "    <tr>\n",
       "      <th>3</th>\n",
       "      <td>President Donald J. Trump</td>\n",
       "      <td>02:51</td>\n",
       "      <td>How are you doing?</td>\n",
       "    </tr>\n",
       "    <tr>\n",
       "      <th>4</th>\n",
       "      <td>Vice President Joe Biden</td>\n",
       "      <td>02:51</td>\n",
       "      <td>I’m well.</td>\n",
       "    </tr>\n",
       "  </tbody>\n",
       "</table>\n",
       "</div>"
      ],
      "text/plain": [
       "                     speaker minute  \\\n",
       "0              Chris Wallace  01:20   \n",
       "1              Chris Wallace  02:10   \n",
       "2   Vice President Joe Biden  02:49   \n",
       "3  President Donald J. Trump  02:51   \n",
       "4   Vice President Joe Biden  02:51   \n",
       "\n",
       "                                                text  \n",
       "0  Good evening from the Health Education Campus ...  \n",
       "1  This debate is being conducted under health an...  \n",
       "2                                How you doing, man?  \n",
       "3                                 How are you doing?  \n",
       "4                                          I’m well.  "
      ]
     },
     "execution_count": 5,
     "metadata": {},
     "output_type": "execute_result"
    }
   ],
   "source": [
    "first_debate_df.head()"
   ]
  },
  {
   "cell_type": "code",
   "execution_count": 6,
   "metadata": {},
   "outputs": [
    {
     "data": {
      "text/html": [
       "<div>\n",
       "<style scoped>\n",
       "    .dataframe tbody tr th:only-of-type {\n",
       "        vertical-align: middle;\n",
       "    }\n",
       "\n",
       "    .dataframe tbody tr th {\n",
       "        vertical-align: top;\n",
       "    }\n",
       "\n",
       "    .dataframe thead th {\n",
       "        text-align: right;\n",
       "    }\n",
       "</style>\n",
       "<table border=\"1\" class=\"dataframe\">\n",
       "  <thead>\n",
       "    <tr style=\"text-align: right;\">\n",
       "      <th></th>\n",
       "      <th>speaker</th>\n",
       "      <th>minute</th>\n",
       "      <th>text</th>\n",
       "    </tr>\n",
       "  </thead>\n",
       "  <tbody>\n",
       "    <tr>\n",
       "      <th>0</th>\n",
       "      <td>Kristen Welker</td>\n",
       "      <td>00:18</td>\n",
       "      <td>Good evening, everyone. Good evening. Thank yo...</td>\n",
       "    </tr>\n",
       "    <tr>\n",
       "      <th>1</th>\n",
       "      <td>Donald Trump</td>\n",
       "      <td>07:37</td>\n",
       "      <td>How are you doing? How are you?</td>\n",
       "    </tr>\n",
       "    <tr>\n",
       "      <th>2</th>\n",
       "      <td>Kristen Welker</td>\n",
       "      <td>07:58</td>\n",
       "      <td>And I do want to say a very good evening to bo...</td>\n",
       "    </tr>\n",
       "    <tr>\n",
       "      <th>3</th>\n",
       "      <td>Kristen Welker</td>\n",
       "      <td>08:27</td>\n",
       "      <td>The goal is for you to hear each other and for...</td>\n",
       "    </tr>\n",
       "    <tr>\n",
       "      <th>4</th>\n",
       "      <td>Kristen Welker</td>\n",
       "      <td>09:03</td>\n",
       "      <td>… during this next stage of the coronavirus cr...</td>\n",
       "    </tr>\n",
       "  </tbody>\n",
       "</table>\n",
       "</div>"
      ],
      "text/plain": [
       "          speaker minute                                               text\n",
       "0  Kristen Welker  00:18  Good evening, everyone. Good evening. Thank yo...\n",
       "1    Donald Trump  07:37                    How are you doing? How are you?\n",
       "2  Kristen Welker  07:58  And I do want to say a very good evening to bo...\n",
       "3  Kristen Welker  08:27  The goal is for you to hear each other and for...\n",
       "4  Kristen Welker  09:03  … during this next stage of the coronavirus cr..."
      ]
     },
     "execution_count": 6,
     "metadata": {},
     "output_type": "execute_result"
    }
   ],
   "source": [
    "second_debate_df.head()"
   ]
  },
  {
   "cell_type": "code",
   "execution_count": 9,
   "metadata": {},
   "outputs": [
    {
     "name": "stdout",
     "output_type": "stream",
     "text": [
      "<class 'pandas.core.frame.DataFrame'>\n",
      "RangeIndex: 789 entries, 0 to 788\n",
      "Data columns (total 3 columns):\n",
      " #   Column   Non-Null Count  Dtype \n",
      "---  ------   --------------  ----- \n",
      " 0   speaker  789 non-null    object\n",
      " 1   minute   788 non-null    object\n",
      " 2   text     789 non-null    object\n",
      "dtypes: object(3)\n",
      "memory usage: 18.6+ KB\n"
     ]
    }
   ],
   "source": [
    "first_debate_df.info()"
   ]
  },
  {
   "cell_type": "code",
   "execution_count": 10,
   "metadata": {},
   "outputs": [
    {
     "name": "stdout",
     "output_type": "stream",
     "text": [
      "<class 'pandas.core.frame.DataFrame'>\n",
      "RangeIndex: 512 entries, 0 to 511\n",
      "Data columns (total 3 columns):\n",
      " #   Column   Non-Null Count  Dtype \n",
      "---  ------   --------------  ----- \n",
      " 0   speaker  512 non-null    object\n",
      " 1   minute   512 non-null    object\n",
      " 2   text     512 non-null    object\n",
      "dtypes: object(3)\n",
      "memory usage: 12.1+ KB\n"
     ]
    }
   ],
   "source": [
    "second_debate_df.info()"
   ]
  },
  {
   "cell_type": "code",
   "execution_count": 7,
   "metadata": {},
   "outputs": [
    {
     "data": {
      "text/plain": [
       "speaker    0\n",
       "minute     1\n",
       "text       0\n",
       "dtype: int64"
      ]
     },
     "execution_count": 7,
     "metadata": {},
     "output_type": "execute_result"
    }
   ],
   "source": [
    "first_debate_df.isnull().sum()"
   ]
  },
  {
   "cell_type": "code",
   "execution_count": 28,
   "metadata": {},
   "outputs": [
    {
     "data": {
      "text/html": [
       "<div>\n",
       "<style scoped>\n",
       "    .dataframe tbody tr th:only-of-type {\n",
       "        vertical-align: middle;\n",
       "    }\n",
       "\n",
       "    .dataframe tbody tr th {\n",
       "        vertical-align: top;\n",
       "    }\n",
       "\n",
       "    .dataframe thead th {\n",
       "        text-align: right;\n",
       "    }\n",
       "</style>\n",
       "<table border=\"1\" class=\"dataframe\">\n",
       "  <thead>\n",
       "    <tr style=\"text-align: right;\">\n",
       "      <th></th>\n",
       "      <th>speaker</th>\n",
       "      <th>minute</th>\n",
       "      <th>text</th>\n",
       "      <th>word_count</th>\n",
       "    </tr>\n",
       "  </thead>\n",
       "  <tbody>\n",
       "    <tr>\n",
       "      <th>179</th>\n",
       "      <td>Chris Wallace:</td>\n",
       "      <td>NaN</td>\n",
       "      <td>Okay, gentlemen, gentlemen. Let me move on to ...</td>\n",
       "      <td>112</td>\n",
       "    </tr>\n",
       "  </tbody>\n",
       "</table>\n",
       "</div>"
      ],
      "text/plain": [
       "            speaker minute                                               text  \\\n",
       "179  Chris Wallace:    NaN  Okay, gentlemen, gentlemen. Let me move on to ...   \n",
       "\n",
       "     word_count  \n",
       "179         112  "
      ]
     },
     "execution_count": 28,
     "metadata": {},
     "output_type": "execute_result"
    }
   ],
   "source": [
    "# find the null value in the first debate\n",
    "first_debate_df[first_debate_df['minute'].isnull()]"
   ]
  },
  {
   "cell_type": "code",
   "execution_count": 30,
   "metadata": {},
   "outputs": [
    {
     "data": {
      "text/html": [
       "<div>\n",
       "<style scoped>\n",
       "    .dataframe tbody tr th:only-of-type {\n",
       "        vertical-align: middle;\n",
       "    }\n",
       "\n",
       "    .dataframe tbody tr th {\n",
       "        vertical-align: top;\n",
       "    }\n",
       "\n",
       "    .dataframe thead th {\n",
       "        text-align: right;\n",
       "    }\n",
       "</style>\n",
       "<table border=\"1\" class=\"dataframe\">\n",
       "  <thead>\n",
       "    <tr style=\"text-align: right;\">\n",
       "      <th></th>\n",
       "      <th>speaker</th>\n",
       "      <th>minute</th>\n",
       "      <th>text</th>\n",
       "      <th>word_count</th>\n",
       "    </tr>\n",
       "  </thead>\n",
       "  <tbody>\n",
       "    <tr>\n",
       "      <th>175</th>\n",
       "      <td>Vice President Joe Biden</td>\n",
       "      <td>23:33</td>\n",
       "      <td>And there was no one … We didn’t shut down the...</td>\n",
       "      <td>90</td>\n",
       "    </tr>\n",
       "    <tr>\n",
       "      <th>176</th>\n",
       "      <td>President Donald J. Trump</td>\n",
       "      <td>23:57</td>\n",
       "      <td>We would have lost far more people, far more p...</td>\n",
       "      <td>21</td>\n",
       "    </tr>\n",
       "    <tr>\n",
       "      <th>177</th>\n",
       "      <td>Vice President Joe Biden</td>\n",
       "      <td>24:03</td>\n",
       "      <td>His own CDC Director says we could lose as man...</td>\n",
       "      <td>77</td>\n",
       "    </tr>\n",
       "    <tr>\n",
       "      <th>178</th>\n",
       "      <td>President Donald J. Trump</td>\n",
       "      <td>24:25</td>\n",
       "      <td>You don’t trust Johnson &amp; Johnson, Pfizer?</td>\n",
       "      <td>7</td>\n",
       "    </tr>\n",
       "    <tr>\n",
       "      <th>179</th>\n",
       "      <td>Chris Wallace:</td>\n",
       "      <td>NaN</td>\n",
       "      <td>Okay, gentlemen, gentlemen. Let me move on to ...</td>\n",
       "      <td>112</td>\n",
       "    </tr>\n",
       "    <tr>\n",
       "      <th>180</th>\n",
       "      <td>President Donald J. Trump</td>\n",
       "      <td>00:15</td>\n",
       "      <td>Well, I’ve spoken to the companies and we can ...</td>\n",
       "      <td>31</td>\n",
       "    </tr>\n",
       "    <tr>\n",
       "      <th>181</th>\n",
       "      <td>Vice President Joe Biden</td>\n",
       "      <td>00:22</td>\n",
       "      <td>God.</td>\n",
       "      <td>1</td>\n",
       "    </tr>\n",
       "    <tr>\n",
       "      <th>182</th>\n",
       "      <td>President Donald J. Trump</td>\n",
       "      <td>00:23</td>\n",
       "      <td>It is a very political thing. I’ve spoken to P...</td>\n",
       "      <td>61</td>\n",
       "    </tr>\n",
       "    <tr>\n",
       "      <th>183</th>\n",
       "      <td>Chris Wallace</td>\n",
       "      <td>00:38</td>\n",
       "      <td>So you’re suggesting that the head of your Ope...</td>\n",
       "      <td>13</td>\n",
       "    </tr>\n",
       "    <tr>\n",
       "      <th>184</th>\n",
       "      <td>President Donald J. Trump</td>\n",
       "      <td>00:42</td>\n",
       "      <td>I disagree with him. No, I disagree with both ...</td>\n",
       "      <td>38</td>\n",
       "    </tr>\n",
       "  </tbody>\n",
       "</table>\n",
       "</div>"
      ],
      "text/plain": [
       "                       speaker minute  \\\n",
       "175   Vice President Joe Biden  23:33   \n",
       "176  President Donald J. Trump  23:57   \n",
       "177   Vice President Joe Biden  24:03   \n",
       "178  President Donald J. Trump  24:25   \n",
       "179             Chris Wallace:    NaN   \n",
       "180  President Donald J. Trump  00:15   \n",
       "181   Vice President Joe Biden  00:22   \n",
       "182  President Donald J. Trump  00:23   \n",
       "183              Chris Wallace  00:38   \n",
       "184  President Donald J. Trump  00:42   \n",
       "\n",
       "                                                  text  word_count  \n",
       "175  And there was no one … We didn’t shut down the...          90  \n",
       "176  We would have lost far more people, far more p...          21  \n",
       "177  His own CDC Director says we could lose as man...          77  \n",
       "178         You don’t trust Johnson & Johnson, Pfizer?           7  \n",
       "179  Okay, gentlemen, gentlemen. Let me move on to ...         112  \n",
       "180  Well, I’ve spoken to the companies and we can ...          31  \n",
       "181                                               God.           1  \n",
       "182  It is a very political thing. I’ve spoken to P...          61  \n",
       "183  So you’re suggesting that the head of your Ope...          13  \n",
       "184  I disagree with him. No, I disagree with both ...          38  "
      ]
     },
     "execution_count": 30,
     "metadata": {},
     "output_type": "execute_result"
    }
   ],
   "source": [
    "first_debate_df.iloc[175:185]"
   ]
  },
  {
   "cell_type": "code",
   "execution_count": 31,
   "metadata": {},
   "outputs": [],
   "source": [
    "# adding the missing value in minute into 00:00\n",
    "first_debate_df['minute'].fillna('00:00', inplace=True)"
   ]
  },
  {
   "cell_type": "code",
   "execution_count": 33,
   "metadata": {},
   "outputs": [
    {
     "data": {
      "text/html": [
       "<div>\n",
       "<style scoped>\n",
       "    .dataframe tbody tr th:only-of-type {\n",
       "        vertical-align: middle;\n",
       "    }\n",
       "\n",
       "    .dataframe tbody tr th {\n",
       "        vertical-align: top;\n",
       "    }\n",
       "\n",
       "    .dataframe thead th {\n",
       "        text-align: right;\n",
       "    }\n",
       "</style>\n",
       "<table border=\"1\" class=\"dataframe\">\n",
       "  <thead>\n",
       "    <tr style=\"text-align: right;\">\n",
       "      <th></th>\n",
       "      <th>speaker</th>\n",
       "      <th>minute</th>\n",
       "      <th>text</th>\n",
       "      <th>word_count</th>\n",
       "    </tr>\n",
       "  </thead>\n",
       "  <tbody>\n",
       "    <tr>\n",
       "      <th>175</th>\n",
       "      <td>Vice President Joe Biden</td>\n",
       "      <td>23:33</td>\n",
       "      <td>And there was no one … We didn’t shut down the...</td>\n",
       "      <td>90</td>\n",
       "    </tr>\n",
       "    <tr>\n",
       "      <th>176</th>\n",
       "      <td>President Donald J. Trump</td>\n",
       "      <td>23:57</td>\n",
       "      <td>We would have lost far more people, far more p...</td>\n",
       "      <td>21</td>\n",
       "    </tr>\n",
       "    <tr>\n",
       "      <th>177</th>\n",
       "      <td>Vice President Joe Biden</td>\n",
       "      <td>24:03</td>\n",
       "      <td>His own CDC Director says we could lose as man...</td>\n",
       "      <td>77</td>\n",
       "    </tr>\n",
       "    <tr>\n",
       "      <th>178</th>\n",
       "      <td>President Donald J. Trump</td>\n",
       "      <td>24:25</td>\n",
       "      <td>You don’t trust Johnson &amp; Johnson, Pfizer?</td>\n",
       "      <td>7</td>\n",
       "    </tr>\n",
       "    <tr>\n",
       "      <th>179</th>\n",
       "      <td>Chris Wallace:</td>\n",
       "      <td>00:00</td>\n",
       "      <td>Okay, gentlemen, gentlemen. Let me move on to ...</td>\n",
       "      <td>112</td>\n",
       "    </tr>\n",
       "    <tr>\n",
       "      <th>180</th>\n",
       "      <td>President Donald J. Trump</td>\n",
       "      <td>00:15</td>\n",
       "      <td>Well, I’ve spoken to the companies and we can ...</td>\n",
       "      <td>31</td>\n",
       "    </tr>\n",
       "    <tr>\n",
       "      <th>181</th>\n",
       "      <td>Vice President Joe Biden</td>\n",
       "      <td>00:22</td>\n",
       "      <td>God.</td>\n",
       "      <td>1</td>\n",
       "    </tr>\n",
       "    <tr>\n",
       "      <th>182</th>\n",
       "      <td>President Donald J. Trump</td>\n",
       "      <td>00:23</td>\n",
       "      <td>It is a very political thing. I’ve spoken to P...</td>\n",
       "      <td>61</td>\n",
       "    </tr>\n",
       "    <tr>\n",
       "      <th>183</th>\n",
       "      <td>Chris Wallace</td>\n",
       "      <td>00:38</td>\n",
       "      <td>So you’re suggesting that the head of your Ope...</td>\n",
       "      <td>13</td>\n",
       "    </tr>\n",
       "    <tr>\n",
       "      <th>184</th>\n",
       "      <td>President Donald J. Trump</td>\n",
       "      <td>00:42</td>\n",
       "      <td>I disagree with him. No, I disagree with both ...</td>\n",
       "      <td>38</td>\n",
       "    </tr>\n",
       "  </tbody>\n",
       "</table>\n",
       "</div>"
      ],
      "text/plain": [
       "                       speaker minute  \\\n",
       "175   Vice President Joe Biden  23:33   \n",
       "176  President Donald J. Trump  23:57   \n",
       "177   Vice President Joe Biden  24:03   \n",
       "178  President Donald J. Trump  24:25   \n",
       "179             Chris Wallace:  00:00   \n",
       "180  President Donald J. Trump  00:15   \n",
       "181   Vice President Joe Biden  00:22   \n",
       "182  President Donald J. Trump  00:23   \n",
       "183              Chris Wallace  00:38   \n",
       "184  President Donald J. Trump  00:42   \n",
       "\n",
       "                                                  text  word_count  \n",
       "175  And there was no one … We didn’t shut down the...          90  \n",
       "176  We would have lost far more people, far more p...          21  \n",
       "177  His own CDC Director says we could lose as man...          77  \n",
       "178         You don’t trust Johnson & Johnson, Pfizer?           7  \n",
       "179  Okay, gentlemen, gentlemen. Let me move on to ...         112  \n",
       "180  Well, I’ve spoken to the companies and we can ...          31  \n",
       "181                                               God.           1  \n",
       "182  It is a very political thing. I’ve spoken to P...          61  \n",
       "183  So you’re suggesting that the head of your Ope...          13  \n",
       "184  I disagree with him. No, I disagree with both ...          38  "
      ]
     },
     "execution_count": 33,
     "metadata": {},
     "output_type": "execute_result"
    }
   ],
   "source": [
    "first_debate_df.iloc[175:185]"
   ]
  },
  {
   "cell_type": "code",
   "execution_count": 32,
   "metadata": {},
   "outputs": [
    {
     "data": {
      "text/plain": [
       "speaker       0\n",
       "minute        0\n",
       "text          0\n",
       "word_count    0\n",
       "dtype: int64"
      ]
     },
     "execution_count": 32,
     "metadata": {},
     "output_type": "execute_result"
    }
   ],
   "source": [
    "first_debate_df.isnull().sum()"
   ]
  },
  {
   "cell_type": "code",
   "execution_count": 8,
   "metadata": {},
   "outputs": [
    {
     "data": {
      "text/plain": [
       "speaker    0\n",
       "minute     0\n",
       "text       0\n",
       "dtype: int64"
      ]
     },
     "execution_count": 8,
     "metadata": {},
     "output_type": "execute_result"
    }
   ],
   "source": [
    "second_debate_df.isnull().sum()"
   ]
  },
  {
   "cell_type": "code",
   "execution_count": 17,
   "metadata": {},
   "outputs": [
    {
     "name": "stdout",
     "output_type": "stream",
     "text": [
      "Good evening from the Health Education Campus of Case Western Reserve University and the Cleveland Clinic. I’m Chris Wallace of Fox News and I welcome you to the first of the 2020 Presidential Debates between President Donald J. Trump and former Vice President Joe Biden. This debate is sponsored by the Commission on Presidential debates. The Commission has designed the format, six roughly 15 minute segments with two minute answers from each candidate to the first question, then open discussion for the rest of each segment. Both campaigns have agreed to these rules. For the record, I decided the topics and the questions in each topic. I can assure you none of the questions has been shared with the Commission or the two candidates.\n",
      "124\n"
     ]
    }
   ],
   "source": [
    "# lets see the text column\n",
    "x = first_debate_df['text'].loc[0]\n",
    "b = second_debate_df['text'].loc[0]\n",
    "# find how many words in the text\n",
    "y = len(x.split())\n",
    "\n",
    "print(x)\n",
    "print(y)"
   ]
  },
  {
   "cell_type": "code",
   "execution_count": 18,
   "metadata": {},
   "outputs": [
    {
     "data": {
      "text/html": [
       "<div>\n",
       "<style scoped>\n",
       "    .dataframe tbody tr th:only-of-type {\n",
       "        vertical-align: middle;\n",
       "    }\n",
       "\n",
       "    .dataframe tbody tr th {\n",
       "        vertical-align: top;\n",
       "    }\n",
       "\n",
       "    .dataframe thead th {\n",
       "        text-align: right;\n",
       "    }\n",
       "</style>\n",
       "<table border=\"1\" class=\"dataframe\">\n",
       "  <thead>\n",
       "    <tr style=\"text-align: right;\">\n",
       "      <th></th>\n",
       "      <th>speaker</th>\n",
       "      <th>minute</th>\n",
       "      <th>text</th>\n",
       "      <th>word_count</th>\n",
       "    </tr>\n",
       "  </thead>\n",
       "  <tbody>\n",
       "    <tr>\n",
       "      <th>0</th>\n",
       "      <td>Chris Wallace</td>\n",
       "      <td>01:20</td>\n",
       "      <td>Good evening from the Health Education Campus ...</td>\n",
       "      <td>124</td>\n",
       "    </tr>\n",
       "    <tr>\n",
       "      <th>1</th>\n",
       "      <td>Chris Wallace</td>\n",
       "      <td>02:10</td>\n",
       "      <td>This debate is being conducted under health an...</td>\n",
       "      <td>102</td>\n",
       "    </tr>\n",
       "    <tr>\n",
       "      <th>2</th>\n",
       "      <td>Vice President Joe Biden</td>\n",
       "      <td>02:49</td>\n",
       "      <td>How you doing, man?</td>\n",
       "      <td>4</td>\n",
       "    </tr>\n",
       "    <tr>\n",
       "      <th>3</th>\n",
       "      <td>President Donald J. Trump</td>\n",
       "      <td>02:51</td>\n",
       "      <td>How are you doing?</td>\n",
       "      <td>4</td>\n",
       "    </tr>\n",
       "    <tr>\n",
       "      <th>4</th>\n",
       "      <td>Vice President Joe Biden</td>\n",
       "      <td>02:51</td>\n",
       "      <td>I’m well.</td>\n",
       "      <td>2</td>\n",
       "    </tr>\n",
       "  </tbody>\n",
       "</table>\n",
       "</div>"
      ],
      "text/plain": [
       "                     speaker minute  \\\n",
       "0              Chris Wallace  01:20   \n",
       "1              Chris Wallace  02:10   \n",
       "2   Vice President Joe Biden  02:49   \n",
       "3  President Donald J. Trump  02:51   \n",
       "4   Vice President Joe Biden  02:51   \n",
       "\n",
       "                                                text  word_count  \n",
       "0  Good evening from the Health Education Campus ...         124  \n",
       "1  This debate is being conducted under health an...         102  \n",
       "2                                How you doing, man?           4  \n",
       "3                                 How are you doing?           4  \n",
       "4                                          I’m well.           2  "
      ]
     },
     "execution_count": 18,
     "metadata": {},
     "output_type": "execute_result"
    }
   ],
   "source": [
    "first_debate_df['word_count'] = first_debate_df['text'].apply(lambda x: len(str(x).split(\" \")))\n",
    "first_debate_df.head()"
   ]
  },
  {
   "cell_type": "code",
   "execution_count": 19,
   "metadata": {},
   "outputs": [
    {
     "data": {
      "text/html": [
       "<div>\n",
       "<style scoped>\n",
       "    .dataframe tbody tr th:only-of-type {\n",
       "        vertical-align: middle;\n",
       "    }\n",
       "\n",
       "    .dataframe tbody tr th {\n",
       "        vertical-align: top;\n",
       "    }\n",
       "\n",
       "    .dataframe thead th {\n",
       "        text-align: right;\n",
       "    }\n",
       "</style>\n",
       "<table border=\"1\" class=\"dataframe\">\n",
       "  <thead>\n",
       "    <tr style=\"text-align: right;\">\n",
       "      <th></th>\n",
       "      <th>speaker</th>\n",
       "      <th>minute</th>\n",
       "      <th>text</th>\n",
       "      <th>word_count</th>\n",
       "    </tr>\n",
       "  </thead>\n",
       "  <tbody>\n",
       "    <tr>\n",
       "      <th>0</th>\n",
       "      <td>Kristen Welker</td>\n",
       "      <td>00:18</td>\n",
       "      <td>Good evening, everyone. Good evening. Thank yo...</td>\n",
       "      <td>258</td>\n",
       "    </tr>\n",
       "    <tr>\n",
       "      <th>1</th>\n",
       "      <td>Donald Trump</td>\n",
       "      <td>07:37</td>\n",
       "      <td>How are you doing? How are you?</td>\n",
       "      <td>7</td>\n",
       "    </tr>\n",
       "    <tr>\n",
       "      <th>2</th>\n",
       "      <td>Kristen Welker</td>\n",
       "      <td>07:58</td>\n",
       "      <td>And I do want to say a very good evening to bo...</td>\n",
       "      <td>95</td>\n",
       "    </tr>\n",
       "    <tr>\n",
       "      <th>3</th>\n",
       "      <td>Kristen Welker</td>\n",
       "      <td>08:27</td>\n",
       "      <td>The goal is for you to hear each other and for...</td>\n",
       "      <td>115</td>\n",
       "    </tr>\n",
       "    <tr>\n",
       "      <th>4</th>\n",
       "      <td>Kristen Welker</td>\n",
       "      <td>09:03</td>\n",
       "      <td>… during this next stage of the coronavirus cr...</td>\n",
       "      <td>12</td>\n",
       "    </tr>\n",
       "  </tbody>\n",
       "</table>\n",
       "</div>"
      ],
      "text/plain": [
       "          speaker minute                                               text  \\\n",
       "0  Kristen Welker  00:18  Good evening, everyone. Good evening. Thank yo...   \n",
       "1    Donald Trump  07:37                    How are you doing? How are you?   \n",
       "2  Kristen Welker  07:58  And I do want to say a very good evening to bo...   \n",
       "3  Kristen Welker  08:27  The goal is for you to hear each other and for...   \n",
       "4  Kristen Welker  09:03  … during this next stage of the coronavirus cr...   \n",
       "\n",
       "   word_count  \n",
       "0         258  \n",
       "1           7  \n",
       "2          95  \n",
       "3         115  \n",
       "4          12  "
      ]
     },
     "execution_count": 19,
     "metadata": {},
     "output_type": "execute_result"
    }
   ],
   "source": [
    "second_debate_df['word_count'] = second_debate_df['text'].apply(lambda b: len(str(b).split(\" \")))\n",
    "second_debate_df.head()"
   ]
  },
  {
   "cell_type": "code",
   "execution_count": 26,
   "metadata": {},
   "outputs": [
    {
     "name": "stdout",
     "output_type": "stream",
     "text": [
      "   word_count                                               text\n",
      "0         199  I don’t think you have any law enforcement. Yo...\n",
      "1         192  Gas and oil because the heat will not be going...\n",
      "2         192  Show up and vote. You will determine the outco...\n",
      "3         190  He’s absolutely wrong, number one. Number two,...\n",
      "4         185  Prepare to let people vote. They should go to ...\n"
     ]
    }
   ],
   "source": [
    "## find the word count from bigges to smallest\n",
    "sorted_df = first_debate_df.sort_values(by='word_count', ascending=False)\n",
    "sorted_df = sorted_df.reset_index(drop=True)\n",
    "print(sorted_df[['word_count','text']].head())"
   ]
  },
  {
   "cell_type": "code",
   "execution_count": 34,
   "metadata": {},
   "outputs": [
    {
     "data": {
      "text/plain": [
       "array(['Chris Wallace', 'Vice President Joe Biden',\n",
       "       'President Donald J. Trump', 'Chris Wallace:'], dtype=object)"
      ]
     },
     "execution_count": 34,
     "metadata": {},
     "output_type": "execute_result"
    }
   ],
   "source": [
    "first_debate_df['speaker'].unique()"
   ]
  },
  {
   "cell_type": "code",
   "execution_count": 35,
   "metadata": {},
   "outputs": [
    {
     "data": {
      "text/plain": [
       "array(['Kristen Welker', 'Donald Trump', 'Joe Biden'], dtype=object)"
      ]
     },
     "execution_count": 35,
     "metadata": {},
     "output_type": "execute_result"
    }
   ],
   "source": [
    "second_debate_df['speaker'].unique()"
   ]
  },
  {
   "cell_type": "code",
   "execution_count": 36,
   "metadata": {},
   "outputs": [],
   "source": [
    "first_debate_df.loc[first_debate_df.speaker.str.contains('Chris Wallace:'), 'speaker'] = 'Chris Wallace'"
   ]
  },
  {
   "cell_type": "code",
   "execution_count": 37,
   "metadata": {},
   "outputs": [
    {
     "data": {
      "text/plain": [
       "array(['Chris Wallace', 'Vice President Joe Biden',\n",
       "       'President Donald J. Trump'], dtype=object)"
      ]
     },
     "execution_count": 37,
     "metadata": {},
     "output_type": "execute_result"
    }
   ],
   "source": [
    "first_debate_df['speaker'].unique()"
   ]
  },
  {
   "cell_type": "code",
   "execution_count": null,
   "metadata": {},
   "outputs": [],
   "source": [
    "# split by speaker\n",
    "df_CW = first_debate_df[first_debate_df.speaker=='Chris Wallace']\n",
    "df_JB = first_debate_df[first_debate_df.speaker=='Vice President Joe Biden']\n",
    "df_DT = first_debate_df[first_debate_df.speaker=='President Donald J. Trump']"
   ]
  }
 ],
 "metadata": {
  "kernelspec": {
   "display_name": ".venv",
   "language": "python",
   "name": "python3"
  },
  "language_info": {
   "codemirror_mode": {
    "name": "ipython",
    "version": 3
   },
   "file_extension": ".py",
   "mimetype": "text/x-python",
   "name": "python",
   "nbconvert_exporter": "python",
   "pygments_lexer": "ipython3",
   "version": "3.10.12"
  }
 },
 "nbformat": 4,
 "nbformat_minor": 2
}
