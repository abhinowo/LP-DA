{
 "cells": [
  {
   "cell_type": "markdown",
   "metadata": {},
   "source": [
    "# Introduction \n",
    "\n",
    "So i just want to try things i havent tried in a while, yep thats right. its using twitter for sentiment analysis. I got this dataset from kaggle and this notebook is a few adjustment i made it from other participants that submit it on kaggle. Feel free to give me any feedback from this notebook! :)"
   ]
  },
  {
   "cell_type": "code",
   "execution_count": 1,
   "metadata": {},
   "outputs": [
    {
     "name": "stdout",
     "output_type": "stream",
     "text": [
      "Warning: Your Kaggle API key is readable by other users on this system! To fix this, you can run 'chmod 600 /home/abhinowo/.kaggle/kaggle.json'\n",
      "Downloading us-election-2020-tweets.zip to rogressbar\n",
      "  0%|                                                | 0.00/353M [00:00<?, ?B/s]^C\n",
      "  0%|                                                | 0.00/353M [00:00<?, ?B/s]\n",
      "User cancelled operation\n"
     ]
    }
   ],
   "source": [
    "!kaggle datasets download -d manchunhui/us-election-2020-tweets -progressbar"
   ]
  },
  {
   "cell_type": "code",
   "execution_count": 7,
   "metadata": {},
   "outputs": [
    {
     "name": "stdout",
     "output_type": "stream",
     "text": [
      "Archive:  us-election-2020-tweets.zip\n",
      "  inflating: hashtag_donaldtrump.csv  \n",
      "  inflating: hashtag_joebiden.csv    \n"
     ]
    }
   ],
   "source": [
    "## unzip data from data_input\n",
    "!unzip us-election-2020-tweets.zip "
   ]
  },
  {
   "cell_type": "markdown",
   "metadata": {},
   "source": [
    "## 1.1 Data preparation\n",
    "\n",
    "Lets import some library"
   ]
  },
  {
   "cell_type": "code",
   "execution_count": 51,
   "metadata": {},
   "outputs": [],
   "source": [
    "import numpy as np\n",
    "import pandas as pd\n",
    "import matplotlib.pyplot as plt\n",
    "import seaborn as sns"
   ]
  },
  {
   "cell_type": "code",
   "execution_count": 2,
   "metadata": {},
   "outputs": [],
   "source": [
    "from pathlib import Path\n",
    "\n",
    "output = '../output'\n",
    "Path(output).mkdir(exist_ok=True, parents=True)"
   ]
  },
  {
   "cell_type": "markdown",
   "metadata": {},
   "source": [
    "## 1.2 Data Exploration\n",
    "\n",
    "trying to understand the data better, so i took this approach.\n",
    "- p.s most of the time everyone use this approach as well"
   ]
  },
  {
   "cell_type": "code",
   "execution_count": 3,
   "metadata": {},
   "outputs": [],
   "source": [
    "trump_df = pd.read_csv('./data_input/hashtag_donaldtrump.csv', lineterminator='\\n')\n",
    "biden_df = pd.read_csv('./data_input/hashtag_joebiden.csv', lineterminator='\\n')"
   ]
  },
  {
   "cell_type": "code",
   "execution_count": 4,
   "metadata": {},
   "outputs": [
    {
     "data": {
      "text/html": [
       "<div>\n",
       "<style scoped>\n",
       "    .dataframe tbody tr th:only-of-type {\n",
       "        vertical-align: middle;\n",
       "    }\n",
       "\n",
       "    .dataframe tbody tr th {\n",
       "        vertical-align: top;\n",
       "    }\n",
       "\n",
       "    .dataframe thead th {\n",
       "        text-align: right;\n",
       "    }\n",
       "</style>\n",
       "<table border=\"1\" class=\"dataframe\">\n",
       "  <thead>\n",
       "    <tr style=\"text-align: right;\">\n",
       "      <th></th>\n",
       "      <th>created_at</th>\n",
       "      <th>tweet_id</th>\n",
       "      <th>tweet</th>\n",
       "      <th>likes</th>\n",
       "      <th>retweet_count</th>\n",
       "      <th>source</th>\n",
       "      <th>user_id</th>\n",
       "      <th>user_name</th>\n",
       "      <th>user_screen_name</th>\n",
       "      <th>user_description</th>\n",
       "      <th>...</th>\n",
       "      <th>user_followers_count</th>\n",
       "      <th>user_location</th>\n",
       "      <th>lat</th>\n",
       "      <th>long</th>\n",
       "      <th>city</th>\n",
       "      <th>country</th>\n",
       "      <th>continent</th>\n",
       "      <th>state</th>\n",
       "      <th>state_code</th>\n",
       "      <th>collected_at</th>\n",
       "    </tr>\n",
       "  </thead>\n",
       "  <tbody>\n",
       "    <tr>\n",
       "      <th>0</th>\n",
       "      <td>2020-10-15 00:00:01</td>\n",
       "      <td>1.316529e+18</td>\n",
       "      <td>#Elecciones2020 | En #Florida: #JoeBiden dice ...</td>\n",
       "      <td>0.0</td>\n",
       "      <td>0.0</td>\n",
       "      <td>TweetDeck</td>\n",
       "      <td>3.606665e+08</td>\n",
       "      <td>El Sol Latino News</td>\n",
       "      <td>elsollatinonews</td>\n",
       "      <td>🌐 Noticias de interés para latinos de la costa...</td>\n",
       "      <td>...</td>\n",
       "      <td>1860.0</td>\n",
       "      <td>Philadelphia, PA / Miami, FL</td>\n",
       "      <td>25.774270</td>\n",
       "      <td>-80.193660</td>\n",
       "      <td>NaN</td>\n",
       "      <td>United States of America</td>\n",
       "      <td>North America</td>\n",
       "      <td>Florida</td>\n",
       "      <td>FL</td>\n",
       "      <td>2020-10-21 00:00:00</td>\n",
       "    </tr>\n",
       "    <tr>\n",
       "      <th>1</th>\n",
       "      <td>2020-10-15 00:00:01</td>\n",
       "      <td>1.316529e+18</td>\n",
       "      <td>Usa 2020, Trump contro Facebook e Twitter: cop...</td>\n",
       "      <td>26.0</td>\n",
       "      <td>9.0</td>\n",
       "      <td>Social Mediaset</td>\n",
       "      <td>3.316176e+08</td>\n",
       "      <td>Tgcom24</td>\n",
       "      <td>MediasetTgcom24</td>\n",
       "      <td>Profilo ufficiale di Tgcom24: tutte le notizie...</td>\n",
       "      <td>...</td>\n",
       "      <td>1067661.0</td>\n",
       "      <td>NaN</td>\n",
       "      <td>NaN</td>\n",
       "      <td>NaN</td>\n",
       "      <td>NaN</td>\n",
       "      <td>NaN</td>\n",
       "      <td>NaN</td>\n",
       "      <td>NaN</td>\n",
       "      <td>NaN</td>\n",
       "      <td>2020-10-21 00:00:00.373216530</td>\n",
       "    </tr>\n",
       "    <tr>\n",
       "      <th>2</th>\n",
       "      <td>2020-10-15 00:00:02</td>\n",
       "      <td>1.316529e+18</td>\n",
       "      <td>#Trump: As a student I used to hear for years,...</td>\n",
       "      <td>2.0</td>\n",
       "      <td>1.0</td>\n",
       "      <td>Twitter Web App</td>\n",
       "      <td>8.436472e+06</td>\n",
       "      <td>snarke</td>\n",
       "      <td>snarke</td>\n",
       "      <td>Will mock for food! Freelance writer, blogger,...</td>\n",
       "      <td>...</td>\n",
       "      <td>1185.0</td>\n",
       "      <td>Portland</td>\n",
       "      <td>45.520247</td>\n",
       "      <td>-122.674195</td>\n",
       "      <td>Portland</td>\n",
       "      <td>United States of America</td>\n",
       "      <td>North America</td>\n",
       "      <td>Oregon</td>\n",
       "      <td>OR</td>\n",
       "      <td>2020-10-21 00:00:00.746433060</td>\n",
       "    </tr>\n",
       "    <tr>\n",
       "      <th>3</th>\n",
       "      <td>2020-10-15 00:00:02</td>\n",
       "      <td>1.316529e+18</td>\n",
       "      <td>2 hours since last tweet from #Trump! Maybe he...</td>\n",
       "      <td>0.0</td>\n",
       "      <td>0.0</td>\n",
       "      <td>Trumpytweeter</td>\n",
       "      <td>8.283556e+17</td>\n",
       "      <td>Trumpytweeter</td>\n",
       "      <td>trumpytweeter</td>\n",
       "      <td>If he doesn't tweet for some time, should we b...</td>\n",
       "      <td>...</td>\n",
       "      <td>32.0</td>\n",
       "      <td>NaN</td>\n",
       "      <td>NaN</td>\n",
       "      <td>NaN</td>\n",
       "      <td>NaN</td>\n",
       "      <td>NaN</td>\n",
       "      <td>NaN</td>\n",
       "      <td>NaN</td>\n",
       "      <td>NaN</td>\n",
       "      <td>2020-10-21 00:00:01.119649591</td>\n",
       "    </tr>\n",
       "    <tr>\n",
       "      <th>4</th>\n",
       "      <td>2020-10-15 00:00:08</td>\n",
       "      <td>1.316529e+18</td>\n",
       "      <td>You get a tie! And you get a tie! #Trump ‘s ra...</td>\n",
       "      <td>4.0</td>\n",
       "      <td>3.0</td>\n",
       "      <td>Twitter for iPhone</td>\n",
       "      <td>4.741380e+07</td>\n",
       "      <td>Rana Abtar - رنا أبتر</td>\n",
       "      <td>Ranaabtar</td>\n",
       "      <td>Washington Correspondent, Lebanese-American ,c...</td>\n",
       "      <td>...</td>\n",
       "      <td>5393.0</td>\n",
       "      <td>Washington DC</td>\n",
       "      <td>38.894992</td>\n",
       "      <td>-77.036558</td>\n",
       "      <td>Washington</td>\n",
       "      <td>United States of America</td>\n",
       "      <td>North America</td>\n",
       "      <td>District of Columbia</td>\n",
       "      <td>DC</td>\n",
       "      <td>2020-10-21 00:00:01.492866121</td>\n",
       "    </tr>\n",
       "  </tbody>\n",
       "</table>\n",
       "<p>5 rows × 21 columns</p>\n",
       "</div>"
      ],
      "text/plain": [
       "            created_at      tweet_id  \\\n",
       "0  2020-10-15 00:00:01  1.316529e+18   \n",
       "1  2020-10-15 00:00:01  1.316529e+18   \n",
       "2  2020-10-15 00:00:02  1.316529e+18   \n",
       "3  2020-10-15 00:00:02  1.316529e+18   \n",
       "4  2020-10-15 00:00:08  1.316529e+18   \n",
       "\n",
       "                                               tweet  likes  retweet_count  \\\n",
       "0  #Elecciones2020 | En #Florida: #JoeBiden dice ...    0.0            0.0   \n",
       "1  Usa 2020, Trump contro Facebook e Twitter: cop...   26.0            9.0   \n",
       "2  #Trump: As a student I used to hear for years,...    2.0            1.0   \n",
       "3  2 hours since last tweet from #Trump! Maybe he...    0.0            0.0   \n",
       "4  You get a tie! And you get a tie! #Trump ‘s ra...    4.0            3.0   \n",
       "\n",
       "               source       user_id              user_name user_screen_name  \\\n",
       "0           TweetDeck  3.606665e+08     El Sol Latino News  elsollatinonews   \n",
       "1    Social Mediaset   3.316176e+08                Tgcom24  MediasetTgcom24   \n",
       "2     Twitter Web App  8.436472e+06                 snarke           snarke   \n",
       "3       Trumpytweeter  8.283556e+17          Trumpytweeter    trumpytweeter   \n",
       "4  Twitter for iPhone  4.741380e+07  Rana Abtar - رنا أبتر        Ranaabtar   \n",
       "\n",
       "                                    user_description  ...  \\\n",
       "0  🌐 Noticias de interés para latinos de la costa...  ...   \n",
       "1  Profilo ufficiale di Tgcom24: tutte le notizie...  ...   \n",
       "2  Will mock for food! Freelance writer, blogger,...  ...   \n",
       "3  If he doesn't tweet for some time, should we b...  ...   \n",
       "4  Washington Correspondent, Lebanese-American ,c...  ...   \n",
       "\n",
       "  user_followers_count                 user_location        lat        long  \\\n",
       "0               1860.0  Philadelphia, PA / Miami, FL  25.774270  -80.193660   \n",
       "1            1067661.0                           NaN        NaN         NaN   \n",
       "2               1185.0                      Portland  45.520247 -122.674195   \n",
       "3                 32.0                           NaN        NaN         NaN   \n",
       "4               5393.0                 Washington DC  38.894992  -77.036558   \n",
       "\n",
       "         city                   country      continent                 state  \\\n",
       "0         NaN  United States of America  North America               Florida   \n",
       "1         NaN                       NaN            NaN                   NaN   \n",
       "2    Portland  United States of America  North America                Oregon   \n",
       "3         NaN                       NaN            NaN                   NaN   \n",
       "4  Washington  United States of America  North America  District of Columbia   \n",
       "\n",
       "  state_code                   collected_at  \n",
       "0         FL            2020-10-21 00:00:00  \n",
       "1        NaN  2020-10-21 00:00:00.373216530  \n",
       "2         OR  2020-10-21 00:00:00.746433060  \n",
       "3        NaN  2020-10-21 00:00:01.119649591  \n",
       "4         DC  2020-10-21 00:00:01.492866121  \n",
       "\n",
       "[5 rows x 21 columns]"
      ]
     },
     "execution_count": 4,
     "metadata": {},
     "output_type": "execute_result"
    }
   ],
   "source": [
    "trump_df.head()"
   ]
  },
  {
   "cell_type": "code",
   "execution_count": 5,
   "metadata": {},
   "outputs": [
    {
     "data": {
      "text/html": [
       "<div>\n",
       "<style scoped>\n",
       "    .dataframe tbody tr th:only-of-type {\n",
       "        vertical-align: middle;\n",
       "    }\n",
       "\n",
       "    .dataframe tbody tr th {\n",
       "        vertical-align: top;\n",
       "    }\n",
       "\n",
       "    .dataframe thead th {\n",
       "        text-align: right;\n",
       "    }\n",
       "</style>\n",
       "<table border=\"1\" class=\"dataframe\">\n",
       "  <thead>\n",
       "    <tr style=\"text-align: right;\">\n",
       "      <th></th>\n",
       "      <th>created_at</th>\n",
       "      <th>tweet_id</th>\n",
       "      <th>tweet</th>\n",
       "      <th>likes</th>\n",
       "      <th>retweet_count</th>\n",
       "      <th>source</th>\n",
       "      <th>user_id</th>\n",
       "      <th>user_name</th>\n",
       "      <th>user_screen_name</th>\n",
       "      <th>user_description</th>\n",
       "      <th>...</th>\n",
       "      <th>user_followers_count</th>\n",
       "      <th>user_location</th>\n",
       "      <th>lat</th>\n",
       "      <th>long</th>\n",
       "      <th>city</th>\n",
       "      <th>country</th>\n",
       "      <th>continent</th>\n",
       "      <th>state</th>\n",
       "      <th>state_code</th>\n",
       "      <th>collected_at</th>\n",
       "    </tr>\n",
       "  </thead>\n",
       "  <tbody>\n",
       "    <tr>\n",
       "      <th>0</th>\n",
       "      <td>2020-10-15 00:00:01</td>\n",
       "      <td>1.316529e+18</td>\n",
       "      <td>#Elecciones2020 | En #Florida: #JoeBiden dice ...</td>\n",
       "      <td>0.0</td>\n",
       "      <td>0.0</td>\n",
       "      <td>TweetDeck</td>\n",
       "      <td>3.606665e+08</td>\n",
       "      <td>El Sol Latino News</td>\n",
       "      <td>elsollatinonews</td>\n",
       "      <td>🌐 Noticias de interés para latinos de la costa...</td>\n",
       "      <td>...</td>\n",
       "      <td>1860.0</td>\n",
       "      <td>Philadelphia, PA / Miami, FL</td>\n",
       "      <td>25.774270</td>\n",
       "      <td>-80.193660</td>\n",
       "      <td>NaN</td>\n",
       "      <td>United States of America</td>\n",
       "      <td>North America</td>\n",
       "      <td>Florida</td>\n",
       "      <td>FL</td>\n",
       "      <td>2020-10-21 00:00:00</td>\n",
       "    </tr>\n",
       "    <tr>\n",
       "      <th>1</th>\n",
       "      <td>2020-10-15 00:00:18</td>\n",
       "      <td>1.316529e+18</td>\n",
       "      <td>#HunterBiden #HunterBidenEmails #JoeBiden #Joe...</td>\n",
       "      <td>0.0</td>\n",
       "      <td>0.0</td>\n",
       "      <td>Twitter for iPad</td>\n",
       "      <td>8.099044e+08</td>\n",
       "      <td>Cheri A. 🇺🇸</td>\n",
       "      <td>Biloximeemaw</td>\n",
       "      <td>Locked and loaded Meemaw. Love God, my family ...</td>\n",
       "      <td>...</td>\n",
       "      <td>6628.0</td>\n",
       "      <td>NaN</td>\n",
       "      <td>NaN</td>\n",
       "      <td>NaN</td>\n",
       "      <td>NaN</td>\n",
       "      <td>NaN</td>\n",
       "      <td>NaN</td>\n",
       "      <td>NaN</td>\n",
       "      <td>NaN</td>\n",
       "      <td>2020-10-21 00:00:00.517827283</td>\n",
       "    </tr>\n",
       "    <tr>\n",
       "      <th>2</th>\n",
       "      <td>2020-10-15 00:00:20</td>\n",
       "      <td>1.316529e+18</td>\n",
       "      <td>@IslandGirlPRV @BradBeauregardJ @MeidasTouch T...</td>\n",
       "      <td>0.0</td>\n",
       "      <td>0.0</td>\n",
       "      <td>Twitter Web App</td>\n",
       "      <td>3.494182e+09</td>\n",
       "      <td>Flag Waver</td>\n",
       "      <td>Flag_Wavers</td>\n",
       "      <td>NaN</td>\n",
       "      <td>...</td>\n",
       "      <td>1536.0</td>\n",
       "      <td>Golden Valley Arizona</td>\n",
       "      <td>46.304036</td>\n",
       "      <td>-109.171431</td>\n",
       "      <td>NaN</td>\n",
       "      <td>United States of America</td>\n",
       "      <td>North America</td>\n",
       "      <td>Montana</td>\n",
       "      <td>MT</td>\n",
       "      <td>2020-10-21 00:00:01.035654566</td>\n",
       "    </tr>\n",
       "    <tr>\n",
       "      <th>3</th>\n",
       "      <td>2020-10-15 00:00:21</td>\n",
       "      <td>1.316529e+18</td>\n",
       "      <td>@chrislongview Watching and setting dvr. Let’s...</td>\n",
       "      <td>0.0</td>\n",
       "      <td>0.0</td>\n",
       "      <td>Twitter for iPhone</td>\n",
       "      <td>8.242596e+17</td>\n",
       "      <td>Michelle Ferg</td>\n",
       "      <td>MichelleFerg4</td>\n",
       "      <td>NaN</td>\n",
       "      <td>...</td>\n",
       "      <td>27.0</td>\n",
       "      <td>NaN</td>\n",
       "      <td>NaN</td>\n",
       "      <td>NaN</td>\n",
       "      <td>NaN</td>\n",
       "      <td>NaN</td>\n",
       "      <td>NaN</td>\n",
       "      <td>NaN</td>\n",
       "      <td>NaN</td>\n",
       "      <td>2020-10-21 00:00:01.553481849</td>\n",
       "    </tr>\n",
       "    <tr>\n",
       "      <th>4</th>\n",
       "      <td>2020-10-15 00:00:22</td>\n",
       "      <td>1.316529e+18</td>\n",
       "      <td>#censorship #HunterBiden #Biden #BidenEmails #...</td>\n",
       "      <td>1.0</td>\n",
       "      <td>0.0</td>\n",
       "      <td>Twitter Web App</td>\n",
       "      <td>1.032807e+18</td>\n",
       "      <td>the Gold State</td>\n",
       "      <td>theegoldstate</td>\n",
       "      <td>A Silicon Valley #independent #News #Media #St...</td>\n",
       "      <td>...</td>\n",
       "      <td>390.0</td>\n",
       "      <td>California, USA</td>\n",
       "      <td>36.701463</td>\n",
       "      <td>-118.755997</td>\n",
       "      <td>NaN</td>\n",
       "      <td>United States of America</td>\n",
       "      <td>North America</td>\n",
       "      <td>California</td>\n",
       "      <td>CA</td>\n",
       "      <td>2020-10-21 00:00:02.071309132</td>\n",
       "    </tr>\n",
       "  </tbody>\n",
       "</table>\n",
       "<p>5 rows × 21 columns</p>\n",
       "</div>"
      ],
      "text/plain": [
       "            created_at      tweet_id  \\\n",
       "0  2020-10-15 00:00:01  1.316529e+18   \n",
       "1  2020-10-15 00:00:18  1.316529e+18   \n",
       "2  2020-10-15 00:00:20  1.316529e+18   \n",
       "3  2020-10-15 00:00:21  1.316529e+18   \n",
       "4  2020-10-15 00:00:22  1.316529e+18   \n",
       "\n",
       "                                               tweet  likes  retweet_count  \\\n",
       "0  #Elecciones2020 | En #Florida: #JoeBiden dice ...    0.0            0.0   \n",
       "1  #HunterBiden #HunterBidenEmails #JoeBiden #Joe...    0.0            0.0   \n",
       "2  @IslandGirlPRV @BradBeauregardJ @MeidasTouch T...    0.0            0.0   \n",
       "3  @chrislongview Watching and setting dvr. Let’s...    0.0            0.0   \n",
       "4  #censorship #HunterBiden #Biden #BidenEmails #...    1.0            0.0   \n",
       "\n",
       "               source       user_id           user_name user_screen_name  \\\n",
       "0           TweetDeck  3.606665e+08  El Sol Latino News  elsollatinonews   \n",
       "1    Twitter for iPad  8.099044e+08         Cheri A. 🇺🇸     Biloximeemaw   \n",
       "2     Twitter Web App  3.494182e+09          Flag Waver      Flag_Wavers   \n",
       "3  Twitter for iPhone  8.242596e+17       Michelle Ferg    MichelleFerg4   \n",
       "4     Twitter Web App  1.032807e+18      the Gold State    theegoldstate   \n",
       "\n",
       "                                    user_description  ...  \\\n",
       "0  🌐 Noticias de interés para latinos de la costa...  ...   \n",
       "1  Locked and loaded Meemaw. Love God, my family ...  ...   \n",
       "2                                                NaN  ...   \n",
       "3                                                NaN  ...   \n",
       "4  A Silicon Valley #independent #News #Media #St...  ...   \n",
       "\n",
       "  user_followers_count                 user_location        lat        long  \\\n",
       "0               1860.0  Philadelphia, PA / Miami, FL  25.774270  -80.193660   \n",
       "1               6628.0                           NaN        NaN         NaN   \n",
       "2               1536.0         Golden Valley Arizona  46.304036 -109.171431   \n",
       "3                 27.0                           NaN        NaN         NaN   \n",
       "4                390.0               California, USA  36.701463 -118.755997   \n",
       "\n",
       "   city                   country      continent       state state_code  \\\n",
       "0   NaN  United States of America  North America     Florida         FL   \n",
       "1   NaN                       NaN            NaN         NaN        NaN   \n",
       "2   NaN  United States of America  North America     Montana         MT   \n",
       "3   NaN                       NaN            NaN         NaN        NaN   \n",
       "4   NaN  United States of America  North America  California         CA   \n",
       "\n",
       "                    collected_at  \n",
       "0            2020-10-21 00:00:00  \n",
       "1  2020-10-21 00:00:00.517827283  \n",
       "2  2020-10-21 00:00:01.035654566  \n",
       "3  2020-10-21 00:00:01.553481849  \n",
       "4  2020-10-21 00:00:02.071309132  \n",
       "\n",
       "[5 rows x 21 columns]"
      ]
     },
     "execution_count": 5,
     "metadata": {},
     "output_type": "execute_result"
    }
   ],
   "source": [
    "biden_df.head()"
   ]
  },
  {
   "cell_type": "code",
   "execution_count": 6,
   "metadata": {},
   "outputs": [
    {
     "name": "stdout",
     "output_type": "stream",
     "text": [
      "Total number of records in Trump dataset: (970919, 21)\n",
      "Total number of records in Biden dataset: (776886, 21)\n"
     ]
    }
   ],
   "source": [
    "print('Total number of records in Trump dataset:', trump_df.shape)\n",
    "print('Total number of records in Biden dataset:', biden_df.shape)"
   ]
  },
  {
   "cell_type": "code",
   "execution_count": 7,
   "metadata": {},
   "outputs": [
    {
     "name": "stdout",
     "output_type": "stream",
     "text": [
      "Initial counts:\n",
      "Total number of records in Trump dataset: 970919\n",
      "Total number of records in Biden dataset: 776886\n"
     ]
    }
   ],
   "source": [
    "trump_initial_count = trump_df.shape[0]\n",
    "biden_initial_count = biden_df.shape[0]\n",
    "\n",
    "print('Initial counts:')\n",
    "print('Total number of records in Trump dataset:', trump_initial_count)\n",
    "print('Total number of records in Biden dataset:', biden_initial_count)"
   ]
  },
  {
   "cell_type": "code",
   "execution_count": 8,
   "metadata": {},
   "outputs": [
    {
     "name": "stdout",
     "output_type": "stream",
     "text": [
      "<class 'pandas.core.frame.DataFrame'>\n",
      "RangeIndex: 970919 entries, 0 to 970918\n",
      "Data columns (total 21 columns):\n",
      " #   Column                Non-Null Count   Dtype  \n",
      "---  ------                --------------   -----  \n",
      " 0   created_at            970919 non-null  object \n",
      " 1   tweet_id              970919 non-null  float64\n",
      " 2   tweet                 970919 non-null  object \n",
      " 3   likes                 970919 non-null  float64\n",
      " 4   retweet_count         970919 non-null  float64\n",
      " 5   source                970043 non-null  object \n",
      " 6   user_id               970919 non-null  float64\n",
      " 7   user_name             970897 non-null  object \n",
      " 8   user_screen_name      970919 non-null  object \n",
      " 9   user_description      869651 non-null  object \n",
      " 10  user_join_date        970919 non-null  object \n",
      " 11  user_followers_count  970919 non-null  float64\n",
      " 12  user_location         675957 non-null  object \n",
      " 13  lat                   445719 non-null  float64\n",
      " 14  long                  445719 non-null  float64\n",
      " 15  city                  227187 non-null  object \n",
      " 16  country               442748 non-null  object \n",
      " 17  continent             442765 non-null  object \n",
      " 18  state                 320620 non-null  object \n",
      " 19  state_code            300425 non-null  object \n",
      " 20  collected_at          970919 non-null  object \n",
      "dtypes: float64(7), object(14)\n",
      "memory usage: 155.6+ MB\n"
     ]
    }
   ],
   "source": [
    "trump_df.info()"
   ]
  },
  {
   "cell_type": "code",
   "execution_count": 9,
   "metadata": {},
   "outputs": [
    {
     "data": {
      "text/plain": [
       "created_at                   0\n",
       "tweet_id                     0\n",
       "tweet                        0\n",
       "likes                        0\n",
       "retweet_count                0\n",
       "source                     876\n",
       "user_id                      0\n",
       "user_name                   22\n",
       "user_screen_name             0\n",
       "user_description        101268\n",
       "user_join_date               0\n",
       "user_followers_count         0\n",
       "user_location           294962\n",
       "lat                     525200\n",
       "long                    525200\n",
       "city                    743732\n",
       "country                 528171\n",
       "continent               528154\n",
       "state                   650299\n",
       "state_code              670494\n",
       "collected_at                 0\n",
       "dtype: int64"
      ]
     },
     "execution_count": 9,
     "metadata": {},
     "output_type": "execute_result"
    }
   ],
   "source": [
    "# check for null values\n",
    "trump_df.isnull().sum()"
   ]
  },
  {
   "cell_type": "code",
   "execution_count": 10,
   "metadata": {},
   "outputs": [
    {
     "name": "stdout",
     "output_type": "stream",
     "text": [
      "<class 'pandas.core.frame.DataFrame'>\n",
      "RangeIndex: 776886 entries, 0 to 776885\n",
      "Data columns (total 21 columns):\n",
      " #   Column                Non-Null Count   Dtype  \n",
      "---  ------                --------------   -----  \n",
      " 0   created_at            776886 non-null  object \n",
      " 1   tweet_id              776886 non-null  float64\n",
      " 2   tweet                 776886 non-null  object \n",
      " 3   likes                 776886 non-null  float64\n",
      " 4   retweet_count         776886 non-null  float64\n",
      " 5   source                776173 non-null  object \n",
      " 6   user_id               776886 non-null  float64\n",
      " 7   user_name             776861 non-null  object \n",
      " 8   user_screen_name      776886 non-null  object \n",
      " 9   user_description      694877 non-null  object \n",
      " 10  user_join_date        776886 non-null  object \n",
      " 11  user_followers_count  776886 non-null  float64\n",
      " 12  user_location         543092 non-null  object \n",
      " 13  lat                   355293 non-null  float64\n",
      " 14  long                  355293 non-null  float64\n",
      " 15  city                  186872 non-null  object \n",
      " 16  country               353779 non-null  object \n",
      " 17  continent             353797 non-null  object \n",
      " 18  state                 260195 non-null  object \n",
      " 19  state_code            244609 non-null  object \n",
      " 20  collected_at          776886 non-null  object \n",
      "dtypes: float64(7), object(14)\n",
      "memory usage: 124.5+ MB\n"
     ]
    }
   ],
   "source": [
    "biden_df.info()"
   ]
  },
  {
   "cell_type": "code",
   "execution_count": 11,
   "metadata": {},
   "outputs": [
    {
     "data": {
      "text/plain": [
       "created_at                   0\n",
       "tweet_id                     0\n",
       "tweet                        0\n",
       "likes                        0\n",
       "retweet_count                0\n",
       "source                     713\n",
       "user_id                      0\n",
       "user_name                   25\n",
       "user_screen_name             0\n",
       "user_description         82009\n",
       "user_join_date               0\n",
       "user_followers_count         0\n",
       "user_location           233794\n",
       "lat                     421593\n",
       "long                    421593\n",
       "city                    590014\n",
       "country                 423107\n",
       "continent               423089\n",
       "state                   516691\n",
       "state_code              532277\n",
       "collected_at                 0\n",
       "dtype: int64"
      ]
     },
     "execution_count": 11,
     "metadata": {},
     "output_type": "execute_result"
    }
   ],
   "source": [
    "#check for null values in Biden dataset\n",
    "biden_df.isnull().sum()"
   ]
  },
  {
   "cell_type": "markdown",
   "metadata": {},
   "source": [
    "# 1.3 Data Wrangling \n",
    "\n",
    "so we have seen the data, and we know that we dont need all of them for our analysis. We can try to sort things up by removing unncessary columns also dropping the null values\n",
    "- p.s it may not good for us to drop the null rows like this. but because we have this much data i believe its kinda ok to do it "
   ]
  },
  {
   "cell_type": "code",
   "execution_count": 12,
   "metadata": {},
   "outputs": [],
   "source": [
    "# remove unnecessary columns\n",
    "irrelevant_columns = ['source', 'user_name','user_screen_name','user_description','user_join_date','collected_at']\n",
    "\n",
    "trump_df = trump_df.drop(columns=irrelevant_columns)\n",
    "biden_df = biden_df.drop(columns=irrelevant_columns)"
   ]
  },
  {
   "cell_type": "code",
   "execution_count": 13,
   "metadata": {},
   "outputs": [],
   "source": [
    "# drop null rows\n",
    "trump_df = trump_df.dropna()\n",
    "biden_df = biden_df.dropna()"
   ]
  },
  {
   "cell_type": "code",
   "execution_count": 14,
   "metadata": {},
   "outputs": [
    {
     "name": "stdout",
     "output_type": "stream",
     "text": [
      "<class 'pandas.core.frame.DataFrame'>\n",
      "Index: 199303 entries, 2 to 970912\n",
      "Data columns (total 15 columns):\n",
      " #   Column                Non-Null Count   Dtype  \n",
      "---  ------                --------------   -----  \n",
      " 0   created_at            199303 non-null  object \n",
      " 1   tweet_id              199303 non-null  float64\n",
      " 2   tweet                 199303 non-null  object \n",
      " 3   likes                 199303 non-null  float64\n",
      " 4   retweet_count         199303 non-null  float64\n",
      " 5   user_id               199303 non-null  float64\n",
      " 6   user_followers_count  199303 non-null  float64\n",
      " 7   user_location         199303 non-null  object \n",
      " 8   lat                   199303 non-null  float64\n",
      " 9   long                  199303 non-null  float64\n",
      " 10  city                  199303 non-null  object \n",
      " 11  country               199303 non-null  object \n",
      " 12  continent             199303 non-null  object \n",
      " 13  state                 199303 non-null  object \n",
      " 14  state_code            199303 non-null  object \n",
      "dtypes: float64(7), object(8)\n",
      "memory usage: 24.3+ MB\n"
     ]
    }
   ],
   "source": [
    "trump_df.info()"
   ]
  },
  {
   "cell_type": "code",
   "execution_count": 15,
   "metadata": {},
   "outputs": [
    {
     "name": "stdout",
     "output_type": "stream",
     "text": [
      "<class 'pandas.core.frame.DataFrame'>\n",
      "Index: 164751 entries, 6 to 776881\n",
      "Data columns (total 15 columns):\n",
      " #   Column                Non-Null Count   Dtype  \n",
      "---  ------                --------------   -----  \n",
      " 0   created_at            164751 non-null  object \n",
      " 1   tweet_id              164751 non-null  float64\n",
      " 2   tweet                 164751 non-null  object \n",
      " 3   likes                 164751 non-null  float64\n",
      " 4   retweet_count         164751 non-null  float64\n",
      " 5   user_id               164751 non-null  float64\n",
      " 6   user_followers_count  164751 non-null  float64\n",
      " 7   user_location         164751 non-null  object \n",
      " 8   lat                   164751 non-null  float64\n",
      " 9   long                  164751 non-null  float64\n",
      " 10  city                  164751 non-null  object \n",
      " 11  country               164751 non-null  object \n",
      " 12  continent             164751 non-null  object \n",
      " 13  state                 164751 non-null  object \n",
      " 14  state_code            164751 non-null  object \n",
      "dtypes: float64(7), object(8)\n",
      "memory usage: 20.1+ MB\n"
     ]
    }
   ],
   "source": [
    "biden_df.info()"
   ]
  },
  {
   "cell_type": "code",
   "execution_count": 16,
   "metadata": {},
   "outputs": [
    {
     "name": "stdout",
     "output_type": "stream",
     "text": [
      "Trump data (199303, 15)\n",
      "Biden data (164751, 15)\n"
     ]
    }
   ],
   "source": [
    "print('Trump data', trump_df.shape)\n",
    "print('Biden data', biden_df.shape)"
   ]
  },
  {
   "cell_type": "markdown",
   "metadata": {},
   "source": [
    "## 1.3 Localization"
   ]
  },
  {
   "cell_type": "code",
   "execution_count": 17,
   "metadata": {},
   "outputs": [
    {
     "data": {
      "text/plain": [
       "country\n",
       "United States of America    101967\n",
       "United Kingdom               20031\n",
       "Germany                      12115\n",
       "France                       11892\n",
       "Canada                       10809\n",
       "India                        10032\n",
       "Australia                     5415\n",
       "The Netherlands               5098\n",
       "Spain                         3186\n",
       "Brazil                        2339\n",
       "Pakistan                      1817\n",
       "Italy                         1806\n",
       "Bangladesh                    1388\n",
       "Ireland                       1278\n",
       "Belgium                       1158\n",
       "Mexico                        1094\n",
       "Nigeria                       1086\n",
       "South Africa                  1014\n",
       "Switzerland                    942\n",
       "United Arab Emirates           766\n",
       "Peru                           626\n",
       "Lebanon                        504\n",
       "Ecuador                        497\n",
       "Argentina                      419\n",
       "Colombia                       329\n",
       "Honduras                       256\n",
       "Venezuela                      239\n",
       "New Zealand                    236\n",
       "Poland                         180\n",
       "Lithuania                      155\n",
       "Uruguay                        137\n",
       "Bolivia                        131\n",
       "El Salvador                     95\n",
       "Philippines                     46\n",
       "Oman                            41\n",
       "Trinidad and Tobago             39\n",
       "Papua New Guinea                34\n",
       "Syria                           19\n",
       "Burkina Faso                    15\n",
       "Sudan                           14\n",
       "Guatemala                       11\n",
       "Côte d'Ivoire                   10\n",
       "Suriname                        10\n",
       "Slovakia                         8\n",
       "Kuwait                           7\n",
       "Libya                            3\n",
       "South Sudan                      3\n",
       "Laos                             2\n",
       "Guyana                           2\n",
       "Somalia                          1\n",
       "Cameroon                         1\n",
       "Name: count, dtype: int64"
      ]
     },
     "execution_count": 17,
     "metadata": {},
     "output_type": "execute_result"
    }
   ],
   "source": [
    "trump_df.country.value_counts()"
   ]
  },
  {
   "cell_type": "code",
   "execution_count": 18,
   "metadata": {},
   "outputs": [
    {
     "data": {
      "text/plain": [
       "array(['United States of America', 'United Kingdom', 'The Netherlands',\n",
       "       'Canada', 'France', 'Australia', 'India', 'Germany', 'Switzerland',\n",
       "       'Mexico', 'Ireland', 'Ecuador', 'Italy', 'Spain', 'Colombia',\n",
       "       'Pakistan', 'Peru', 'United Arab Emirates', 'Bangladesh',\n",
       "       'South Africa', 'Brazil', 'Uruguay', 'Nigeria', 'Belgium',\n",
       "       'Lebanon', 'Argentina', 'New Zealand', 'Honduras', 'El Salvador',\n",
       "       'Venezuela', 'Bolivia', 'Philippines', 'Trinidad and Tobago',\n",
       "       'Papua New Guinea', 'Poland', 'Lithuania', 'Laos', 'Burkina Faso',\n",
       "       'Sudan', \"Côte d'Ivoire\", 'Kuwait', 'Syria', 'Oman', 'Slovakia',\n",
       "       'Suriname', 'Somalia', 'Guyana', 'Cameroon', 'Guatemala', 'Libya',\n",
       "       'South Sudan'], dtype=object)"
      ]
     },
     "execution_count": 18,
     "metadata": {},
     "output_type": "execute_result"
    }
   ],
   "source": [
    "trump_df.country.unique()"
   ]
  },
  {
   "cell_type": "code",
   "execution_count": 19,
   "metadata": {},
   "outputs": [],
   "source": [
    "trump_usa = trump_df[trump_df.country == 'United States of America']\n",
    "biden_usa = biden_df[biden_df.country == 'United States of America']"
   ]
  },
  {
   "cell_type": "code",
   "execution_count": 20,
   "metadata": {},
   "outputs": [
    {
     "name": "stdout",
     "output_type": "stream",
     "text": [
      "Total number of records in Trump USA dataset:  (101967, 15)\n",
      "Total number of records in Biden USA dataset:  (90642, 15)\n"
     ]
    }
   ],
   "source": [
    "print('Total number of records in Trump USA dataset: ', trump_usa.shape)\n",
    "print('Total number of records in Biden USA dataset: ', biden_usa.shape)"
   ]
  },
  {
   "cell_type": "code",
   "execution_count": 21,
   "metadata": {},
   "outputs": [
    {
     "data": {
      "text/plain": [
       "19883"
      ]
     },
     "execution_count": 21,
     "metadata": {},
     "output_type": "execute_result"
    }
   ],
   "source": [
    "# trying to look back at the dataset again, because we know both of these dataset originally just one dataset but being split into two categories. \n",
    "\n",
    "trump_id = trump_usa.tweet_id\n",
    "biden_id = biden_usa.tweet_id\n",
    "\n",
    "ids_tweets_in_common = set(trump_usa.tweet_id).intersection(set(biden_usa.tweet_id))\n",
    "len(ids_tweets_in_common)\n"
   ]
  },
  {
   "cell_type": "markdown",
   "metadata": {},
   "source": [
    "Around 20.000 tweets show up in both dataset. I think it doesn't make sense for the same tweet to contribute to compute the sentiment towards Biden and towards Trump. Let's say one tweet has a negative emotion, do we know if it's negative towards both candidates or only towards one of them and just mentions the second ?\n",
    "Let's have a look at a few of the 'duplicate' tweets."
   ]
  },
  {
   "cell_type": "code",
   "execution_count": 22,
   "metadata": {},
   "outputs": [
    {
     "data": {
      "text/plain": [
       "6      In 2020, #NYPost is being #censorship #CENSORED by Twitter to manipulate a US election in favor of #JoeBiden and against #Trump.\\n\\nbut CCP from #China or porn on Twitter? \\n\\nThat’s always been fine for @jack @vijaya @dickc @KatieS.\\n\\n@marciadorsey is @jack sick?\n",
       "17                               Comments on this? \"Do Democrats Understand how Ruthless China is?\" https://t.co/QevK00yhs3 #China #HunterBiden #JoeBiden #BidenHarris #BidenHarris2020 #TrumpPence2020 #Trump #realDonaldTrump #WTO #coronavirus #trade https://t.co/Wjm1hyTFNZ\n",
       "36                                                                                                                                                                               A simple question. Who are you voting for? #2020Election #DonaldTrump #JoeBiden #uspoli #mapoli\n",
       "131                                     @stephbarlow2 @JoshSchwerin @soledadobrien Disclaimer, totally support dems this #Election2020 but will watch #Trump #FlameShow to nurture the paranoia #Confidence in #JoeBiden lets me do this - it’s not all media numbers, it’s real\n",
       "275                                                                                                                                             #twitter #censors #trump campaign to silence her re #joebiden son #hunterbiden n his #ukraine #crimes\\n\\nhttps://t.co/JamuhKPz7g\n",
       "349                                                                                                                                                                     Can this get any wilder???? Me thinks yes... #HunterBidenEmails #JoeBiden #Trump https://t.co/EUAv5ggMSA\n",
       "369                                                       #Twitter is blocking certain #CDC data since they don't agree with it.  Both #Facebook and Twitter are censoring the truth about #JoeBiden and the #BidenHarris ticket. Vote #Trump.  Stand up for #America #Trump2020\n",
       "370                                      watching the legacy media and big tech work in concert to push back and censor the #HunterBiden #JoeBiden #UkraineGate story it makes you realize the fact #Trump has a shot at this election is such a testament to independent media.\n",
       "379                                                                            Hunter Biden’s alleged laptop: an explainer https://t.co/YUT4xRCGP8 #Trump #Russia #Giuliani #HunterBiden #Biden #TrumpDirtyTrick #NewsCorp #NYPost #RupertMurdoch #Murdoch #Rudy #Putin #Ukraine\n",
       "413                 @birdflyoverlake The definitive Trump book! “The author’s biting use of humor is like the proverbial ‘spoonful of sugar’ to ‘help the medicine go down.’” 1700 references. Please share.\\nhttps://t.co/QPTNT01xi8\\n#Trump #trumpbook #biden #bidenharris2020\n",
       "Name: tweet, dtype: object"
      ]
     },
     "execution_count": 22,
     "metadata": {},
     "output_type": "execute_result"
    }
   ],
   "source": [
    "pd.options.display.max_colwidth = 1000\n",
    "\n",
    "biden_usa.tweet.loc[biden_usa.tweet_id.isin(list(ids_tweets_in_common))].head(10)"
   ]
  },
  {
   "cell_type": "code",
   "execution_count": 22,
   "metadata": {},
   "outputs": [
    {
     "name": "stdout",
     "output_type": "stream",
     "text": [
      "Total number after cleaning the Trump dataset:  (82063, 15)\n",
      "Total number after cleaning the Biden dataset:  (70728, 15)\n"
     ]
    }
   ],
   "source": [
    "# we can drop the tweets that are in common between the two datasets\n",
    "\n",
    "trump_usa_clean = trump_usa[~trump_usa.tweet_id.isin(list(ids_tweets_in_common))]\n",
    "biden_usa_clean = biden_usa[~biden_usa.tweet_id.isin(list(ids_tweets_in_common))]\n",
    "\n",
    "print('Total number after cleaning the Trump dataset: ', trump_usa_clean.shape)\n",
    "print('Total number after cleaning the Biden dataset: ', biden_usa_clean.shape)"
   ]
  },
  {
   "cell_type": "markdown",
   "metadata": {},
   "source": [
    "## 1.4 Language Detection\n",
    "\n",
    "we knew that this tweet dataset doesnt all come from just one language. so we try to fix that "
   ]
  },
  {
   "cell_type": "code",
   "execution_count": 23,
   "metadata": {},
   "outputs": [
    {
     "name": "stdout",
     "output_type": "stream",
     "text": [
      "#Trump: “El 3 de noviembre será el día más emocionante en la historia de las elecciones estadounidenses”. https://t.co/GuqB6n5xzG\n"
     ]
    }
   ],
   "source": [
    "example_tweet = trump_usa_clean.tweet.iloc[90]\n",
    "print(example_tweet)"
   ]
  },
  {
   "cell_type": "code",
   "execution_count": 24,
   "metadata": {},
   "outputs": [
    {
     "data": {
      "text/plain": [
       "'es'"
      ]
     },
     "execution_count": 24,
     "metadata": {},
     "output_type": "execute_result"
    }
   ],
   "source": [
    "from langdetect import detect, DetectorFactory\n",
    "DetectorFactory.seed = 0\n",
    "detect(example_tweet)"
   ]
  },
  {
   "cell_type": "code",
   "execution_count": 25,
   "metadata": {},
   "outputs": [],
   "source": [
    "def get_language(tweet):\n",
    "    try: \n",
    "        lang=detect(tweet)\n",
    "    except:\n",
    "        lang='no'\n",
    "        print(\"This tweet throws an error:\", tweet)  \n",
    "    return lang"
   ]
  },
  {
   "cell_type": "code",
   "execution_count": 26,
   "metadata": {},
   "outputs": [
    {
     "name": "stdout",
     "output_type": "stream",
     "text": [
      "It took 2.7 seconds\n"
     ]
    }
   ],
   "source": [
    "import time\n",
    "\n",
    "start_time = time.time()\n",
    "\n",
    "test_df = trump_usa_clean.iloc[:1000].copy()\n",
    "test_df['lang'] = test_df.tweet.apply(lambda x: get_language(x))\n",
    "\n",
    "stop_time = time.time()\n",
    "\n",
    "print(f'It took {np.around((time.time() - start_time),decimals=1)} seconds')"
   ]
  },
  {
   "cell_type": "code",
   "execution_count": 27,
   "metadata": {},
   "outputs": [
    {
     "name": "stdout",
     "output_type": "stream",
     "text": [
      "This tweet throws an error: ⁣\n",
      "⁣\n",
      "𝘋𝘰 𝘯𝘰𝘵 𝘷𝘰𝘵𝘦 𝘧𝘰𝘳 #𝘊𝘰𝘷𝘪𝘥𝘪𝘰𝘵𝘐𝘯𝘊𝘩𝘪𝘦𝘧 𝘰𝘳 𝘵𝘩𝘦 #𝘔𝘢𝘴𝘬𝘭𝘦𝘴𝘴𝘋𝘶𝘮𝘣𝘈𝘴𝘴⁣\n",
      "⁣\n",
      "𝘕𝘰 𝘮𝘰𝘳𝘦 #𝘛𝘙𝘜𝘔𝘗\n",
      "This tweet throws an error: I😂😂😂😂😂😂 🤮🤮🤮🤮🤮🤮😂😂😂😂😂🤢🤢🤢🤢🤢🤢🤢🤮🤮🤮🤮🤮🤮🤮🤮🤮🤮😣😣😣😣😣😳😳😳😳😳😳😳😳😳🤮🤮🤮🤮🤮🤮🤮🤮🤢🤢🤢🤢🤢🤢🤒🤒🤒🤒🤒🤒🤒🤒🤒🤒🤒 sums it when I see #trump dancing https://t.co/9BdiBshAVX\n",
      "This tweet throws an error: @Trailblaze2top #trump ‼‼‼‼‼‼‼‼‼‼‼‼‼‼‼‼‼‼‼‼‼‼‼‼‼‼‼‼‼‼‼‼‼‼‼‼‼‼‼‼‼‼‼‼‼‼‼‼‼‼‼‼‼‼‼‼‼‼‼‼‼‼‼‼‼‼‼‼‼‼‼‼‼‼‼‼‼‼‼‼‼‼‼‼‼‼‼‼‼‼‼‼‼‼‼‼‼‼‼‼‼‼‼‼‼‼‼‼‼‼‼‼‼‼‼‼‼‼‼‼‼‼‼‼‼‼‼‼‼‼‼‼‼‼‼‼\n",
      "This tweet throws an error: 🆃🆁🆄🅼🅿 2020\n",
      "🆃🆁🆄🅼🅿 2020\n",
      "🆃🆁🆄🅼🅿 2020\n",
      "🆃🆁🆄🅼🅿 2020\n",
      "🆃🆁🆄🅼🅿 2020\n",
      "🆃🆁🆄🅼🅿 2020\n",
      "🆃🆁🆄🅼🅿 2020\n",
      "🆃🆁🆄🅼🅿 2020\n",
      "🆃🆁🆄🅼🅿 2020\n",
      "🆃🆁🆄🅼🅿 2020\n",
      "\n",
      "RT #ElectionDay #Trump\n",
      "This tweet throws an error: #Trump 2️⃣0️⃣2️⃣0️⃣🇺🇸🇺🇸🇺🇸❤️🤍💙 https://t.co/57yUuOuiqB\n",
      "This tweet throws an error: Pennsylvania 👀👀👀👀👀👀👀👀👀👀👀👀👀👀👀👀👀👀👀👀👀👀👀👀👀👀👀👀👀👀👀👀👀👀👀👀👀👀👀👀👀👀👀👀👀👀👀👀👀👀👀👀👀👀👀👀👀👀👀👀👀👀👀👀👀👀👀👀👀👀👀👀👀👀👀👀👀👀👀👀👀👀👀👀👀👀👀👀👀👀👀👀👀👀👀👀👀👀👀👀👀👀👀👀👀#BattlegroundState  #Trump #TrumpPence2020 #Vote #PA\n",
      "This tweet throws an error: 🇺🇸🇺🇸🇺🇸🇺🇸🇺🇸\n",
      "          🇺🇸\n",
      "          🇺🇸\n",
      "          🇺🇸\n",
      "          🇺🇸\n",
      "\n",
      "🇺🇸🇺🇸🇺🇸🇺🇸\n",
      "🇺🇸            🇺🇸\n",
      "🇺🇸    🇺🇸🇺🇸\n",
      "🇺🇸       🇺🇸\n",
      "🇺🇸         🇺🇸\n",
      "\n",
      "🇺🇸          🇺🇸\n",
      "🇺🇸          🇺🇸\n",
      "🇺🇸          🇺🇸\n",
      "🇺🇸🇺🇸🇺🇸🇺🇸\n",
      "\n",
      "🇺🇸          🇺🇸\n",
      "🇺🇸🇺🇸🇺🇸🇺🇸\n",
      "🇺🇸   🇺🇸  🇺🇸\n",
      "🇺🇸          🇺🇸\n",
      "\n",
      "🇺🇸🇺🇸🇺🇸🇺🇸\n",
      "🇺🇸          🇺🇸\n",
      "🇺🇸🇺🇸🇺🇸🇺🇸\n",
      "🇺🇸\n",
      "🇺🇸 #Trump\n",
      "This tweet throws an error: ┏━━┓┏━━┓┏━━┓┏━━┓ ┗━┓┃┃┏┓┃┗━┓┃┃┏┓┃ ┏━┛┃┃┃┃┃┏━┛┃┃┃┃┃\n",
      "❤️🤍💙🇺🇲 🆃🆁🆄🅼🅿︎🇺🇲❤️🤍💙 ┃┗━┓┃┗┛┃┃┗━┓┃┗┛┃ ┗━━┛┗━━┛┗━━┛┗━━┛\n",
      "#Trump #Trump2020 #USAElections2020\n",
      "This tweet throws an error: ┏━━┓┏━━┓┏━━┓┏━━┓ ┗━┓┃┃┏┓┃┗━┓┃┃┏┓┃ ┏━┛┃┃┃┃┃┏━┛┃┃┃┃┃\n",
      "❤️💙🇺🇲 🆃🆁🆄🅼🅿︎🇺🇲❤️💙 ┃┗━┓┃┗┛┃┃┗━┓┃┗┛┃ ┗━━┛┗━━┛┗━━┛┗━━┛\n",
      "#Trump #Trump2020 #USAElections2020 #TrumpvsBiden https://t.co/ZiHz6jAh2L\n",
      "This tweet throws an error: 🇺🇸🇺🇸🇺🇸🇺🇸🇺🇸🇺🇸🇺🇸🇺🇸🇺🇸🇺🇸🇺🇸🇺🇸🇺🇸🇺🇸🇺🇸🇺🇸🇺🇸🇺🇸🇺🇸🇺🇸🇺🇸🇺🇸🇺🇸🇺🇸🇺🇸🇺🇸🇺🇸🇺🇸🇺🇸🇺🇸🇺🇸🇺🇸🇺🇸🇺🇸🇺🇸🇺🇸🇺🇸🇺🇸🇺🇸🇺🇸🇺🇸🇺🇸🇺🇸🇺🇸🇺🇸🇺🇸🇺🇸🇺🇸#Maga #Trump https://t.co/O7XDpg9anh\n",
      "This tweet throws an error: #DonaldTrump🇺🇸🇺🇸🇺🇸🇺🇸🇺🇸🇺🇸🇺🇸🇺🇸🇻🇨🇻🇨🇻🇨🇻🇨🇻🇨🇻🇨🇻🇨\n",
      "It took 202.4 seconds\n"
     ]
    },
    {
     "name": "stderr",
     "output_type": "stream",
     "text": [
      "/tmp/ipykernel_16002/3945969438.py:1: SettingWithCopyWarning: \n",
      "A value is trying to be set on a copy of a slice from a DataFrame.\n",
      "Try using .loc[row_indexer,col_indexer] = value instead\n",
      "\n",
      "See the caveats in the documentation: https://pandas.pydata.org/pandas-docs/stable/user_guide/indexing.html#returning-a-view-versus-a-copy\n",
      "  trump_usa_clean['lang'] = trump_usa_clean.tweet.apply(lambda x: get_language(x))\n"
     ]
    }
   ],
   "source": [
    "trump_usa_clean['lang'] = trump_usa_clean.tweet.apply(lambda x: get_language(x))\n",
    "\n",
    "stop_time = time.time()\n",
    "print(f'It took {np.around((time.time() - start_time), decimals=1)} seconds')"
   ]
  },
  {
   "cell_type": "code",
   "execution_count": 28,
   "metadata": {},
   "outputs": [
    {
     "name": "stdout",
     "output_type": "stream",
     "text": [
      "This tweet throws an error: 👏🏻👏🏻👏🏻👏🏻👏🏻👏🏻👏🏻👏🏻👏🏻👏🏻👏🏻👏🏻👏🏻👏🏻👏🏻👏🏻👏🏻👏🏻👏🏻👏🏻👏🏻👏🏻👏🏻👏🏻👏🏻👏🏻👏🏻👏🏻👏🏻👏🏻👏🏻👏🏻#JoeBiden https://t.co/9lnd35iOfq\n",
      "This tweet throws an error: ❤️❤️❤️❤️❤️❤️❤️❤️❤️❤️❤️❤️#Biden https://t.co/9CvcaErqN6\n",
      "This tweet throws an error: ❤️❤️❤️❤️❤️❤️❤️❤️❤️❤️❤️#joebiden https://t.co/hPFsbGIGQB\n",
      "This tweet throws an error: 🇺🇸🇺🇸🇺🇸🇺🇸🇺🇸🇺🇸🇺🇸🇺🇸#BIDEN https://t.co/njfvCATvn6\n",
      "This tweet throws an error: 𝗟𝗜𝗦𝗧𝗘𝗡𝗜𝗡𝗚 𝗧𝗢 𝗧𝗛𝗘 𝗦𝗖𝗜𝗘𝗡𝗧𝗜𝗦𝗧 .... \n",
      "𝗜 𝘄𝗼𝗻𝗱𝗲𝗿 𝘄𝗵𝗶𝗰𝗵 𝗦𝗰𝗶𝗲𝗻𝘁𝗶𝘀𝘁 #𝗕𝗶𝗱𝗲𝗻 𝘄𝗼𝘂𝗹𝗱𝗻'𝘁 𝗼𝗳 𝗹𝗶𝘀𝘁𝗲𝗻 𝘁𝗼 ..... 𝗛𝗺𝗺𝗺𝗺𝗺 ?????   🤔\n",
      "https://t.co/xU894RTSaN via @YouTube\n",
      "This tweet throws an error: 🇺🇸🇺🇸💫💫🇺🇸🇺🇸💫🇺🇸🇺🇸🇺🇸💫💫🇺🇸🇺🇸💫💫🇺🇸💫💫💫🇺🇸💫💫💫💫💫#JoeBiden💫🇺🇸🇺🇸🇺🇸🇺🇸🇺🇸🇺🇸🇺🇸🇺🇸🇺🇸🇺🇸💫💫💫 https://t.co/nX0zcgeB6e\n",
      "This tweet throws an error: ┏━━┓┏━━┓┏━━┓┏━━┓ ┗━┓┃┃┏┓┃┗━┓┃┃┏┓┃ ┏━┛┃┃┃┃┃┏━┛┃┃┃┃┃ ❤️🤍💙🇺🇲 🅱🅸🅳🅴🅽 🇺🇲❤️🤍💙 ┃┗━┓┃┗┛┃┃┗━┓┃┗┛┃ ┗━━┛┗━━┛┗━━┛┗━━┛\n",
      "#JoeBiden #VOTE #VoteBlue\n",
      "This tweet throws an error: ┏━━┓┏━━┓┏━━┓┏━━┓\n",
      "┗━┓┃┃┏┓┃┗━┓┃┃┏┓┃\n",
      "❤️🤍💙 🇺🇲 B I D E N 🇺🇲 ❤️🤍💙\n",
      "┃┗━┓┃┗┛┃┃┗━┓┃┗┛┃\n",
      "┗━━┛┗━━┛┗━━┛┗━━┛ #Election2020 @TeamJoe #JoeBiden @JoeBiden 🙏🏾🙏🏾🙏🏾\n",
      "This tweet throws an error: Let’s go #Biden lesss goooooo 💙💙💙💙💙💙💙💙💙💙💙💙💙💙💙💙💙💙💙💙💙💙💙💙💙💙💙💙💙💙💙💙💙💙💙💙💙💙💙💙💙💙💙💙💙💙💙💙💙💙💙💙💙💙💙💙💙💙💙💙💙💙💙💙💙💙💙💙💙💙💙💙💙💙💙💙💙💙💙💙💙💙💙💙💙💙💙💙💙💙💙💙💙💙💙💙💙💙💙💙💙💙💙💙💙💙💙💙💙💙💙💙💙💙💙💙💙💙💙💙💙💙💙💙💙\n",
      "This tweet throws an error: 𝕡𝕝𝕖𝕒𝕤𝕖 𝕘𝕠 𝕧𝕠𝕥𝕖. 𝕚𝕗 𝕪𝕠𝕦 𝕔𝕒𝕟'𝕥 𝕧𝕠𝕥𝕖, 𝕥𝕙𝕖𝕟 𝕔𝕒𝕝𝕝 𝕗𝕠𝕣 𝕙𝕖𝕝𝕡.\n",
      "\n",
      "- 𝚝𝚛𝚞𝚖𝚙 𝚒𝚜𝚗'𝚝 𝚘𝚞𝚛 𝚜𝚊𝚟𝚒𝚘𝚛\n",
      "- 𝚝𝚛𝚞𝚖𝚙 𝚒𝚜𝚗'𝚝 𝚘𝚞𝚛 𝚜𝚊𝚟𝚒𝚘𝚛\n",
      "- 𝚝𝚛𝚞𝚖𝚙 𝚒𝚜𝚗'𝚝 𝚘𝚞𝚛 𝚜𝚊𝚟𝚒𝚘𝚛\n",
      "\n",
      "#Biden #harris \n",
      "\n",
      "i need to talk to someone about this.\n",
      "This tweet throws an error: ┏━━┓┏━━┓┏━━┓┏━━┓ ┗━┓┃┃┏┓┃┗━┓┃┃┏┓┃\n",
      "❤️🤍💙🅱︎🅸🅳🅴🅽 ❤️🤍💙 ┃┗━┓┃┗┛┃┃┗━┓┃┗┛┃ ┗━━┛┗━━┛┗━━┛┗━━┛\n",
      "\n",
      "#Biden\n",
      "This tweet throws an error: 🕯️🕯️🕯️🕯️🕯️🕯️🕯️#Biden🕯️🕯️🕯️🕯️🕯️🕯️🕯️#Georgia🕯️🕯️🕯️🕯️🕯️🕯️🕯️#Biden🕯️🕯️🕯️🕯️🕯️🕯️🕯️#Georgia🕯️🕯️🕯️🕯️🕯️🕯️🕯️#Biden🕯️🕯️🕯️🕯️🕯️🕯️🕯️#Georgia🕯️🕯️🕯️🕯️🕯️🕯️🕯️#Biden🕯️🕯️🕯️🕯️🕯️🕯️🕯️#Georgia\n",
      "This tweet throws an error: #46!! #JoeBiden #KamalaHarris 🇺🇸🇺🇸🇺🇸🇺🇸🇺🇸🇺🇸🇺🇸🇺🇸🇺🇸🇺🇸🇺🇸🇺🇸🇺🇸🇺🇸🇺🇸🇺🇸🇺🇸🇺🇸🇺🇸🇺🇸🇺🇸🇺🇸🇺🇸🇺🇸🇺🇸🇺🇸🇺🇸 https://t.co/HiDvsv7EzO\n",
      "This tweet throws an error: #JoeBiden 🇺🇸🇺🇸🇺🇸🇺🇸🇺🇸❤️❤️❤️❤️ https://t.co/kDvypysPV6\n",
      "This tweet throws an error: ❤️❤️❤️❤️❤️❤️ #biden https://t.co/UijY4gIx1L https://t.co/OrTtH5BqLz\n",
      "This tweet throws an error: UHUULL #BIDEN 👏🏿👏🏿🙏🏿🙏🏿💃🏿💃🏿🌻🌻🙏🏽🙏🏽💋💋❤❤🥰🥰😘😘🇺🇸🇺🇸🇺🇸🇺🇸\n",
      "It took 437.7 seconds\n"
     ]
    },
    {
     "name": "stderr",
     "output_type": "stream",
     "text": [
      "/tmp/ipykernel_16002/2707025249.py:1: SettingWithCopyWarning: \n",
      "A value is trying to be set on a copy of a slice from a DataFrame.\n",
      "Try using .loc[row_indexer,col_indexer] = value instead\n",
      "\n",
      "See the caveats in the documentation: https://pandas.pydata.org/pandas-docs/stable/user_guide/indexing.html#returning-a-view-versus-a-copy\n",
      "  biden_usa_clean['lang'] = biden_usa_clean.tweet.apply(lambda x: get_language(x))\n"
     ]
    }
   ],
   "source": [
    "biden_usa_clean['lang'] = biden_usa_clean.tweet.apply(lambda x: get_language(x))\n",
    "\n",
    "stop_time = time.time()\n",
    "print(f'It took {np.around((time.time() - start_time), decimals=1)} seconds')"
   ]
  },
  {
   "cell_type": "code",
   "execution_count": 29,
   "metadata": {},
   "outputs": [
    {
     "data": {
      "image/png": "[encoded data removed]",
      "text/plain": [
       "<Figure size 2000x500 with 1 Axes>"
      ]
     },
     "metadata": {},
     "output_type": "display_data"
    },
    {
     "data": {
      "image/png": "[encoded data removed]",
      "text/plain": [
       "<Figure size 2000x500 with 1 Axes>"
      ]
     },
     "metadata": {},
     "output_type": "display_data"
    }
   ],
   "source": [
    "plt.figure(figsize=(20,5))\n",
    "ax = trump_usa_clean.lang.value_counts().plot(kind='bar')\n",
    "ax.set_title('Trump tweets by language')\n",
    "ax.set_xlabel('Language')\n",
    "ax.set_ylabel('Number of tweets')\n",
    "plt.show()\n",
    "\n",
    "plt.figure(figsize=(20,5))\n",
    "ax = biden_usa_clean.lang.value_counts().plot(kind='bar')\n",
    "ax.set_title('Biden tweets by language')\n",
    "ax.set_xlabel('Language')\n",
    "ax.set_ylabel('Number of tweets')\n",
    "plt.show()"
   ]
  },
  {
   "cell_type": "code",
   "execution_count": 30,
   "metadata": {},
   "outputs": [
    {
     "name": "stdout",
     "output_type": "stream",
     "text": [
      "Top three on Trump dataset: lang\n",
      "en    75148\n",
      "es     1976\n",
      "ro     1262\n",
      "Name: count, dtype: int64\n",
      "Top three on Biden dataset: lang\n",
      "en    58876\n",
      "nl     4913\n",
      "es     2196\n",
      "Name: count, dtype: int64\n"
     ]
    }
   ],
   "source": [
    "# show it in different way\n",
    "total_lang_trump = trump_usa_clean.lang.value_counts()\n",
    "total_lang_biden = biden_usa_clean.lang.value_counts()\n",
    "\n",
    "# print top three value coutns on each language\n",
    "print('Top three on Trump dataset:', total_lang_trump[:3])\n",
    "print('Top three on Biden dataset:', total_lang_biden[:3])\n"
   ]
  },
  {
   "cell_type": "code",
   "execution_count": 31,
   "metadata": {},
   "outputs": [
    {
     "name": "stdout",
     "output_type": "stream",
     "text": [
      "Total of en in Trump dataset: (75148, 16)\n",
      "Total of en in Biden dataset: (58876, 16)\n"
     ]
    }
   ],
   "source": [
    "#lets try to keep just the en language to make it easier to analyze\n",
    "\n",
    "biden_en = biden_usa_clean[biden_usa_clean.lang == 'en']\n",
    "trump_en = trump_usa_clean[trump_usa_clean.lang == 'en']\n",
    "\n",
    "print('Total of en in Trump dataset:', trump_en.shape)\n",
    "print('Total of en in Biden dataset:', biden_en.shape)"
   ]
  },
  {
   "cell_type": "markdown",
   "metadata": {},
   "source": [
    "## 1.5 Analyze more "
   ]
  },
  {
   "cell_type": "code",
   "execution_count": 32,
   "metadata": {},
   "outputs": [
    {
     "name": "stdout",
     "output_type": "stream",
     "text": [
      "('2020-10-15 00:00:02', '2020-11-08 23:58:38')\n",
      "('2020-10-15 00:01:47', '2020-11-08 23:58:24')\n"
     ]
    }
   ],
   "source": [
    "# When were the tweets collected?\n",
    "x = trump_en.created_at.min(), trump_en.created_at.max()\n",
    "print(x)\n",
    "\n",
    "y = biden_en.created_at.min(), biden_en.created_at.max()\n",
    "print(y)"
   ]
  },
  {
   "cell_type": "code",
   "execution_count": 33,
   "metadata": {},
   "outputs": [
    {
     "data": {
      "text/html": [
       "<div>\n",
       "<style scoped>\n",
       "    .dataframe tbody tr th:only-of-type {\n",
       "        vertical-align: middle;\n",
       "    }\n",
       "\n",
       "    .dataframe tbody tr th {\n",
       "        vertical-align: top;\n",
       "    }\n",
       "\n",
       "    .dataframe thead th {\n",
       "        text-align: right;\n",
       "    }\n",
       "</style>\n",
       "<table border=\"1\" class=\"dataframe\">\n",
       "  <thead>\n",
       "    <tr style=\"text-align: right;\">\n",
       "      <th></th>\n",
       "      <th>created_at</th>\n",
       "      <th>tweet_id</th>\n",
       "      <th>tweet</th>\n",
       "      <th>likes</th>\n",
       "      <th>retweet_count</th>\n",
       "      <th>user_id</th>\n",
       "      <th>user_followers_count</th>\n",
       "      <th>user_location</th>\n",
       "      <th>lat</th>\n",
       "      <th>long</th>\n",
       "      <th>city</th>\n",
       "      <th>country</th>\n",
       "      <th>continent</th>\n",
       "      <th>state</th>\n",
       "      <th>state_code</th>\n",
       "      <th>lang</th>\n",
       "    </tr>\n",
       "  </thead>\n",
       "  <tbody>\n",
       "    <tr>\n",
       "      <th>2</th>\n",
       "      <td>2020-10-15 00:00:02</td>\n",
       "      <td>1.316529e+18</td>\n",
       "      <td>#Trump: As a student I used to hear for years,...</td>\n",
       "      <td>2.0</td>\n",
       "      <td>1.0</td>\n",
       "      <td>8.436472e+06</td>\n",
       "      <td>1185.0</td>\n",
       "      <td>Portland</td>\n",
       "      <td>45.520247</td>\n",
       "      <td>-122.674195</td>\n",
       "      <td>Portland</td>\n",
       "      <td>United States of America</td>\n",
       "      <td>North America</td>\n",
       "      <td>Oregon</td>\n",
       "      <td>OR</td>\n",
       "      <td>en</td>\n",
       "    </tr>\n",
       "    <tr>\n",
       "      <th>4</th>\n",
       "      <td>2020-10-15 00:00:08</td>\n",
       "      <td>1.316529e+18</td>\n",
       "      <td>You get a tie! And you get a tie! #Trump ‘s ra...</td>\n",
       "      <td>4.0</td>\n",
       "      <td>3.0</td>\n",
       "      <td>4.741380e+07</td>\n",
       "      <td>5393.0</td>\n",
       "      <td>Washington DC</td>\n",
       "      <td>38.894992</td>\n",
       "      <td>-77.036558</td>\n",
       "      <td>Washington</td>\n",
       "      <td>United States of America</td>\n",
       "      <td>North America</td>\n",
       "      <td>District of Columbia</td>\n",
       "      <td>DC</td>\n",
       "      <td>en</td>\n",
       "    </tr>\n",
       "    <tr>\n",
       "      <th>12</th>\n",
       "      <td>2020-10-15 00:00:26</td>\n",
       "      <td>1.316529e+18</td>\n",
       "      <td>#Trump #PresidentTrump #Trump2020LandslideVict...</td>\n",
       "      <td>3.0</td>\n",
       "      <td>5.0</td>\n",
       "      <td>1.243315e+18</td>\n",
       "      <td>496.0</td>\n",
       "      <td>San Diego, CA</td>\n",
       "      <td>32.717421</td>\n",
       "      <td>-117.162771</td>\n",
       "      <td>San Diego</td>\n",
       "      <td>United States of America</td>\n",
       "      <td>North America</td>\n",
       "      <td>California</td>\n",
       "      <td>CA</td>\n",
       "      <td>en</td>\n",
       "    </tr>\n",
       "    <tr>\n",
       "      <th>22</th>\n",
       "      <td>2020-10-15 00:01:14</td>\n",
       "      <td>1.316530e+18</td>\n",
       "      <td>#Trump: Nobody likes to tell you this, but som...</td>\n",
       "      <td>1.0</td>\n",
       "      <td>1.0</td>\n",
       "      <td>8.436472e+06</td>\n",
       "      <td>1185.0</td>\n",
       "      <td>Portland</td>\n",
       "      <td>45.520247</td>\n",
       "      <td>-122.674195</td>\n",
       "      <td>Portland</td>\n",
       "      <td>United States of America</td>\n",
       "      <td>North America</td>\n",
       "      <td>Oregon</td>\n",
       "      <td>OR</td>\n",
       "      <td>en</td>\n",
       "    </tr>\n",
       "    <tr>\n",
       "      <th>29</th>\n",
       "      <td>2020-10-15 00:01:30</td>\n",
       "      <td>1.316530e+18</td>\n",
       "      <td>@karatblood @KazePlays_JC Grab @realDonaldTrum...</td>\n",
       "      <td>2.0</td>\n",
       "      <td>0.0</td>\n",
       "      <td>3.602439e+07</td>\n",
       "      <td>1952.0</td>\n",
       "      <td>Western Washington, USA</td>\n",
       "      <td>41.882823</td>\n",
       "      <td>-87.686307</td>\n",
       "      <td>Chicago</td>\n",
       "      <td>United States of America</td>\n",
       "      <td>North America</td>\n",
       "      <td>Illinois</td>\n",
       "      <td>IL</td>\n",
       "      <td>en</td>\n",
       "    </tr>\n",
       "  </tbody>\n",
       "</table>\n",
       "</div>"
      ],
      "text/plain": [
       "             created_at      tweet_id  \\\n",
       "2   2020-10-15 00:00:02  1.316529e+18   \n",
       "4   2020-10-15 00:00:08  1.316529e+18   \n",
       "12  2020-10-15 00:00:26  1.316529e+18   \n",
       "22  2020-10-15 00:01:14  1.316530e+18   \n",
       "29  2020-10-15 00:01:30  1.316530e+18   \n",
       "\n",
       "                                                tweet  likes  retweet_count  \\\n",
       "2   #Trump: As a student I used to hear for years,...    2.0            1.0   \n",
       "4   You get a tie! And you get a tie! #Trump ‘s ra...    4.0            3.0   \n",
       "12  #Trump #PresidentTrump #Trump2020LandslideVict...    3.0            5.0   \n",
       "22  #Trump: Nobody likes to tell you this, but som...    1.0            1.0   \n",
       "29  @karatblood @KazePlays_JC Grab @realDonaldTrum...    2.0            0.0   \n",
       "\n",
       "         user_id  user_followers_count            user_location        lat  \\\n",
       "2   8.436472e+06                1185.0                 Portland  45.520247   \n",
       "4   4.741380e+07                5393.0            Washington DC  38.894992   \n",
       "12  1.243315e+18                 496.0            San Diego, CA  32.717421   \n",
       "22  8.436472e+06                1185.0                 Portland  45.520247   \n",
       "29  3.602439e+07                1952.0  Western Washington, USA  41.882823   \n",
       "\n",
       "          long        city                   country      continent  \\\n",
       "2  -122.674195    Portland  United States of America  North America   \n",
       "4   -77.036558  Washington  United States of America  North America   \n",
       "12 -117.162771   San Diego  United States of America  North America   \n",
       "22 -122.674195    Portland  United States of America  North America   \n",
       "29  -87.686307     Chicago  United States of America  North America   \n",
       "\n",
       "                   state state_code lang  \n",
       "2                 Oregon         OR   en  \n",
       "4   District of Columbia         DC   en  \n",
       "12            California         CA   en  \n",
       "22                Oregon         OR   en  \n",
       "29              Illinois         IL   en  "
      ]
     },
     "execution_count": 33,
     "metadata": {},
     "output_type": "execute_result"
    }
   ],
   "source": [
    "trump_en.head()"
   ]
  },
  {
   "cell_type": "code",
   "execution_count": 34,
   "metadata": {},
   "outputs": [
    {
     "name": "stderr",
     "output_type": "stream",
     "text": [
      "/tmp/ipykernel_16002/4193569125.py:1: SettingWithCopyWarning: \n",
      "A value is trying to be set on a copy of a slice from a DataFrame.\n",
      "Try using .loc[row_indexer,col_indexer] = value instead\n",
      "\n",
      "See the caveats in the documentation: https://pandas.pydata.org/pandas-docs/stable/user_guide/indexing.html#returning-a-view-versus-a-copy\n",
      "  trump_en['origin_tweet'] = 'trump'\n",
      "/tmp/ipykernel_16002/4193569125.py:2: SettingWithCopyWarning: \n",
      "A value is trying to be set on a copy of a slice from a DataFrame.\n",
      "Try using .loc[row_indexer,col_indexer] = value instead\n",
      "\n",
      "See the caveats in the documentation: https://pandas.pydata.org/pandas-docs/stable/user_guide/indexing.html#returning-a-view-versus-a-copy\n",
      "  biden_en['origin_tweet'] = 'biden'\n"
     ]
    },
    {
     "data": {
      "text/html": [
       "<div>\n",
       "<style scoped>\n",
       "    .dataframe tbody tr th:only-of-type {\n",
       "        vertical-align: middle;\n",
       "    }\n",
       "\n",
       "    .dataframe tbody tr th {\n",
       "        vertical-align: top;\n",
       "    }\n",
       "\n",
       "    .dataframe thead th {\n",
       "        text-align: right;\n",
       "    }\n",
       "</style>\n",
       "<table border=\"1\" class=\"dataframe\">\n",
       "  <thead>\n",
       "    <tr style=\"text-align: right;\">\n",
       "      <th></th>\n",
       "      <th>created_at</th>\n",
       "      <th>tweet_id</th>\n",
       "      <th>tweet</th>\n",
       "      <th>likes</th>\n",
       "      <th>retweet_count</th>\n",
       "      <th>user_id</th>\n",
       "      <th>user_followers_count</th>\n",
       "      <th>user_location</th>\n",
       "      <th>lat</th>\n",
       "      <th>long</th>\n",
       "      <th>city</th>\n",
       "      <th>country</th>\n",
       "      <th>continent</th>\n",
       "      <th>state</th>\n",
       "      <th>state_code</th>\n",
       "      <th>lang</th>\n",
       "      <th>origin_tweet</th>\n",
       "    </tr>\n",
       "  </thead>\n",
       "  <tbody>\n",
       "    <tr>\n",
       "      <th>0</th>\n",
       "      <td>2020-10-15 00:00:02</td>\n",
       "      <td>1.316529e+18</td>\n",
       "      <td>#Trump: As a student I used to hear for years,...</td>\n",
       "      <td>2.0</td>\n",
       "      <td>1.0</td>\n",
       "      <td>8.436472e+06</td>\n",
       "      <td>1185.0</td>\n",
       "      <td>Portland</td>\n",
       "      <td>45.520247</td>\n",
       "      <td>-122.674195</td>\n",
       "      <td>Portland</td>\n",
       "      <td>United States of America</td>\n",
       "      <td>North America</td>\n",
       "      <td>Oregon</td>\n",
       "      <td>OR</td>\n",
       "      <td>en</td>\n",
       "      <td>trump</td>\n",
       "    </tr>\n",
       "    <tr>\n",
       "      <th>1</th>\n",
       "      <td>2020-10-15 00:00:08</td>\n",
       "      <td>1.316529e+18</td>\n",
       "      <td>You get a tie! And you get a tie! #Trump ‘s ra...</td>\n",
       "      <td>4.0</td>\n",
       "      <td>3.0</td>\n",
       "      <td>4.741380e+07</td>\n",
       "      <td>5393.0</td>\n",
       "      <td>Washington DC</td>\n",
       "      <td>38.894992</td>\n",
       "      <td>-77.036558</td>\n",
       "      <td>Washington</td>\n",
       "      <td>United States of America</td>\n",
       "      <td>North America</td>\n",
       "      <td>District of Columbia</td>\n",
       "      <td>DC</td>\n",
       "      <td>en</td>\n",
       "      <td>trump</td>\n",
       "    </tr>\n",
       "    <tr>\n",
       "      <th>2</th>\n",
       "      <td>2020-10-15 00:00:26</td>\n",
       "      <td>1.316529e+18</td>\n",
       "      <td>#Trump #PresidentTrump #Trump2020LandslideVict...</td>\n",
       "      <td>3.0</td>\n",
       "      <td>5.0</td>\n",
       "      <td>1.243315e+18</td>\n",
       "      <td>496.0</td>\n",
       "      <td>San Diego, CA</td>\n",
       "      <td>32.717421</td>\n",
       "      <td>-117.162771</td>\n",
       "      <td>San Diego</td>\n",
       "      <td>United States of America</td>\n",
       "      <td>North America</td>\n",
       "      <td>California</td>\n",
       "      <td>CA</td>\n",
       "      <td>en</td>\n",
       "      <td>trump</td>\n",
       "    </tr>\n",
       "    <tr>\n",
       "      <th>3</th>\n",
       "      <td>2020-10-15 00:01:14</td>\n",
       "      <td>1.316530e+18</td>\n",
       "      <td>#Trump: Nobody likes to tell you this, but som...</td>\n",
       "      <td>1.0</td>\n",
       "      <td>1.0</td>\n",
       "      <td>8.436472e+06</td>\n",
       "      <td>1185.0</td>\n",
       "      <td>Portland</td>\n",
       "      <td>45.520247</td>\n",
       "      <td>-122.674195</td>\n",
       "      <td>Portland</td>\n",
       "      <td>United States of America</td>\n",
       "      <td>North America</td>\n",
       "      <td>Oregon</td>\n",
       "      <td>OR</td>\n",
       "      <td>en</td>\n",
       "      <td>trump</td>\n",
       "    </tr>\n",
       "    <tr>\n",
       "      <th>4</th>\n",
       "      <td>2020-10-15 00:01:30</td>\n",
       "      <td>1.316530e+18</td>\n",
       "      <td>@karatblood @KazePlays_JC Grab @realDonaldTrum...</td>\n",
       "      <td>2.0</td>\n",
       "      <td>0.0</td>\n",
       "      <td>3.602439e+07</td>\n",
       "      <td>1952.0</td>\n",
       "      <td>Western Washington, USA</td>\n",
       "      <td>41.882823</td>\n",
       "      <td>-87.686307</td>\n",
       "      <td>Chicago</td>\n",
       "      <td>United States of America</td>\n",
       "      <td>North America</td>\n",
       "      <td>Illinois</td>\n",
       "      <td>IL</td>\n",
       "      <td>en</td>\n",
       "      <td>trump</td>\n",
       "    </tr>\n",
       "  </tbody>\n",
       "</table>\n",
       "</div>"
      ],
      "text/plain": [
       "            created_at      tweet_id  \\\n",
       "0  2020-10-15 00:00:02  1.316529e+18   \n",
       "1  2020-10-15 00:00:08  1.316529e+18   \n",
       "2  2020-10-15 00:00:26  1.316529e+18   \n",
       "3  2020-10-15 00:01:14  1.316530e+18   \n",
       "4  2020-10-15 00:01:30  1.316530e+18   \n",
       "\n",
       "                                               tweet  likes  retweet_count  \\\n",
       "0  #Trump: As a student I used to hear for years,...    2.0            1.0   \n",
       "1  You get a tie! And you get a tie! #Trump ‘s ra...    4.0            3.0   \n",
       "2  #Trump #PresidentTrump #Trump2020LandslideVict...    3.0            5.0   \n",
       "3  #Trump: Nobody likes to tell you this, but som...    1.0            1.0   \n",
       "4  @karatblood @KazePlays_JC Grab @realDonaldTrum...    2.0            0.0   \n",
       "\n",
       "        user_id  user_followers_count            user_location        lat  \\\n",
       "0  8.436472e+06                1185.0                 Portland  45.520247   \n",
       "1  4.741380e+07                5393.0            Washington DC  38.894992   \n",
       "2  1.243315e+18                 496.0            San Diego, CA  32.717421   \n",
       "3  8.436472e+06                1185.0                 Portland  45.520247   \n",
       "4  3.602439e+07                1952.0  Western Washington, USA  41.882823   \n",
       "\n",
       "         long        city                   country      continent  \\\n",
       "0 -122.674195    Portland  United States of America  North America   \n",
       "1  -77.036558  Washington  United States of America  North America   \n",
       "2 -117.162771   San Diego  United States of America  North America   \n",
       "3 -122.674195    Portland  United States of America  North America   \n",
       "4  -87.686307     Chicago  United States of America  North America   \n",
       "\n",
       "                  state state_code lang origin_tweet  \n",
       "0                Oregon         OR   en        trump  \n",
       "1  District of Columbia         DC   en        trump  \n",
       "2            California         CA   en        trump  \n",
       "3                Oregon         OR   en        trump  \n",
       "4              Illinois         IL   en        trump  "
      ]
     },
     "execution_count": 34,
     "metadata": {},
     "output_type": "execute_result"
    }
   ],
   "source": [
    "trump_en['origin_tweet'] = 'trump'\n",
    "biden_en['origin_tweet'] = 'biden'\n",
    "\n",
    "tweets_df = pd.concat([trump_en, biden_en], ignore_index=True)\n",
    "\n",
    "tweets_df.head()"
   ]
  },
  {
   "cell_type": "code",
   "execution_count": 35,
   "metadata": {},
   "outputs": [
    {
     "name": "stdout",
     "output_type": "stream",
     "text": [
      "<class 'pandas.core.frame.DataFrame'>\n",
      "RangeIndex: 134024 entries, 0 to 134023\n",
      "Data columns (total 17 columns):\n",
      " #   Column                Non-Null Count   Dtype         \n",
      "---  ------                --------------   -----         \n",
      " 0   created_at            134024 non-null  datetime64[ns]\n",
      " 1   tweet_id              134024 non-null  float64       \n",
      " 2   tweet                 134024 non-null  object        \n",
      " 3   likes                 134024 non-null  float64       \n",
      " 4   retweet_count         134024 non-null  float64       \n",
      " 5   user_id               134024 non-null  float64       \n",
      " 6   user_followers_count  134024 non-null  float64       \n",
      " 7   user_location         134024 non-null  object        \n",
      " 8   lat                   134024 non-null  float64       \n",
      " 9   long                  134024 non-null  float64       \n",
      " 10  city                  134024 non-null  object        \n",
      " 11  country               134024 non-null  object        \n",
      " 12  continent             134024 non-null  object        \n",
      " 13  state                 134024 non-null  object        \n",
      " 14  state_code            134024 non-null  object        \n",
      " 15  lang                  134024 non-null  object        \n",
      " 16  origin_tweet          134024 non-null  object        \n",
      "dtypes: datetime64[ns](1), float64(7), object(9)\n",
      "memory usage: 17.4+ MB\n"
     ]
    }
   ],
   "source": [
    "#conver date so we can look by graph\n",
    "tweets_df['created_at'] = pd.to_datetime(tweets_df['created_at'])\n",
    "tweets_df.info()"
   ]
  },
  {
   "cell_type": "code",
   "execution_count": 37,
   "metadata": {},
   "outputs": [
    {
     "data": {
      "image/png": "[encoded data removed]",
      "text/plain": [
       "<Figure size 2000x500 with 1 Axes>"
      ]
     },
     "metadata": {},
     "output_type": "display_data"
    },
    {
     "name": "stdout",
     "output_type": "stream",
     "text": [
      "It took 0.1 seconds\n"
     ]
    }
   ],
   "source": [
    "start_time = time.time()\n",
    "\n",
    "plt.figure(figsize=(20,5))\n",
    "\n",
    "tweets_df.created_at.dt.date.value_counts().sort_index().plot(kind='bar')\n",
    "\n",
    "plt.setp(plt.gca().get_xticklabels(), rotation=45, horizontalalignment='right')\n",
    "plt.title('Number of tweets over time')\n",
    "plt.xlabel('Date')\n",
    "plt.ylabel('Number of tweets')\n",
    "plt.show()\n",
    "\n",
    "stop_time = time.time()\n",
    "print(f'It took {np.around((time.time() - start_time), decimals=1)} seconds')"
   ]
  },
  {
   "cell_type": "code",
   "execution_count": 38,
   "metadata": {},
   "outputs": [
    {
     "data": {
      "text/html": [
       "<div>\n",
       "<style scoped>\n",
       "    .dataframe tbody tr th:only-of-type {\n",
       "        vertical-align: middle;\n",
       "    }\n",
       "\n",
       "    .dataframe tbody tr th {\n",
       "        vertical-align: top;\n",
       "    }\n",
       "\n",
       "    .dataframe thead th {\n",
       "        text-align: right;\n",
       "    }\n",
       "</style>\n",
       "<table border=\"1\" class=\"dataframe\">\n",
       "  <thead>\n",
       "    <tr style=\"text-align: right;\">\n",
       "      <th></th>\n",
       "      <th>tweet</th>\n",
       "      <th>counts</th>\n",
       "    </tr>\n",
       "  </thead>\n",
       "  <tbody>\n",
       "    <tr>\n",
       "      <th>54248</th>\n",
       "      <td>@realDonaldTrump I agree with this article..\\n...</td>\n",
       "      <td>51</td>\n",
       "    </tr>\n",
       "    <tr>\n",
       "      <th>55205</th>\n",
       "      <td>@realDonaldTrump This is how #donaldtrump gets...</td>\n",
       "      <td>45</td>\n",
       "    </tr>\n",
       "    <tr>\n",
       "      <th>93544</th>\n",
       "      <td>Make America Great Again! #ThingsTrumpSay #Tru...</td>\n",
       "      <td>42</td>\n",
       "    </tr>\n",
       "    <tr>\n",
       "      <th>54019</th>\n",
       "      <td>@realDonaldTrump Even the head of #FoxNews kno...</td>\n",
       "      <td>42</td>\n",
       "    </tr>\n",
       "    <tr>\n",
       "      <th>54692</th>\n",
       "      <td>@realDonaldTrump No doubt, #AmericaFirst &amp;amp;...</td>\n",
       "      <td>38</td>\n",
       "    </tr>\n",
       "    <tr>\n",
       "      <th>34124</th>\n",
       "      <td>@JoeBiden #BelieveInAmerica\\n#TrumpIsALaughing...</td>\n",
       "      <td>37</td>\n",
       "    </tr>\n",
       "    <tr>\n",
       "      <th>53930</th>\n",
       "      <td>@realDonaldTrump Corruption, racism, mass deat...</td>\n",
       "      <td>33</td>\n",
       "    </tr>\n",
       "    <tr>\n",
       "      <th>54836</th>\n",
       "      <td>@realDonaldTrump Per John Kelly, the most flaw...</td>\n",
       "      <td>28</td>\n",
       "    </tr>\n",
       "    <tr>\n",
       "      <th>34125</th>\n",
       "      <td>@JoeBiden #BelieveInAmerica\\n#TrumpIsALaughing...</td>\n",
       "      <td>23</td>\n",
       "    </tr>\n",
       "    <tr>\n",
       "      <th>62272</th>\n",
       "      <td>Anti-Trump? PLEASE VOTE #MakeAmericaUnitedAgai...</td>\n",
       "      <td>17</td>\n",
       "    </tr>\n",
       "  </tbody>\n",
       "</table>\n",
       "</div>"
      ],
      "text/plain": [
       "                                                   tweet  counts\n",
       "54248  @realDonaldTrump I agree with this article..\\n...      51\n",
       "55205  @realDonaldTrump This is how #donaldtrump gets...      45\n",
       "93544  Make America Great Again! #ThingsTrumpSay #Tru...      42\n",
       "54019  @realDonaldTrump Even the head of #FoxNews kno...      42\n",
       "54692  @realDonaldTrump No doubt, #AmericaFirst &amp;...      38\n",
       "34124  @JoeBiden #BelieveInAmerica\\n#TrumpIsALaughing...      37\n",
       "53930  @realDonaldTrump Corruption, racism, mass deat...      33\n",
       "54836  @realDonaldTrump Per John Kelly, the most flaw...      28\n",
       "34125  @JoeBiden #BelieveInAmerica\\n#TrumpIsALaughing...      23\n",
       "62272  Anti-Trump? PLEASE VOTE #MakeAmericaUnitedAgai...      17"
      ]
     },
     "execution_count": 38,
     "metadata": {},
     "output_type": "execute_result"
    }
   ],
   "source": [
    "## Find the popular tweets\n",
    "\n",
    "most_popular_tweets = tweets_df.groupby(['tweet']).size().reset_index(name='counts').sort_values(by='counts', ascending=False).head(10)\n",
    "most_popular_tweets"
   ]
  },
  {
   "cell_type": "code",
   "execution_count": 46,
   "metadata": {},
   "outputs": [
    {
     "data": {
      "text/html": [
       "<div>\n",
       "<style scoped>\n",
       "    .dataframe tbody tr th:only-of-type {\n",
       "        vertical-align: middle;\n",
       "    }\n",
       "\n",
       "    .dataframe tbody tr th {\n",
       "        vertical-align: top;\n",
       "    }\n",
       "\n",
       "    .dataframe thead th {\n",
       "        text-align: right;\n",
       "    }\n",
       "</style>\n",
       "<table border=\"1\" class=\"dataframe\">\n",
       "  <thead>\n",
       "    <tr style=\"text-align: right;\">\n",
       "      <th></th>\n",
       "      <th>tweet</th>\n",
       "      <th>retweet_count</th>\n",
       "    </tr>\n",
       "  </thead>\n",
       "  <tbody>\n",
       "    <tr>\n",
       "      <th>0</th>\n",
       "      <td>Tonight a woman in the audience of Trump's tow...</td>\n",
       "      <td>17652.0</td>\n",
       "    </tr>\n",
       "    <tr>\n",
       "      <th>1</th>\n",
       "      <td>Are you there, God? It's me, Bette. I'm so sca...</td>\n",
       "      <td>7489.0</td>\n",
       "    </tr>\n",
       "    <tr>\n",
       "      <th>2</th>\n",
       "      <td>Are you there, God? It's me again, Bette. We'r...</td>\n",
       "      <td>6133.0</td>\n",
       "    </tr>\n",
       "    <tr>\n",
       "      <th>3</th>\n",
       "      <td>OMG!  #JoeBiden speaks like a human being!  An...</td>\n",
       "      <td>6038.0</td>\n",
       "    </tr>\n",
       "    <tr>\n",
       "      <th>4</th>\n",
       "      <td>The White House still has not released a healt...</td>\n",
       "      <td>5986.0</td>\n",
       "    </tr>\n",
       "    <tr>\n",
       "      <th>5</th>\n",
       "      <td>ATTN!\\nWhile you were sleeping #Trump issued a...</td>\n",
       "      <td>5135.0</td>\n",
       "    </tr>\n",
       "    <tr>\n",
       "      <th>6</th>\n",
       "      <td>My humble advice to @JoeBiden supporters as th...</td>\n",
       "      <td>4849.0</td>\n",
       "    </tr>\n",
       "    <tr>\n",
       "      <th>7</th>\n",
       "      <td>Whatever you do, DON’T BELIEVE THE POLLS.  Vot...</td>\n",
       "      <td>4277.0</td>\n",
       "    </tr>\n",
       "    <tr>\n",
       "      <th>8</th>\n",
       "      <td>UPDATE: Michigan's #AntrimCounty  flipped to a...</td>\n",
       "      <td>3589.0</td>\n",
       "    </tr>\n",
       "    <tr>\n",
       "      <th>9</th>\n",
       "      <td>Sorry I couldn’t join @JudgeJeanine tonight bu...</td>\n",
       "      <td>3243.0</td>\n",
       "    </tr>\n",
       "  </tbody>\n",
       "</table>\n",
       "</div>"
      ],
      "text/plain": [
       "                                               tweet  retweet_count\n",
       "0  Tonight a woman in the audience of Trump's tow...        17652.0\n",
       "1  Are you there, God? It's me, Bette. I'm so sca...         7489.0\n",
       "2  Are you there, God? It's me again, Bette. We'r...         6133.0\n",
       "3  OMG!  #JoeBiden speaks like a human being!  An...         6038.0\n",
       "4  The White House still has not released a healt...         5986.0\n",
       "5  ATTN!\\nWhile you were sleeping #Trump issued a...         5135.0\n",
       "6  My humble advice to @JoeBiden supporters as th...         4849.0\n",
       "7  Whatever you do, DON’T BELIEVE THE POLLS.  Vot...         4277.0\n",
       "8  UPDATE: Michigan's #AntrimCounty  flipped to a...         3589.0\n",
       "9  Sorry I couldn’t join @JudgeJeanine tonight bu...         3243.0"
      ]
     },
     "execution_count": 46,
     "metadata": {},
     "output_type": "execute_result"
    }
   ],
   "source": [
    "# Another approach by looking at retweet\n",
    "\n",
    "popular_on_retweet = tweets_df.loc[tweets_df['retweet_count'] > 0].sort_values(by='retweet_count', ascending=False).head(10)\n",
    "popular_on_retweet[['tweet', 'retweet_count']].reset_index(drop=True)"
   ]
  },
  {
   "cell_type": "code",
   "execution_count": 48,
   "metadata": {},
   "outputs": [
    {
     "name": "stdout",
     "output_type": "stream",
     "text": [
      "There are 148 duplicated tweets in the dataset\n"
     ]
    }
   ],
   "source": [
    "print(f'There are {tweets_df.duplicated().sum()} duplicated tweets in the dataset')\n"
   ]
  },
  {
   "cell_type": "code",
   "execution_count": 50,
   "metadata": {},
   "outputs": [
    {
     "name": "stdout",
     "output_type": "stream",
     "text": [
      "There are 519 differen amount of retweets in the dataset\n"
     ]
    }
   ],
   "source": [
    "print(f'There are {tweets_df.retweet_count.nunique()} differen amount of retweets in the dataset')"
   ]
  },
  {
   "cell_type": "code",
   "execution_count": 53,
   "metadata": {},
   "outputs": [
    {
     "data": {
      "image/png": "[encoded data removed]",
      "text/plain": [
       "<Figure size 2000x1000 with 1 Axes>"
      ]
     },
     "metadata": {},
     "output_type": "display_data"
    }
   ],
   "source": [
    "# see plot on seaborn on retweet\n",
    "plt.figure(figsize=(20,10))\n",
    "sns.boxplot(x=tweets_df.retweet_count)\n",
    "plt.title('Boxplot of retweet counts')\n",
    "plt.xlabel('Retweet count')\n",
    "plt.show()\n"
   ]
  },
  {
   "cell_type": "markdown",
   "metadata": {},
   "source": [
    "## Text pre-processing"
   ]
  },
  {
   "cell_type": "code",
   "execution_count": 59,
   "metadata": {},
   "outputs": [
    {
     "data": {
      "text/plain": [
       "\"#Trump: As a student I used to hear for years, for ten years, I heard China! In 2019! And we have 1.5 and they don't know how many we have and I asked them how many do we have and they said 'sir we don't know.' But we have millions. Like 300 million.\\n\\nUm. What?\""
      ]
     },
     "execution_count": 59,
     "metadata": {},
     "output_type": "execute_result"
    }
   ],
   "source": [
    "tweets_df.tweet.iloc[0]"
   ]
  },
  {
   "cell_type": "markdown",
   "metadata": {},
   "source": [
    "First, we clean our data:\n",
    "\n",
    "- we convert everything to lowercase\n",
    "- we remove punctuation, links, @mentions and # hashtags\n",
    "- we remove stop words - stop words are a set of commonly used words in any language. For example, in English, “the”, “is” and “and”. These don't add any meaningful information for our analysis\n",
    "- lemmatization - reduces inflected words to the root of that word (e.g. - 'pursuing' becomes 'pursue')\n",
    "tokenization - split each tweet into a list of individual words"
   ]
  },
  {
   "cell_type": "code",
   "execution_count": 76,
   "metadata": {},
   "outputs": [
    {
     "name": "stderr",
     "output_type": "stream",
     "text": [
      "[nltk_data] Downloading package averaged_perceptron_tagger to\n",
      "[nltk_data]     /home/abhinowo/nltk_data...\n",
      "[nltk_data]   Package averaged_perceptron_tagger is already up-to-\n",
      "[nltk_data]       date!\n",
      "[nltk_data] Downloading package vader_lexicon to\n",
      "[nltk_data]     /home/abhinowo/nltk_data...\n",
      "[nltk_data]   Package vader_lexicon is already up-to-date!\n",
      "[nltk_data] Downloading package stopwords to\n",
      "[nltk_data]     /home/abhinowo/nltk_data...\n",
      "[nltk_data]   Package stopwords is already up-to-date!\n",
      "[nltk_data] Downloading package wordnet to /home/abhinowo/nltk_data...\n",
      "[nltk_data]   Package wordnet is already up-to-date!\n",
      "[nltk_data] Downloading package punkt to /home/abhinowo/nltk_data...\n",
      "[nltk_data]   Unzipping tokenizers/punkt.zip.\n"
     ]
    },
    {
     "data": {
      "text/plain": [
       "True"
      ]
     },
     "execution_count": 76,
     "metadata": {},
     "output_type": "execute_result"
    }
   ],
   "source": [
    "import re\n",
    "from nltk.stem import WordNetLemmatizer\n",
    "import nltk\n",
    "from nltk.corpus import stopwords, wordnet\n",
    "\n",
    "\n",
    "nltk.download('averaged_perceptron_tagger')\n",
    "nltk.download('vader_lexicon')\n",
    "nltk.download('stopwords')\n",
    "nltk.download('wordnet')\n",
    "nltk.download('punkt')"
   ]
  },
  {
   "cell_type": "code",
   "execution_count": 72,
   "metadata": {},
   "outputs": [],
   "source": [
    "import gensim\n",
    "from gensim.parsing.preprocessing import remove_stopwords # we also use gensim for stopwords removal\n",
    "from flair.models import TextClassifier\n",
    "from flair.data import Sentence\n",
    "from segtok.segmenter import split_single\n",
    "import nltk  \n",
    "from nltk.tokenize import word_tokenize\n",
    "from nltk.stem import PorterStemmer\n",
    "from nltk.corpus import stopwords\n",
    "from nltk.sentiment.vader import SentimentIntensityAnalyzer\n",
    "from nltk.stem import WordNetLemmatizer \n",
    "from nltk.corpus import wordnet\n"
   ]
  },
  {
   "cell_type": "code",
   "execution_count": null,
   "metadata": {},
   "outputs": [],
   "source": [
    "# # wordnet\n",
    "\n",
    "# def get_wordnet_pos(word):\n",
    "#     \"\"\"Map POS tag to first character lemmatize() accepts\"\"\"\n",
    "#     tag = nltk.pos_tag([word])[0][1][0].upper()\n",
    "#     tag_dict = {\"J\": wordnet.ADJ,\n",
    "#                 \"N\": wordnet.NOUN,\n",
    "#                 \"V\": wordnet.VERB,\n",
    "#                 \"R\": wordnet.ADV}\n",
    "#     return tag_dict.get(tag, wordnet.NOUN)\n",
    "\n",
    "# def clean_text(tweet, lemmatize = 'nltk'):\n",
    "#     # remove urls\n",
    "#     tweet = re.sub(r'http\\S+', '', tweet)\n",
    "#     # remove mentions\n",
    "#     tweet = re.sub(r'@\\w+','', tweet)\n",
    "#     # remove hashtags\n",
    "#     tweet = re.sub(r'#\\w+', '', tweet)\n",
    "#     # remove digits\n",
    "#     tweet = re.sub(r'\\d+', '', tweet)\n",
    "#     # remove html tags\n",
    "#     tweet = re.sub('r<.*?>','', tweet)\n",
    "#     # remove stop words\n",
    "#     tweet = [word for word in tweet.split() if word not in stopwords]\n",
    "#     # lemmatize\n",
    "#     if lemmatize == 'nltk':\n",
    "#         lemmatizer = WordNetLemmatizer()\n",
    "#         tweet = [lemmatizer.lemmatize(word, get_wordnet_pos(word)) for word in tweet]\n",
    "#     elif lemmatize == 'spacy':\n",
    "#         tweet = [word.lemma_ for word in nlp(' '.join(tweet))]\n",
    "#     # join words into sentence\n",
    "#     tweet = ' '.join(tweet)\n",
    "#     return tweet\n",
    "\n",
    "# tweets_df['clean_tweet'] = tweets_df.tweet.apply(lambda x: clean_text(x))\n",
    "\n",
    "# tweets_df.head()\n"
   ]
  },
  {
   "cell_type": "code",
   "execution_count": 73,
   "metadata": {},
   "outputs": [],
   "source": [
    "def get_wordnet_pos(word):\n",
    "    \"\"\"Map POS tag to first character lemmatize() accepts\"\"\"\n",
    "    tag = nltk.pos_tag([word])[0][1][0].upper()\n",
    "    tag_dict = {\"J\": wordnet.ADJ,\n",
    "                \"N\": wordnet.NOUN,\n",
    "                \"V\": wordnet.VERB,\n",
    "                \"R\": wordnet.ADV}\n",
    "\n",
    "    return tag_dict.get(tag, wordnet.NOUN)\n",
    "def clean_text(tweet, lemmatize = 'nltk'):\n",
    "    \"\"\"\n",
    "    Inputs:\n",
    "    tweet - a string representing the text we need to clean\n",
    "    lemmatize - one of two possible values {spacy, nltk} \n",
    "      two lemmatization methods\n",
    "      with our dataset, we got the best results with nltk\n",
    "      but Spacy also did a good job, hence you might \n",
    "      try both and compare results for your own data\n",
    "    \n",
    "    Output: \n",
    "    tokenized - the cleaned text, tokenized (a list of string words)\n",
    "    \"\"\"\n",
    "\n",
    "    tweet = tweet.lower() # lowercase\n",
    "    tweet = re.sub(r\"http\\S+|www\\S+|https\\S+\", '', tweet, flags=re.MULTILINE) # remove urls\n",
    "    tweet = re.sub(r'\\@\\w+|\\#','', tweet) # remove mentions of other usernames and the hashtag character\n",
    "    tweet = remove_stopwords(tweet) # remove stopwords with Gensim\n",
    "\n",
    "    if (lemmatize == 'spacy'):\n",
    "        # Initialize spacy 'en' model, keeping only tagger component needed for lemmatization\n",
    "        nlp = spacy.load('en', disable=['parser', 'ner'])\n",
    "        doc = nlp(tweet)\n",
    "        tokenized = [token.lemma_ for token in doc if token.lemma_ != '-PRON-']\n",
    "    elif (lemmatize == 'nltk'): \n",
    "        lemmatizer = WordNetLemmatizer()\n",
    "        tokenized = [lemmatizer.lemmatize(w, get_wordnet_pos(w)) for w in nltk.word_tokenize(tweet)]\n",
    "    \n",
    "    # remove left over stop words with nltk\n",
    "    tokenized = [token for token in tokenized if token not in stopwords.words(\"english\")] \n",
    "\n",
    "    # remove non-alpha characters and keep the words of length >2 only\n",
    "    tokenized = [token for token in tokenized if token.isalpha() and len(token)>2]\n",
    "\n",
    "    return tokenized\n",
    "\n",
    "def combine_tokens(tokenized): \n",
    "    non_tokenized = ' '.join([w for w in tokenized])\n",
    "    return non_tokenized"
   ]
  },
  {
   "cell_type": "code",
   "execution_count": 77,
   "metadata": {},
   "outputs": [
    {
     "name": "stdout",
     "output_type": "stream",
     "text": [
      "Cleaning all tweets takes ~3.271 minutes: \n"
     ]
    }
   ],
   "source": [
    "start =  time.time()\n",
    "\n",
    "try:\n",
    "    tweets_df['tokenized_tweet_nltk'] = tweets_df['tweet'].apply(lambda x: clean_text(x, 'nltk'))\n",
    "    tweets_df['clean_tweet_nltk'] = tweets_df['tokenized_tweet_nltk'].apply(lambda x: combine_tokens(x))\n",
    "except Exception as e:\n",
    "    print(f\"An error occurred: {str(e)}\")\n",
    "\n",
    "stop = time.time()\n",
    "print(f'Cleaning all tweets takes ~{round((stop-start)/60, 3)} minutes: ')"
   ]
  },
  {
   "cell_type": "code",
   "execution_count": 78,
   "metadata": {},
   "outputs": [
    {
     "data": {
      "text/plain": [
       "\"#Trump: As a student I used to hear for years, for ten years, I heard China! In 2019! And we have 1.5 and they don't know how many we have and I asked them how many do we have and they said 'sir we don't know.' But we have millions. Like 300 million.\\n\\nUm. What?\""
      ]
     },
     "execution_count": 78,
     "metadata": {},
     "output_type": "execute_result"
    }
   ],
   "source": [
    "tweets_df.tweet.iloc[0]"
   ]
  },
  {
   "cell_type": "code",
   "execution_count": 80,
   "metadata": {},
   "outputs": [],
   "source": [
    "tweets_df.to_csv(output + '/clean_tweets_df.csv', index=False)\n"
   ]
  },
  {
   "cell_type": "markdown",
   "metadata": {},
   "source": [
    "## Finnish"
   ]
  },
  {
   "cell_type": "code",
   "execution_count": null,
   "metadata": {},
   "outputs": [],
   "source": []
  }
 ],
 "metadata": {
  "kernelspec": {
   "display_name": ".venv",
   "language": "python",
   "name": "python3"
  },
  "language_info": {
   "codemirror_mode": {
    "name": "ipython",
    "version": 3
   },
   "file_extension": ".py",
   "mimetype": "text/x-python",
   "name": "python",
   "nbconvert_exporter": "python",
   "pygments_lexer": "ipython3",
   "version": "3.10.12"
  }
 },
 "nbformat": 4,
 "nbformat_minor": 2
}
