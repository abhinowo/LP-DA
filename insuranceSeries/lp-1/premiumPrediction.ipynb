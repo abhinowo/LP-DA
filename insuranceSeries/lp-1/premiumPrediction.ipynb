{
 "cells": [
  {
   "cell_type": "code",
   "execution_count": 1,
   "metadata": {},
   "outputs": [
    {
     "name": "stdout",
     "output_type": "stream",
     "text": [
      "Warning: Your Kaggle API key is readable by other users on this system! To fix this, you can run 'chmod 600 /home/abhinowo/.kaggle/kaggle.json'\n",
      "Downloading insurance-premium-prediction.zip to /home/abhinowo/Documents/LearningProject/PythonDataAnalytics/insuranceSeries/lp-1\n",
      "  0%|                                               | 0.00/13.4k [00:00<?, ?B/s]\n",
      "100%|██████████████████████████████████████| 13.4k/13.4k [00:00<00:00, 63.7MB/s]\n"
     ]
    }
   ],
   "source": [
    "!kaggle datasets download -d noordeen/insurance-premium-prediction"
   ]
  },
  {
   "cell_type": "code",
   "execution_count": 2,
   "metadata": {},
   "outputs": [
    {
     "name": "stdout",
     "output_type": "stream",
     "text": [
      "Archive:  insurance-premium-prediction.zip\n",
      "  inflating: data_input/insurance.csv  \n"
     ]
    }
   ],
   "source": [
    "!unzip insurance-premium-prediction.zip -d data_input"
   ]
  },
  {
   "cell_type": "code",
   "execution_count": 1,
   "metadata": {},
   "outputs": [],
   "source": [
    "import numpy as np\n",
    "import pandas as pd\n",
    "import matplotlib.pyplot as plt\n",
    "import seaborn as sns\n",
    "import warnings\n",
    "import os\n",
    "\n",
    "warnings.filterwarnings('ignore')"
   ]
  },
  {
   "cell_type": "code",
   "execution_count": 2,
   "metadata": {},
   "outputs": [
    {
     "data": {
      "text/html": [
       "<div>\n",
       "<style scoped>\n",
       "    .dataframe tbody tr th:only-of-type {\n",
       "        vertical-align: middle;\n",
       "    }\n",
       "\n",
       "    .dataframe tbody tr th {\n",
       "        vertical-align: top;\n",
       "    }\n",
       "\n",
       "    .dataframe thead th {\n",
       "        text-align: right;\n",
       "    }\n",
       "</style>\n",
       "<table border=\"1\" class=\"dataframe\">\n",
       "  <thead>\n",
       "    <tr style=\"text-align: right;\">\n",
       "      <th></th>\n",
       "      <th>age</th>\n",
       "      <th>sex</th>\n",
       "      <th>bmi</th>\n",
       "      <th>children</th>\n",
       "      <th>smoker</th>\n",
       "      <th>region</th>\n",
       "      <th>expenses</th>\n",
       "    </tr>\n",
       "  </thead>\n",
       "  <tbody>\n",
       "    <tr>\n",
       "      <th>0</th>\n",
       "      <td>19</td>\n",
       "      <td>female</td>\n",
       "      <td>27.9</td>\n",
       "      <td>0</td>\n",
       "      <td>yes</td>\n",
       "      <td>southwest</td>\n",
       "      <td>16884.92</td>\n",
       "    </tr>\n",
       "    <tr>\n",
       "      <th>1</th>\n",
       "      <td>18</td>\n",
       "      <td>male</td>\n",
       "      <td>33.8</td>\n",
       "      <td>1</td>\n",
       "      <td>no</td>\n",
       "      <td>southeast</td>\n",
       "      <td>1725.55</td>\n",
       "    </tr>\n",
       "    <tr>\n",
       "      <th>2</th>\n",
       "      <td>28</td>\n",
       "      <td>male</td>\n",
       "      <td>33.0</td>\n",
       "      <td>3</td>\n",
       "      <td>no</td>\n",
       "      <td>southeast</td>\n",
       "      <td>4449.46</td>\n",
       "    </tr>\n",
       "    <tr>\n",
       "      <th>3</th>\n",
       "      <td>33</td>\n",
       "      <td>male</td>\n",
       "      <td>22.7</td>\n",
       "      <td>0</td>\n",
       "      <td>no</td>\n",
       "      <td>northwest</td>\n",
       "      <td>21984.47</td>\n",
       "    </tr>\n",
       "    <tr>\n",
       "      <th>4</th>\n",
       "      <td>32</td>\n",
       "      <td>male</td>\n",
       "      <td>28.9</td>\n",
       "      <td>0</td>\n",
       "      <td>no</td>\n",
       "      <td>northwest</td>\n",
       "      <td>3866.86</td>\n",
       "    </tr>\n",
       "  </tbody>\n",
       "</table>\n",
       "</div>"
      ],
      "text/plain": [
       "   age     sex   bmi  children smoker     region  expenses\n",
       "0   19  female  27.9         0    yes  southwest  16884.92\n",
       "1   18    male  33.8         1     no  southeast   1725.55\n",
       "2   28    male  33.0         3     no  southeast   4449.46\n",
       "3   33    male  22.7         0     no  northwest  21984.47\n",
       "4   32    male  28.9         0     no  northwest   3866.86"
      ]
     },
     "execution_count": 2,
     "metadata": {},
     "output_type": "execute_result"
    }
   ],
   "source": [
    "df = pd.read_csv('./data_input//insurance.csv')\n",
    "df.head()"
   ]
  },
  {
   "cell_type": "code",
   "execution_count": 3,
   "metadata": {},
   "outputs": [
    {
     "name": "stdout",
     "output_type": "stream",
     "text": [
      "<class 'pandas.core.frame.DataFrame'>\n",
      "RangeIndex: 1338 entries, 0 to 1337\n",
      "Data columns (total 7 columns):\n",
      " #   Column    Non-Null Count  Dtype  \n",
      "---  ------    --------------  -----  \n",
      " 0   age       1338 non-null   int64  \n",
      " 1   sex       1338 non-null   object \n",
      " 2   bmi       1338 non-null   float64\n",
      " 3   children  1338 non-null   int64  \n",
      " 4   smoker    1338 non-null   object \n",
      " 5   region    1338 non-null   object \n",
      " 6   expenses  1338 non-null   float64\n",
      "dtypes: float64(2), int64(2), object(3)\n",
      "memory usage: 73.3+ KB\n"
     ]
    }
   ],
   "source": [
    "df.info()"
   ]
  },
  {
   "cell_type": "code",
   "execution_count": 4,
   "metadata": {},
   "outputs": [
    {
     "data": {
      "text/plain": [
       "age         0\n",
       "sex         0\n",
       "bmi         0\n",
       "children    0\n",
       "smoker      0\n",
       "region      0\n",
       "expenses    0\n",
       "dtype: int64"
      ]
     },
     "execution_count": 4,
     "metadata": {},
     "output_type": "execute_result"
    }
   ],
   "source": [
    "df.isnull().sum()"
   ]
  },
  {
   "cell_type": "code",
   "execution_count": 5,
   "metadata": {},
   "outputs": [
    {
     "data": {
      "text/plain": [
       "array(['southwest', 'southeast', 'northwest', 'northeast'], dtype=object)"
      ]
     },
     "execution_count": 5,
     "metadata": {},
     "output_type": "execute_result"
    }
   ],
   "source": [
    "df['region'].unique()"
   ]
  },
  {
   "cell_type": "code",
   "execution_count": 6,
   "metadata": {},
   "outputs": [
    {
     "data": {
      "text/html": [
       "<div>\n",
       "<style scoped>\n",
       "    .dataframe tbody tr th:only-of-type {\n",
       "        vertical-align: middle;\n",
       "    }\n",
       "\n",
       "    .dataframe tbody tr th {\n",
       "        vertical-align: top;\n",
       "    }\n",
       "\n",
       "    .dataframe thead th {\n",
       "        text-align: right;\n",
       "    }\n",
       "</style>\n",
       "<table border=\"1\" class=\"dataframe\">\n",
       "  <thead>\n",
       "    <tr style=\"text-align: right;\">\n",
       "      <th></th>\n",
       "      <th>age</th>\n",
       "      <th>sex</th>\n",
       "      <th>bmi</th>\n",
       "      <th>children</th>\n",
       "      <th>smoker</th>\n",
       "      <th>region</th>\n",
       "      <th>expenses</th>\n",
       "    </tr>\n",
       "  </thead>\n",
       "  <tbody>\n",
       "    <tr>\n",
       "      <th>543</th>\n",
       "      <td>54</td>\n",
       "      <td>female</td>\n",
       "      <td>47.4</td>\n",
       "      <td>0</td>\n",
       "      <td>yes</td>\n",
       "      <td>southeast</td>\n",
       "      <td>63770.43</td>\n",
       "    </tr>\n",
       "    <tr>\n",
       "      <th>1300</th>\n",
       "      <td>45</td>\n",
       "      <td>male</td>\n",
       "      <td>30.4</td>\n",
       "      <td>0</td>\n",
       "      <td>yes</td>\n",
       "      <td>southeast</td>\n",
       "      <td>62592.87</td>\n",
       "    </tr>\n",
       "    <tr>\n",
       "      <th>1230</th>\n",
       "      <td>52</td>\n",
       "      <td>male</td>\n",
       "      <td>34.5</td>\n",
       "      <td>3</td>\n",
       "      <td>yes</td>\n",
       "      <td>northwest</td>\n",
       "      <td>60021.40</td>\n",
       "    </tr>\n",
       "    <tr>\n",
       "      <th>577</th>\n",
       "      <td>31</td>\n",
       "      <td>female</td>\n",
       "      <td>38.1</td>\n",
       "      <td>1</td>\n",
       "      <td>yes</td>\n",
       "      <td>northeast</td>\n",
       "      <td>58571.07</td>\n",
       "    </tr>\n",
       "    <tr>\n",
       "      <th>819</th>\n",
       "      <td>33</td>\n",
       "      <td>female</td>\n",
       "      <td>35.5</td>\n",
       "      <td>0</td>\n",
       "      <td>yes</td>\n",
       "      <td>northwest</td>\n",
       "      <td>55135.40</td>\n",
       "    </tr>\n",
       "  </tbody>\n",
       "</table>\n",
       "</div>"
      ],
      "text/plain": [
       "      age     sex   bmi  children smoker     region  expenses\n",
       "543    54  female  47.4         0    yes  southeast  63770.43\n",
       "1300   45    male  30.4         0    yes  southeast  62592.87\n",
       "1230   52    male  34.5         3    yes  northwest  60021.40\n",
       "577    31  female  38.1         1    yes  northeast  58571.07\n",
       "819    33  female  35.5         0    yes  northwest  55135.40"
      ]
     },
     "execution_count": 6,
     "metadata": {},
     "output_type": "execute_result"
    }
   ],
   "source": [
    "# find top 5 where expenses are high\n",
    "\n",
    "df.sort_values(by='expenses', ascending=False).head()"
   ]
  },
  {
   "cell_type": "code",
   "execution_count": 7,
   "metadata": {},
   "outputs": [
    {
     "name": "stdout",
     "output_type": "stream",
     "text": [
      "Male: 676\n",
      "Female: 662\n"
     ]
    }
   ],
   "source": [
    "# Find the value counts of male and female on sex column\n",
    "\n",
    "print('Male:', df['sex'].value_counts()[0])\n",
    "print('Female:', df['sex'].value_counts()[1])"
   ]
  },
  {
   "cell_type": "code",
   "execution_count": 8,
   "metadata": {},
   "outputs": [
    {
     "name": "stdout",
     "output_type": "stream",
     "text": [
      "Smoker: 1064\n",
      "Non-smoker: 274\n"
     ]
    }
   ],
   "source": [
    "# Find the value counts of smoker and non-smoker on smoker column\n",
    "\n",
    "print('Smoker:', df['smoker'].value_counts()[0])\n",
    "print('Non-smoker:', df['smoker'].value_counts()[1])\n"
   ]
  },
  {
   "cell_type": "code",
   "execution_count": 9,
   "metadata": {},
   "outputs": [
    {
     "data": {
      "text/html": [
       "<div>\n",
       "<style scoped>\n",
       "    .dataframe tbody tr th:only-of-type {\n",
       "        vertical-align: middle;\n",
       "    }\n",
       "\n",
       "    .dataframe tbody tr th {\n",
       "        vertical-align: top;\n",
       "    }\n",
       "\n",
       "    .dataframe thead th {\n",
       "        text-align: right;\n",
       "    }\n",
       "</style>\n",
       "<table border=\"1\" class=\"dataframe\">\n",
       "  <thead>\n",
       "    <tr style=\"text-align: right;\">\n",
       "      <th></th>\n",
       "      <th>age</th>\n",
       "      <th>sex</th>\n",
       "      <th>bmi</th>\n",
       "      <th>children</th>\n",
       "      <th>smoker</th>\n",
       "      <th>region</th>\n",
       "      <th>expenses</th>\n",
       "    </tr>\n",
       "  </thead>\n",
       "  <tbody>\n",
       "    <tr>\n",
       "      <th>0</th>\n",
       "      <td>19</td>\n",
       "      <td>1</td>\n",
       "      <td>27.9</td>\n",
       "      <td>0</td>\n",
       "      <td>1</td>\n",
       "      <td>0</td>\n",
       "      <td>16884.92</td>\n",
       "    </tr>\n",
       "    <tr>\n",
       "      <th>1</th>\n",
       "      <td>18</td>\n",
       "      <td>0</td>\n",
       "      <td>33.8</td>\n",
       "      <td>1</td>\n",
       "      <td>0</td>\n",
       "      <td>1</td>\n",
       "      <td>1725.55</td>\n",
       "    </tr>\n",
       "    <tr>\n",
       "      <th>2</th>\n",
       "      <td>28</td>\n",
       "      <td>0</td>\n",
       "      <td>33.0</td>\n",
       "      <td>3</td>\n",
       "      <td>0</td>\n",
       "      <td>1</td>\n",
       "      <td>4449.46</td>\n",
       "    </tr>\n",
       "    <tr>\n",
       "      <th>3</th>\n",
       "      <td>33</td>\n",
       "      <td>0</td>\n",
       "      <td>22.7</td>\n",
       "      <td>0</td>\n",
       "      <td>0</td>\n",
       "      <td>2</td>\n",
       "      <td>21984.47</td>\n",
       "    </tr>\n",
       "    <tr>\n",
       "      <th>4</th>\n",
       "      <td>32</td>\n",
       "      <td>0</td>\n",
       "      <td>28.9</td>\n",
       "      <td>0</td>\n",
       "      <td>0</td>\n",
       "      <td>2</td>\n",
       "      <td>3866.86</td>\n",
       "    </tr>\n",
       "  </tbody>\n",
       "</table>\n",
       "</div>"
      ],
      "text/plain": [
       "   age  sex   bmi  children  smoker  region  expenses\n",
       "0   19    1  27.9         0       1       0  16884.92\n",
       "1   18    0  33.8         1       0       1   1725.55\n",
       "2   28    0  33.0         3       0       1   4449.46\n",
       "3   33    0  22.7         0       0       2  21984.47\n",
       "4   32    0  28.9         0       0       2   3866.86"
      ]
     },
     "execution_count": 9,
     "metadata": {},
     "output_type": "execute_result"
    }
   ],
   "source": [
    "# make sex and smoker column to numeric\n",
    "\n",
    "df['sex'] = df['sex'].map({'male':0, 'female':1})\n",
    "df['smoker'] = df['smoker'].map({'no':0, 'yes':1})\n",
    "df['region'] = df['region'].map({'southwest':0, 'southeast':1, 'northwest':2, 'northeast':3})\n",
    "\n",
    "df.head()"
   ]
  },
  {
   "cell_type": "code",
   "execution_count": 10,
   "metadata": {},
   "outputs": [
    {
     "data": {
      "image/png": "[encoded data removed]",
      "text/plain": [
       "<Figure size 1000x1000 with 2 Axes>"
      ]
     },
     "metadata": {},
     "output_type": "display_data"
    }
   ],
   "source": [
    "# find correlation between features\n",
    "\n",
    "plt.figure(figsize=(10, 10))\n",
    "sns.heatmap(df.corr(), annot=True, cmap='Blues')\n",
    "plt.show()\n"
   ]
  },
  {
   "cell_type": "markdown",
   "metadata": {},
   "source": [
    "- we can see that smoker and expenses are highly correlated"
   ]
  },
  {
   "cell_type": "code",
   "execution_count": 11,
   "metadata": {},
   "outputs": [
    {
     "data": {
      "image/png": "[encoded data removed]",
      "text/plain": [
       "<Figure size 1000x1000 with 1 Axes>"
      ]
     },
     "metadata": {},
     "output_type": "display_data"
    }
   ],
   "source": [
    "# take a look at the distribution between expenses and smoker column\n",
    "\n",
    "plt.figure(figsize=(10, 10))\n",
    "sns.boxplot(x='smoker', y='expenses', data=df)\n",
    "plt.title('Distribution of expenses on smoker column')\n",
    "plt.show()"
   ]
  },
  {
   "cell_type": "code",
   "execution_count": 12,
   "metadata": {},
   "outputs": [
    {
     "name": "stdout",
     "output_type": "stream",
     "text": [
      "T-statistics: 46.6649210792002\n",
      "P-value: 8.271449574495316e-283\n"
     ]
    }
   ],
   "source": [
    "# T- Test\n",
    "\n",
    "from scipy.stats import ttest_ind\n",
    "\n",
    "smoker = df[df['smoker'] == 1]['expenses']\n",
    "non_smoker = df[df['smoker'] == 0]['expenses']\n",
    "\n",
    "# perform t-test\n",
    "ttest = ttest_ind(smoker, non_smoker)\n",
    "print('T-statistics:', ttest.statistic)\n",
    "print('P-value:', ttest.pvalue)"
   ]
  },
  {
   "cell_type": "code",
   "execution_count": 13,
   "metadata": {},
   "outputs": [
    {
     "name": "stdout",
     "output_type": "stream",
     "text": [
      "F-statistics: 2177.6148593279827\n",
      "P-value: 8.27144957450302e-283\n"
     ]
    }
   ],
   "source": [
    "# ANOVA Test\n",
    "\n",
    "from scipy.stats import f_oneway\n",
    "\n",
    "smoker = df[df['smoker'] == 1]['expenses']\n",
    "non_smoker = df[df['smoker'] == 0]['expenses']\n",
    "\n",
    "# perform ANOVA test\n",
    "anova = f_oneway(smoker, non_smoker)\n",
    "print('F-statistics:', anova.statistic)\n",
    "print('P-value:', anova.pvalue)"
   ]
  },
  {
   "cell_type": "markdown",
   "metadata": {},
   "source": [
    "ANOVA results with a very low p-value (close to zero) indicate that there are significant differences in medical expenses among the groups you tested (likely \"smoker\" categories). The F-statistic measures the magnitude of these differences, and the low p-value strongly suggests that at least one group's mean is different from the others in a statistically significant way."
   ]
  },
  {
   "cell_type": "code",
   "execution_count": 11,
   "metadata": {},
   "outputs": [
    {
     "data": {
      "image/png": "[encoded data removed]",
      "text/plain": [
       "<Figure size 1000x1000 with 1 Axes>"
      ]
     },
     "metadata": {},
     "output_type": "display_data"
    }
   ],
   "source": [
    "plt.figure(figsize=(10, 10))\n",
    "sns.histplot(df['expenses'], kde=True)\n",
    "plt.title('Distribution of Expenses')\n",
    "plt.show()"
   ]
  },
  {
   "cell_type": "code",
   "execution_count": 12,
   "metadata": {},
   "outputs": [
    {
     "data": {
      "image/png": "[encoded data removed]",
      "text/plain": [
       "<Figure size 1000x1000 with 1 Axes>"
      ]
     },
     "metadata": {},
     "output_type": "display_data"
    }
   ],
   "source": [
    "plt.figure(figsize=(10, 10))\n",
    "sns.histplot(df['age'], kde=True)\n",
    "plt.title('Distribution of Expenses')\n",
    "plt.show()"
   ]
  },
  {
   "cell_type": "code",
   "execution_count": 13,
   "metadata": {},
   "outputs": [],
   "source": [
    "# Build Model for prediction\n",
    "\n",
    "from sklearn.model_selection import train_test_split\n",
    "from sklearn.metrics import mean_squared_error, mean_absolute_error, r2_score\n",
    "from sklearn.linear_model import LinearRegression"
   ]
  },
  {
   "cell_type": "code",
   "execution_count": 14,
   "metadata": {},
   "outputs": [],
   "source": [
    "# split data into train and test\n",
    "\n",
    "X = df.drop('expenses', axis=1)\n",
    "y = df['expenses']\n",
    "\n",
    "X_train, X_test, y_train, y_test = train_test_split(X, y, test_size=0.2, random_state=42)\n"
   ]
  },
  {
   "cell_type": "markdown",
   "metadata": {},
   "source": [
    "# Linear Regression\n",
    "\n",
    "- Use simple linear regression when you have a **single predictor variable (feature)** or when you have strong domain knowledge suggesting a linear relationship between the predictor and the target variable.\n",
    "\n",
    "- Simple linear regression is more straightforward and easier to interpret when there are clear linear relationships in the data, and you don't need to perform feature selection.\n",
    "\n",
    "- If your primary goal is to fit a linear model without imposing regularization or feature selection, and you have a small number of predictor variables, simple linear regression may be a good choice.\n",
    "\n"
   ]
  },
  {
   "cell_type": "code",
   "execution_count": 15,
   "metadata": {},
   "outputs": [
    {
     "name": "stdout",
     "output_type": "stream",
     "text": [
      "Score: 0.7833214205203848\n",
      "RMSE: 5799.920265829356\n",
      "MAE: 4186.9401063170135\n",
      "R2: 0.7833214205203848\n"
     ]
    }
   ],
   "source": [
    "LinearRegression = LinearRegression()\n",
    "LinearRegression.fit(X_train, y_train)\n",
    "\n",
    "# predict the test data\n",
    "y_pred = LinearRegression.predict(X_test)\n",
    "\n",
    "# find the score of the model\n",
    "print('Score:', LinearRegression.score(X_test, y_test))\n",
    "print('RMSE:', np.sqrt(mean_squared_error(y_test, y_pred)))\n",
    "print('MAE:', mean_absolute_error(y_test, y_pred))\n",
    "print('R2:', r2_score(y_test, y_pred))"
   ]
  },
  {
   "cell_type": "markdown",
   "metadata": {},
   "source": [
    "If your primary concern is minimizing the financial impact of errors, you might lean toward **RMSE**. However, if you want a more interpretable and easily understandable measure of prediction accuracy, **MAE** can be a valid choice."
   ]
  },
  {
   "cell_type": "markdown",
   "metadata": {},
   "source": [
    "# Lasso Model\n",
    "\n",
    "- Use Lasso regression when you have a **large number of predictor variables (features)** and you suspect that not all of them are relevant. Lasso can automatically perform feature selection by driving some of the coefficients to exactly zero, effectively removing those features from the model.\n",
    "\n",
    "- Lasso is particularly useful when you want to create a more interpretable model that focuses on a subset of the most important features, reducing model complexity.\n",
    "\n",
    "- Lasso is helpful when you want to prevent overfitting by adding L1 regularization to the linear regression model, which can reduce the risk of fitting noise in the data."
   ]
  },
  {
   "cell_type": "code",
   "execution_count": 16,
   "metadata": {},
   "outputs": [
    {
     "name": "stdout",
     "output_type": "stream",
     "text": [
      "Score: 0.7832948524539634\n",
      "RMSE: 5800.275833841662\n",
      "MAE: 4187.676268278807\n"
     ]
    }
   ],
   "source": [
    "# Try lasso \n",
    "from sklearn.linear_model import Lasso\n",
    "\n",
    "Lasso = Lasso()\n",
    "Lasso.fit(X_train, y_train)\n",
    "\n",
    "# predict the test data\n",
    "y_pred = Lasso.predict(X_test)\n",
    "\n",
    "# find the score of the model\n",
    "print('Score:', Lasso.score(X_test, y_test))\n",
    "print('RMSE:', np.sqrt(mean_squared_error(y_test, y_pred)))\n",
    "print('MAE:', mean_absolute_error(y_test, y_pred))\n"
   ]
  },
  {
   "cell_type": "markdown",
   "metadata": {},
   "source": [
    "## Random Forest\n",
    "\n",
    "- Random Forest can capture complex, non-linear relationships between predictor variables and insurance expenses, making it suitable for situations where the relationship is not purely linear.\n",
    "\n",
    "- It is less prone to overfitting compared to individual decision trees, thanks to the ensemble approach.\n",
    "\n",
    "- Feature importance: Random Forest can provide information about the importance of each predictor variable in making predictions, which can be valuable for understanding the factors influencing insurance expenses.\n",
    "\n",
    "- It can handle a mix of categorical and numerical predictor variables."
   ]
  },
  {
   "cell_type": "code",
   "execution_count": 17,
   "metadata": {},
   "outputs": [
    {
     "name": "stdout",
     "output_type": "stream",
     "text": [
      "Score: 0.8648447111602561\n",
      "RMSE: 4580.686351288292\n",
      "MAE: 2474.9517786940305\n"
     ]
    }
   ],
   "source": [
    "# Random Forest\n",
    "from sklearn.ensemble import RandomForestRegressor\n",
    "\n",
    "RandomForestRegressor = RandomForestRegressor()\n",
    "RandomForestRegressor.fit(X_train, y_train)\n",
    "\n",
    "# predict the test data\n",
    "y_pred = RandomForestRegressor.predict(X_test)\n",
    "\n",
    "# find the score of the model\n",
    "print('Score:', RandomForestRegressor.score(X_test, y_test))\n",
    "print('RMSE:', np.sqrt(mean_squared_error(y_test, y_pred)))\n",
    "print('MAE:', mean_absolute_error(y_test, y_pred))"
   ]
  },
  {
   "cell_type": "markdown",
   "metadata": {},
   "source": [
    "Based on these metrics, **Random Forest** appears to be the **best-performing model** among the three. It has the highest R-squared, the lowest RMSE, and the lowest MAE. This suggests that Random Forest provides the best trade-off between explanatory power and predictive accuracy."
   ]
  },
  {
   "cell_type": "code",
   "execution_count": 19,
   "metadata": {},
   "outputs": [
    {
     "data": {
      "text/html": [
       "<div>\n",
       "<style scoped>\n",
       "    .dataframe tbody tr th:only-of-type {\n",
       "        vertical-align: middle;\n",
       "    }\n",
       "\n",
       "    .dataframe tbody tr th {\n",
       "        vertical-align: top;\n",
       "    }\n",
       "\n",
       "    .dataframe thead th {\n",
       "        text-align: right;\n",
       "    }\n",
       "</style>\n",
       "<table border=\"1\" class=\"dataframe\">\n",
       "  <thead>\n",
       "    <tr style=\"text-align: right;\">\n",
       "      <th></th>\n",
       "      <th>age</th>\n",
       "      <th>sex</th>\n",
       "      <th>bmi</th>\n",
       "      <th>children</th>\n",
       "      <th>smoker</th>\n",
       "      <th>region</th>\n",
       "      <th>expenses</th>\n",
       "    </tr>\n",
       "  </thead>\n",
       "  <tbody>\n",
       "    <tr>\n",
       "      <th>0</th>\n",
       "      <td>19</td>\n",
       "      <td>1</td>\n",
       "      <td>27.9</td>\n",
       "      <td>0</td>\n",
       "      <td>1</td>\n",
       "      <td>0</td>\n",
       "      <td>16884.92</td>\n",
       "    </tr>\n",
       "    <tr>\n",
       "      <th>1</th>\n",
       "      <td>18</td>\n",
       "      <td>0</td>\n",
       "      <td>33.8</td>\n",
       "      <td>1</td>\n",
       "      <td>0</td>\n",
       "      <td>1</td>\n",
       "      <td>1725.55</td>\n",
       "    </tr>\n",
       "    <tr>\n",
       "      <th>2</th>\n",
       "      <td>28</td>\n",
       "      <td>0</td>\n",
       "      <td>33.0</td>\n",
       "      <td>3</td>\n",
       "      <td>0</td>\n",
       "      <td>1</td>\n",
       "      <td>4449.46</td>\n",
       "    </tr>\n",
       "    <tr>\n",
       "      <th>3</th>\n",
       "      <td>33</td>\n",
       "      <td>0</td>\n",
       "      <td>22.7</td>\n",
       "      <td>0</td>\n",
       "      <td>0</td>\n",
       "      <td>2</td>\n",
       "      <td>21984.47</td>\n",
       "    </tr>\n",
       "    <tr>\n",
       "      <th>4</th>\n",
       "      <td>32</td>\n",
       "      <td>0</td>\n",
       "      <td>28.9</td>\n",
       "      <td>0</td>\n",
       "      <td>0</td>\n",
       "      <td>2</td>\n",
       "      <td>3866.86</td>\n",
       "    </tr>\n",
       "  </tbody>\n",
       "</table>\n",
       "</div>"
      ],
      "text/plain": [
       "   age  sex   bmi  children  smoker  region  expenses\n",
       "0   19    1  27.9         0       1       0  16884.92\n",
       "1   18    0  33.8         1       0       1   1725.55\n",
       "2   28    0  33.0         3       0       1   4449.46\n",
       "3   33    0  22.7         0       0       2  21984.47\n",
       "4   32    0  28.9         0       0       2   3866.86"
      ]
     },
     "execution_count": 19,
     "metadata": {},
     "output_type": "execute_result"
    }
   ],
   "source": [
    "df.head()"
   ]
  },
  {
   "cell_type": "code",
   "execution_count": 20,
   "metadata": {},
   "outputs": [
    {
     "name": "stdout",
     "output_type": "stream",
     "text": [
      "Linear Regression: [25138.01692601]\n",
      "Lasso: [25132.9131742]\n",
      "Random Forest: [17019.756]\n"
     ]
    }
   ],
   "source": [
    "# test with new data\n",
    "\n",
    "new_data = [[19, 1, 27.9, 0, 1, 0]]\n",
    "print('Linear Regression:', LinearRegression.predict(new_data))\n",
    "print('Lasso:', Lasso.predict(new_data))\n",
    "print('Random Forest:', RandomForestRegressor.predict(new_data))\n"
   ]
  },
  {
   "cell_type": "code",
   "execution_count": 21,
   "metadata": {},
   "outputs": [
    {
     "data": {
      "text/html": [
       "<div>\n",
       "<style scoped>\n",
       "    .dataframe tbody tr th:only-of-type {\n",
       "        vertical-align: middle;\n",
       "    }\n",
       "\n",
       "    .dataframe tbody tr th {\n",
       "        vertical-align: top;\n",
       "    }\n",
       "\n",
       "    .dataframe thead th {\n",
       "        text-align: right;\n",
       "    }\n",
       "</style>\n",
       "<table border=\"1\" class=\"dataframe\">\n",
       "  <thead>\n",
       "    <tr style=\"text-align: right;\">\n",
       "      <th></th>\n",
       "      <th>age</th>\n",
       "      <th>sex</th>\n",
       "      <th>bmi</th>\n",
       "      <th>children</th>\n",
       "      <th>smoker</th>\n",
       "      <th>region</th>\n",
       "      <th>expenses</th>\n",
       "      <th>premium_category</th>\n",
       "    </tr>\n",
       "  </thead>\n",
       "  <tbody>\n",
       "    <tr>\n",
       "      <th>0</th>\n",
       "      <td>19</td>\n",
       "      <td>1</td>\n",
       "      <td>27.9</td>\n",
       "      <td>0</td>\n",
       "      <td>1</td>\n",
       "      <td>0</td>\n",
       "      <td>16884.92</td>\n",
       "      <td>low</td>\n",
       "    </tr>\n",
       "    <tr>\n",
       "      <th>1</th>\n",
       "      <td>18</td>\n",
       "      <td>0</td>\n",
       "      <td>33.8</td>\n",
       "      <td>1</td>\n",
       "      <td>0</td>\n",
       "      <td>1</td>\n",
       "      <td>1725.55</td>\n",
       "      <td>low</td>\n",
       "    </tr>\n",
       "    <tr>\n",
       "      <th>2</th>\n",
       "      <td>28</td>\n",
       "      <td>0</td>\n",
       "      <td>33.0</td>\n",
       "      <td>3</td>\n",
       "      <td>0</td>\n",
       "      <td>1</td>\n",
       "      <td>4449.46</td>\n",
       "      <td>low</td>\n",
       "    </tr>\n",
       "    <tr>\n",
       "      <th>3</th>\n",
       "      <td>33</td>\n",
       "      <td>0</td>\n",
       "      <td>22.7</td>\n",
       "      <td>0</td>\n",
       "      <td>0</td>\n",
       "      <td>2</td>\n",
       "      <td>21984.47</td>\n",
       "      <td>medium</td>\n",
       "    </tr>\n",
       "    <tr>\n",
       "      <th>4</th>\n",
       "      <td>32</td>\n",
       "      <td>0</td>\n",
       "      <td>28.9</td>\n",
       "      <td>0</td>\n",
       "      <td>0</td>\n",
       "      <td>2</td>\n",
       "      <td>3866.86</td>\n",
       "      <td>low</td>\n",
       "    </tr>\n",
       "  </tbody>\n",
       "</table>\n",
       "</div>"
      ],
      "text/plain": [
       "   age  sex   bmi  children  smoker  region  expenses premium_category\n",
       "0   19    1  27.9         0       1       0  16884.92              low\n",
       "1   18    0  33.8         1       0       1   1725.55              low\n",
       "2   28    0  33.0         3       0       1   4449.46              low\n",
       "3   33    0  22.7         0       0       2  21984.47           medium\n",
       "4   32    0  28.9         0       0       2   3866.86              low"
      ]
     },
     "execution_count": 21,
     "metadata": {},
     "output_type": "execute_result"
    }
   ],
   "source": [
    "# make new column category based on expenses, 0-20000 low, 20000-40000 medium, 40000-60000 high\n",
    "\n",
    "df['premium_category'] = df['expenses'].apply(lambda x: 'low' if x < 20000 else ('medium' if x < 40000 else 'high'))\n",
    "df.head()"
   ]
  },
  {
   "cell_type": "code",
   "execution_count": 60,
   "metadata": {},
   "outputs": [],
   "source": [
    "# try multiouput regressor\n",
    "\n",
    "from sklearn.multioutput import MultiOutputRegressor\n",
    "from sklearn.ensemble import RandomForestRegressor\n",
    "\n",
    "x = df.drop(['expenses', 'premium_category'], axis=1)\n",
    "y = df[['expenses', 'premium_category']]\n",
    "\n",
    "# encode the categorical premium_category column\n",
    "from sklearn.preprocessing import LabelEncoder\n",
    "le = LabelEncoder()\n",
    "y['premium_category'] = le.fit_transform(y['premium_category'])\n",
    "\n",
    "# split data into train and test\n",
    "X_train, X_test, y_train, y_test = train_test_split(x, y, test_size=0.2, random_state=42)\n",
    "\n",
    "# multioutput with random forest\n",
    "model = MultiOutputRegressor(RandomForestRegressor(n_estimators=100, max_depth=30, random_state=42))\n",
    "model.fit(X_train, y_train)\n",
    "\n",
    "# predict the test data\n",
    "y_pred = model.predict(X_test)\n",
    "\n",
    "# split the predicted data into expenses and premium_category\n",
    "y_pred_expenses = y_pred[:, 0]\n",
    "y_pred_category = y_pred[:, 1]\n",
    "\n",
    "# Decode the premium_category column\n",
    "y_pred_category = le.inverse_transform(y_pred_category.astype(int))\n",
    "\n"
   ]
  },
  {
   "cell_type": "code",
   "execution_count": 26,
   "metadata": {},
   "outputs": [
    {
     "name": "stdout",
     "output_type": "stream",
     "text": [
      "Multioutput Regressor: [[1.70040833e+04 1.05000000e+00]]\n",
      "Expenses: [11473.6618      5040.4374     28113.074       9882.4022\n",
      " 34407.5887      9042.364       2164.1449     14256.2018\n",
      "  8506.3587     10579.645      19639.7927      7267.3704\n",
      "  4217.3304     45790.193      48272.5586     45334.9689\n",
      "  9898.0905     43040.3717      8435.8129     23484.8687\n",
      "  6023.8186      9746.013       2402.3725      3053.2156\n",
      " 11795.5528     11870.8057     13144.3464      6300.0729\n",
      " 10184.6016      4548.21306286  7840.4265     11917.6819\n",
      "  2035.5702      5521.4079      3177.3973     11081.8827\n",
      "  2768.9366      8586.0449     23988.7346     39289.3691\n",
      "  5941.8616      3913.736      12479.3021     15133.7789\n",
      "  6070.3745     14567.1339     15478.8426      5442.1621\n",
      " 41857.6467      6186.5779     13872.5249      2650.0354\n",
      "  6715.3667      1839.2455     12305.9212     11319.0011\n",
      "  3550.2758     43694.7037     12308.3499     15310.2343\n",
      " 13728.4423      8049.4113     19973.3725      7838.9642\n",
      " 11745.3997      6654.6515     18246.1059     15198.4959\n",
      "  7401.3801      2068.1799      7314.6355     10452.2322\n",
      "  9421.3528      9620.7987      8066.2462      4959.3677\n",
      "  8105.8059     12266.0423      4605.7409     10159.8019\n",
      "  1425.8903     28225.194       5473.6701     37541.3656\n",
      " 40524.2688     41646.2247      5629.9352     13220.6832\n",
      "  9180.0584     14918.3322     20905.4037     26516.0723\n",
      " 28917.6549      5972.1981     44895.906       7383.5088\n",
      " 19999.5437      1864.3675     17833.3101     13104.1722\n",
      "  5190.342       1784.1475      6289.0957     14198.9502\n",
      " 13829.7608      8942.9173      8876.5465     23323.9312\n",
      "  1806.3729     24034.1891      1275.5327      4008.8793\n",
      " 12748.259      40711.8627     10890.3736      6035.9304\n",
      " 12785.3663     25273.5294      7237.1384      6775.4616\n",
      "  8496.9524     10347.7477     16630.9615      2439.3885\n",
      "  7574.5502      7590.0812     11673.9594     10688.2554\n",
      " 16544.9139      4466.184       4001.795       6702.8188\n",
      "  5684.3147     11873.0418      6487.3758     24888.5788\n",
      "  7303.8811     37566.4342     46757.3578     38747.7791\n",
      "  5152.0063     12481.2432      2811.5527     16865.5121\n",
      "  2617.2261     23836.6155      6377.2449      4849.1605\n",
      " 12002.7898      5433.8614     49613.8764      6027.9188\n",
      "  1355.9384     44742.7077      6444.9315      5878.9103\n",
      " 13572.5677     10166.6619     35883.2112     39619.6544\n",
      " 13670.0315      4213.8184     20777.026       4492.1985\n",
      "  4617.4818      7805.3603     48438.5575     44358.5765\n",
      " 40196.5692      7358.14674    11455.6393      7441.2235\n",
      "  8187.0903      4724.8362      2998.1299     23166.5023\n",
      " 16872.7615     14195.1907     16594.1764     11526.3174\n",
      " 28114.9816      6426.332       9412.4602      6714.74\n",
      "  7984.251       5035.383       5904.5706      5165.2051\n",
      "  8516.2167     11999.5021      3989.4821      6473.53812\n",
      "  3547.6822     46540.9285     13078.1405      9463.7053\n",
      "  4278.8125     14177.8231      2661.9985     10470.4628\n",
      "  3174.9129     24085.9705      8479.0098      7867.9166\n",
      " 18737.3834     19195.6811     11042.7487      7390.4941\n",
      "  9773.9659      5019.6774     14150.7287     12624.8255\n",
      " 10660.325      18470.703       8233.0422      3901.3462\n",
      "  4924.666      13874.416      14391.5701      5236.4706\n",
      "  2600.4781      9119.5202      8124.6822     44875.9229\n",
      "  2558.         37522.1972      1739.902       2105.4234\n",
      "  9530.8186     10729.5334      2355.7688      9370.2401\n",
      "  5779.3734     26538.1991     13130.1739      8948.301\n",
      "  5022.3972      7029.7978     44943.6094      3193.0928\n",
      " 13535.334      40888.4184      3566.8723      3642.0955\n",
      "  1643.7135      3024.4338      4500.9196      4480.9392\n",
      " 14630.6959      2247.5334      2623.1177      8233.006\n",
      "  4030.3528     11518.4314      5529.8433      4065.0654\n",
      " 12825.8691      6771.3946      9580.2702      6892.3002\n",
      "  7692.2819     14700.69       19085.8055     47932.5624\n",
      " 12118.8321      6403.8615     46462.6373      9744.4992    ]\n",
      "Premium Category: ['low' 'low' 'low' 'low' 'low' 'low' 'low' 'low' 'low' 'low' 'low' 'low'\n",
      " 'low' 'high' 'high' 'high' 'low' 'high' 'low' 'low' 'low' 'low' 'low'\n",
      " 'low' 'low' 'low' 'low' 'low' 'low' 'low' 'low' 'low' 'low' 'low' 'low'\n",
      " 'low' 'low' 'low' 'medium' 'low' 'low' 'low' 'low' 'low' 'low' 'low'\n",
      " 'low' 'low' 'high' 'low' 'low' 'low' 'low' 'low' 'low' 'low' 'low' 'low'\n",
      " 'low' 'low' 'low' 'low' 'low' 'low' 'low' 'low' 'low' 'low' 'low' 'low'\n",
      " 'low' 'low' 'low' 'low' 'low' 'low' 'low' 'low' 'low' 'low' 'low' 'low'\n",
      " 'low' 'low' 'high' 'high' 'low' 'low' 'low' 'low' 'low' 'low' 'medium'\n",
      " 'low' 'low' 'low' 'low' 'low' 'low' 'low' 'low' 'low' 'low' 'low' 'low'\n",
      " 'low' 'low' 'low' 'low' 'low' 'low' 'low' 'low' 'low' 'low' 'low' 'low'\n",
      " 'low' 'low' 'low' 'low' 'low' 'low' 'low' 'low' 'low' 'low' 'low' 'low'\n",
      " 'low' 'low' 'low' 'low' 'low' 'low' 'low' 'low' 'low' 'high' 'low' 'low'\n",
      " 'low' 'low' 'low' 'low' 'medium' 'low' 'low' 'low' 'low' 'high' 'low'\n",
      " 'low' 'low' 'low' 'low' 'low' 'low' 'low' 'high' 'low' 'low' 'low' 'low'\n",
      " 'low' 'low' 'high' 'high' 'high' 'low' 'low' 'low' 'low' 'low' 'low'\n",
      " 'low' 'low' 'low' 'low' 'low' 'low' 'low' 'low' 'low' 'low' 'low' 'low'\n",
      " 'low' 'low' 'low' 'low' 'low' 'low' 'low' 'low' 'low' 'low' 'low' 'low'\n",
      " 'low' 'low' 'low' 'low' 'low' 'low' 'low' 'low' 'low' 'low' 'low' 'low'\n",
      " 'low' 'low' 'low' 'low' 'low' 'low' 'low' 'low' 'low' 'low' 'low' 'low'\n",
      " 'high' 'low' 'low' 'low' 'low' 'low' 'low' 'low' 'low' 'low' 'low' 'low'\n",
      " 'low' 'low' 'low' 'high' 'low' 'low' 'low' 'low' 'low' 'low' 'low' 'low'\n",
      " 'low' 'low' 'low' 'low' 'low' 'low' 'low' 'low' 'low' 'low' 'low' 'low'\n",
      " 'low' 'low' 'low' 'low' 'high' 'low' 'low' 'high' 'low']\n"
     ]
    }
   ],
   "source": [
    "# evaluate the model with new data \n",
    "new_data = [[19, 1, 27.9, 0, 1, 0]]\n",
    "print('Multioutput Regressor:', model.predict(new_data))\n",
    "print('Expenses:', y_pred_expenses)\n",
    "print('Premium Category:', y_pred_category)"
   ]
  },
  {
   "cell_type": "code",
   "execution_count": 36,
   "metadata": {},
   "outputs": [
    {
     "data": {
      "text/html": [
       "<style>#sk-container-id-3 {color: black;}#sk-container-id-3 pre{padding: 0;}#sk-container-id-3 div.sk-toggleable {background-color: white;}#sk-container-id-3 label.sk-toggleable__label {cursor: pointer;display: block;width: 100%;margin-bottom: 0;padding: 0.3em;box-sizing: border-box;text-align: center;}#sk-container-id-3 label.sk-toggleable__label-arrow:before {content: \"▸\";float: left;margin-right: 0.25em;color: #696969;}#sk-container-id-3 label.sk-toggleable__label-arrow:hover:before {color: black;}#sk-container-id-3 div.sk-estimator:hover label.sk-toggleable__label-arrow:before {color: black;}#sk-container-id-3 div.sk-toggleable__content {max-height: 0;max-width: 0;overflow: hidden;text-align: left;background-color: #f0f8ff;}#sk-container-id-3 div.sk-toggleable__content pre {margin: 0.2em;color: black;border-radius: 0.25em;background-color: #f0f8ff;}#sk-container-id-3 input.sk-toggleable__control:checked~div.sk-toggleable__content {max-height: 200px;max-width: 100%;overflow: auto;}#sk-container-id-3 input.sk-toggleable__control:checked~label.sk-toggleable__label-arrow:before {content: \"▾\";}#sk-container-id-3 div.sk-estimator input.sk-toggleable__control:checked~label.sk-toggleable__label {background-color: #d4ebff;}#sk-container-id-3 div.sk-label input.sk-toggleable__control:checked~label.sk-toggleable__label {background-color: #d4ebff;}#sk-container-id-3 input.sk-hidden--visually {border: 0;clip: rect(1px 1px 1px 1px);clip: rect(1px, 1px, 1px, 1px);height: 1px;margin: -1px;overflow: hidden;padding: 0;position: absolute;width: 1px;}#sk-container-id-3 div.sk-estimator {font-family: monospace;background-color: #f0f8ff;border: 1px dotted black;border-radius: 0.25em;box-sizing: border-box;margin-bottom: 0.5em;}#sk-container-id-3 div.sk-estimator:hover {background-color: #d4ebff;}#sk-container-id-3 div.sk-parallel-item::after {content: \"\";width: 100%;border-bottom: 1px solid gray;flex-grow: 1;}#sk-container-id-3 div.sk-label:hover label.sk-toggleable__label {background-color: #d4ebff;}#sk-container-id-3 div.sk-serial::before {content: \"\";position: absolute;border-left: 1px solid gray;box-sizing: border-box;top: 0;bottom: 0;left: 50%;z-index: 0;}#sk-container-id-3 div.sk-serial {display: flex;flex-direction: column;align-items: center;background-color: white;padding-right: 0.2em;padding-left: 0.2em;position: relative;}#sk-container-id-3 div.sk-item {position: relative;z-index: 1;}#sk-container-id-3 div.sk-parallel {display: flex;align-items: stretch;justify-content: center;background-color: white;position: relative;}#sk-container-id-3 div.sk-item::before, #sk-container-id-3 div.sk-parallel-item::before {content: \"\";position: absolute;border-left: 1px solid gray;box-sizing: border-box;top: 0;bottom: 0;left: 50%;z-index: -1;}#sk-container-id-3 div.sk-parallel-item {display: flex;flex-direction: column;z-index: 1;position: relative;background-color: white;}#sk-container-id-3 div.sk-parallel-item:first-child::after {align-self: flex-end;width: 50%;}#sk-container-id-3 div.sk-parallel-item:last-child::after {align-self: flex-start;width: 50%;}#sk-container-id-3 div.sk-parallel-item:only-child::after {width: 0;}#sk-container-id-3 div.sk-dashed-wrapped {border: 1px dashed gray;margin: 0 0.4em 0.5em 0.4em;box-sizing: border-box;padding-bottom: 0.4em;background-color: white;}#sk-container-id-3 div.sk-label label {font-family: monospace;font-weight: bold;display: inline-block;line-height: 1.2em;}#sk-container-id-3 div.sk-label-container {text-align: center;}#sk-container-id-3 div.sk-container {/* jupyter's `normalize.less` sets `[hidden] { display: none; }` but bootstrap.min.css set `[hidden] { display: none !important; }` so we also need the `!important` here to be able to override the default hidden behavior on the sphinx rendered scikit-learn.org. See: https://github.com/scikit-learn/scikit-learn/issues/21755 */display: inline-block !important;position: relative;}#sk-container-id-3 div.sk-text-repr-fallback {display: none;}</style><div id=\"sk-container-id-3\" class=\"sk-top-container\"><div class=\"sk-text-repr-fallback\"><pre>LabelEncoder()</pre><b>In a Jupyter environment, please rerun this cell to show the HTML representation or trust the notebook. <br />On GitHub, the HTML representation is unable to render, please try loading this page with nbviewer.org.</b></div><div class=\"sk-container\" hidden><div class=\"sk-item\"><div class=\"sk-estimator sk-toggleable\"><input class=\"sk-toggleable__control sk-hidden--visually\" id=\"sk-estimator-id-3\" type=\"checkbox\" checked><label for=\"sk-estimator-id-3\" class=\"sk-toggleable__label sk-toggleable__label-arrow\">LabelEncoder</label><div class=\"sk-toggleable__content\"><pre>LabelEncoder()</pre></div></div></div></div></div>"
      ],
      "text/plain": [
       "LabelEncoder()"
      ]
     },
     "execution_count": 36,
     "metadata": {},
     "output_type": "execute_result"
    }
   ],
   "source": [
    "le.fit(df['premium_category'])\n",
    "le.fit(y_train['premium_category'])\n"
   ]
  },
  {
   "cell_type": "code",
   "execution_count": 50,
   "metadata": {},
   "outputs": [
    {
     "name": "stdout",
     "output_type": "stream",
     "text": [
      "[0 1 2]\n"
     ]
    }
   ],
   "source": [
    "encoded_labels = le.classes_\n",
    "print(encoded_labels)"
   ]
  },
  {
   "cell_type": "code",
   "execution_count": 52,
   "metadata": {},
   "outputs": [
    {
     "name": "stdout",
     "output_type": "stream",
     "text": [
      "Encoded value 1 corresponds to label 1\n"
     ]
    }
   ],
   "source": [
    "encoded_value = 1  # Replace with the encoded value you want to decode\n",
    "decoded_label = le.inverse_transform([encoded_value])\n",
    "print(f'Encoded value {encoded_value} corresponds to label {decoded_label[0]}')\n"
   ]
  },
  {
   "cell_type": "code",
   "execution_count": 57,
   "metadata": {},
   "outputs": [
    {
     "data": {
      "text/html": [
       "<div>\n",
       "<style scoped>\n",
       "    .dataframe tbody tr th:only-of-type {\n",
       "        vertical-align: middle;\n",
       "    }\n",
       "\n",
       "    .dataframe tbody tr th {\n",
       "        vertical-align: top;\n",
       "    }\n",
       "\n",
       "    .dataframe thead th {\n",
       "        text-align: right;\n",
       "    }\n",
       "</style>\n",
       "<table border=\"1\" class=\"dataframe\">\n",
       "  <thead>\n",
       "    <tr style=\"text-align: right;\">\n",
       "      <th></th>\n",
       "      <th>age</th>\n",
       "      <th>sex</th>\n",
       "      <th>bmi</th>\n",
       "      <th>children</th>\n",
       "      <th>smoker</th>\n",
       "      <th>region</th>\n",
       "      <th>expenses</th>\n",
       "      <th>premium_category</th>\n",
       "    </tr>\n",
       "  </thead>\n",
       "  <tbody>\n",
       "    <tr>\n",
       "      <th>0</th>\n",
       "      <td>19</td>\n",
       "      <td>1</td>\n",
       "      <td>27.9</td>\n",
       "      <td>0</td>\n",
       "      <td>1</td>\n",
       "      <td>0</td>\n",
       "      <td>16884.92</td>\n",
       "      <td>low</td>\n",
       "    </tr>\n",
       "    <tr>\n",
       "      <th>1</th>\n",
       "      <td>18</td>\n",
       "      <td>0</td>\n",
       "      <td>33.8</td>\n",
       "      <td>1</td>\n",
       "      <td>0</td>\n",
       "      <td>1</td>\n",
       "      <td>1725.55</td>\n",
       "      <td>low</td>\n",
       "    </tr>\n",
       "    <tr>\n",
       "      <th>2</th>\n",
       "      <td>28</td>\n",
       "      <td>0</td>\n",
       "      <td>33.0</td>\n",
       "      <td>3</td>\n",
       "      <td>0</td>\n",
       "      <td>1</td>\n",
       "      <td>4449.46</td>\n",
       "      <td>low</td>\n",
       "    </tr>\n",
       "    <tr>\n",
       "      <th>3</th>\n",
       "      <td>33</td>\n",
       "      <td>0</td>\n",
       "      <td>22.7</td>\n",
       "      <td>0</td>\n",
       "      <td>0</td>\n",
       "      <td>2</td>\n",
       "      <td>21984.47</td>\n",
       "      <td>medium</td>\n",
       "    </tr>\n",
       "    <tr>\n",
       "      <th>4</th>\n",
       "      <td>32</td>\n",
       "      <td>0</td>\n",
       "      <td>28.9</td>\n",
       "      <td>0</td>\n",
       "      <td>0</td>\n",
       "      <td>2</td>\n",
       "      <td>3866.86</td>\n",
       "      <td>low</td>\n",
       "    </tr>\n",
       "  </tbody>\n",
       "</table>\n",
       "</div>"
      ],
      "text/plain": [
       "   age  sex   bmi  children  smoker  region  expenses premium_category\n",
       "0   19    1  27.9         0       1       0  16884.92              low\n",
       "1   18    0  33.8         1       0       1   1725.55              low\n",
       "2   28    0  33.0         3       0       1   4449.46              low\n",
       "3   33    0  22.7         0       0       2  21984.47           medium\n",
       "4   32    0  28.9         0       0       2   3866.86              low"
      ]
     },
     "execution_count": 57,
     "metadata": {},
     "output_type": "execute_result"
    }
   ],
   "source": [
    "df.head()"
   ]
  },
  {
   "cell_type": "code",
   "execution_count": 55,
   "metadata": {},
   "outputs": [
    {
     "name": "stdout",
     "output_type": "stream",
     "text": [
      "New Data:\n",
      "Age: 19, Gender: Male, BMI: 27.9, Smoker: No, Region: Southeast, Children: 0\n",
      "----------------------------------------\n",
      "Predicted Expenses: 17245.58\n",
      "Predicted Premium Category: low\n"
     ]
    }
   ],
   "source": [
    "# Evaluate the model with new data \n",
    "new_data = [[19, 1, 27.9, 0, 1, 0]]\n",
    "predictions = model.predict(new_data)\n",
    "predicted_expenses = predictions[0][0]  # Extract predicted expenses\n",
    "predicted_category = y_pred_category[0]  # Extract predicted category\n",
    "\n",
    "\n",
    "# Print the results with labels\n",
    "print('New Data:')\n",
    "print('Age: 19, Gender: Male, BMI: 27.9, Smoker: No, Region: Southeast, Children: 0')\n",
    "print('----------------------------------------')\n",
    "print(f\"Predicted Expenses: {predicted_expenses:.2f}\")\n",
    "print('Predicted Premium Category:', predicted_category)\n"
   ]
  },
  {
   "cell_type": "code",
   "execution_count": 59,
   "metadata": {},
   "outputs": [
    {
     "name": "stdout",
     "output_type": "stream",
     "text": [
      "New Data:\n",
      "Age:32, Gender:Male, BMI:28.9, Smoker:No, Region:Northwest, Children:2\n",
      "----------------------------------------\n",
      "Predicted Expenses: 3981.12\n",
      "Predicted Premium Category: low\n"
     ]
    }
   ],
   "source": [
    "# try with another example \n",
    "new_data = [[32, 0, 28.9, 0, 0, 2]]\n",
    "predictions = model.predict(new_data)\n",
    "predicted_expenses = predictions[0][0]  # Extract predicted expenses\n",
    "predicted_category = y_pred_category[0]  # Extract predicted category\n",
    "\n",
    "# print the results with labels\n",
    "print('New Data:')\n",
    "print('Age:32, Gender:Male, BMI:28.9, Smoker:No, Region:Northwest, Children:2')\n",
    "print('----------------------------------------')\n",
    "print(f\"Predicted Expenses: {predicted_expenses:.2f}\")\n",
    "print('Predicted Premium Category:', predicted_category)\n"
   ]
  },
  {
   "cell_type": "code",
   "execution_count": 56,
   "metadata": {},
   "outputs": [
    {
     "name": "stdout",
     "output_type": "stream",
     "text": [
      "Score: 0.7378287178665379\n",
      "RMSE: 3213.8028494816\n",
      "MAE: 1230.0022184701495\n"
     ]
    }
   ],
   "source": [
    "# find the score of the model\n",
    "print('Score:', model.score(X_test, y_test))\n",
    "print('RMSE:', np.sqrt(mean_squared_error(y_test, y_pred)))\n",
    "print('MAE:', mean_absolute_error(y_test, y_pred))"
   ]
  },
  {
   "cell_type": "code",
   "execution_count": null,
   "metadata": {},
   "outputs": [],
   "source": []
  }
 ],
 "metadata": {
  "kernelspec": {
   "display_name": ".venv",
   "language": "python",
   "name": "python3"
  },
  "language_info": {
   "codemirror_mode": {
    "name": "ipython",
    "version": 3
   },
   "file_extension": ".py",
   "mimetype": "text/x-python",
   "name": "python",
   "nbconvert_exporter": "python",
   "pygments_lexer": "ipython3",
   "version": "3.10.12"
  }
 },
 "nbformat": 4,
 "nbformat_minor": 2
}
