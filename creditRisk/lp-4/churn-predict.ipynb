{
 "cells": [
  {
   "cell_type": "markdown",
   "metadata": {},
   "source": [
    "# **Bank Customer Churn Prediction**\n",
    "[Link Dataset](https://www.kaggle.com/datasets/shantanudhakadd/bank-customer-churn-prediction?datasetId=2008274&sortBy=voteCount)\n",
    "\n",
    "**Context**\n",
    "- It is the dataset of a U.S. bank customer for getting the information that , this particular customer will leave bank or not.\n",
    "\n",
    "**Content**\n",
    "- Various Bank detail is given like CustomerID , surname, Credit score and many more.\n"
   ]
  },
  {
   "cell_type": "code",
   "execution_count": 1,
   "metadata": {},
   "outputs": [
    {
     "name": "stdout",
     "output_type": "stream",
     "text": [
      "Warning: Your Kaggle API key is readable by other users on this system! To fix this, you can run 'chmod 600 /home/abhinowo/.kaggle/kaggle.json'\n",
      "Downloading bank-customer-churn-prediction.zip to /home/abhinowo/Documents/LearningProject/PythonDataAnalytics/creditRisk/lp-4\n",
      "100%|█████████████████████████████████████████| 262k/262k [00:00<00:00, 454kB/s]\n",
      "100%|█████████████████████████████████████████| 262k/262k [00:00<00:00, 454kB/s]\n"
     ]
    }
   ],
   "source": [
    "!kaggle datasets download -d shantanudhakadd/bank-customer-churn-prediction"
   ]
  },
  {
   "cell_type": "code",
   "execution_count": 2,
   "metadata": {},
   "outputs": [
    {
     "name": "stdout",
     "output_type": "stream",
     "text": [
      "Archive:  bank-customer-churn-prediction.zip\n",
      "  inflating: Churn_Modelling.csv     \n"
     ]
    }
   ],
   "source": [
    "!unzip bank-customer-churn-prediction"
   ]
  },
  {
   "cell_type": "code",
   "execution_count": 80,
   "metadata": {},
   "outputs": [
    {
     "data": {
      "text/html": [
       "<div>\n",
       "<style scoped>\n",
       "    .dataframe tbody tr th:only-of-type {\n",
       "        vertical-align: middle;\n",
       "    }\n",
       "\n",
       "    .dataframe tbody tr th {\n",
       "        vertical-align: top;\n",
       "    }\n",
       "\n",
       "    .dataframe thead th {\n",
       "        text-align: right;\n",
       "    }\n",
       "</style>\n",
       "<table border=\"1\" class=\"dataframe\">\n",
       "  <thead>\n",
       "    <tr style=\"text-align: right;\">\n",
       "      <th></th>\n",
       "      <th>RowNumber</th>\n",
       "      <th>CustomerId</th>\n",
       "      <th>Surname</th>\n",
       "      <th>CreditScore</th>\n",
       "      <th>Geography</th>\n",
       "      <th>Gender</th>\n",
       "      <th>Age</th>\n",
       "      <th>Tenure</th>\n",
       "      <th>Balance</th>\n",
       "      <th>NumOfProducts</th>\n",
       "      <th>HasCrCard</th>\n",
       "      <th>IsActiveMember</th>\n",
       "      <th>EstimatedSalary</th>\n",
       "      <th>Exited</th>\n",
       "    </tr>\n",
       "  </thead>\n",
       "  <tbody>\n",
       "    <tr>\n",
       "      <th>0</th>\n",
       "      <td>1</td>\n",
       "      <td>15634602</td>\n",
       "      <td>Hargrave</td>\n",
       "      <td>619</td>\n",
       "      <td>France</td>\n",
       "      <td>Female</td>\n",
       "      <td>42</td>\n",
       "      <td>2</td>\n",
       "      <td>0.00</td>\n",
       "      <td>1</td>\n",
       "      <td>1</td>\n",
       "      <td>1</td>\n",
       "      <td>101348.88</td>\n",
       "      <td>1</td>\n",
       "    </tr>\n",
       "    <tr>\n",
       "      <th>1</th>\n",
       "      <td>2</td>\n",
       "      <td>15647311</td>\n",
       "      <td>Hill</td>\n",
       "      <td>608</td>\n",
       "      <td>Spain</td>\n",
       "      <td>Female</td>\n",
       "      <td>41</td>\n",
       "      <td>1</td>\n",
       "      <td>83807.86</td>\n",
       "      <td>1</td>\n",
       "      <td>0</td>\n",
       "      <td>1</td>\n",
       "      <td>112542.58</td>\n",
       "      <td>0</td>\n",
       "    </tr>\n",
       "    <tr>\n",
       "      <th>2</th>\n",
       "      <td>3</td>\n",
       "      <td>15619304</td>\n",
       "      <td>Onio</td>\n",
       "      <td>502</td>\n",
       "      <td>France</td>\n",
       "      <td>Female</td>\n",
       "      <td>42</td>\n",
       "      <td>8</td>\n",
       "      <td>159660.80</td>\n",
       "      <td>3</td>\n",
       "      <td>1</td>\n",
       "      <td>0</td>\n",
       "      <td>113931.57</td>\n",
       "      <td>1</td>\n",
       "    </tr>\n",
       "    <tr>\n",
       "      <th>3</th>\n",
       "      <td>4</td>\n",
       "      <td>15701354</td>\n",
       "      <td>Boni</td>\n",
       "      <td>699</td>\n",
       "      <td>France</td>\n",
       "      <td>Female</td>\n",
       "      <td>39</td>\n",
       "      <td>1</td>\n",
       "      <td>0.00</td>\n",
       "      <td>2</td>\n",
       "      <td>0</td>\n",
       "      <td>0</td>\n",
       "      <td>93826.63</td>\n",
       "      <td>0</td>\n",
       "    </tr>\n",
       "    <tr>\n",
       "      <th>4</th>\n",
       "      <td>5</td>\n",
       "      <td>15737888</td>\n",
       "      <td>Mitchell</td>\n",
       "      <td>850</td>\n",
       "      <td>Spain</td>\n",
       "      <td>Female</td>\n",
       "      <td>43</td>\n",
       "      <td>2</td>\n",
       "      <td>125510.82</td>\n",
       "      <td>1</td>\n",
       "      <td>1</td>\n",
       "      <td>1</td>\n",
       "      <td>79084.10</td>\n",
       "      <td>0</td>\n",
       "    </tr>\n",
       "    <tr>\n",
       "      <th>...</th>\n",
       "      <td>...</td>\n",
       "      <td>...</td>\n",
       "      <td>...</td>\n",
       "      <td>...</td>\n",
       "      <td>...</td>\n",
       "      <td>...</td>\n",
       "      <td>...</td>\n",
       "      <td>...</td>\n",
       "      <td>...</td>\n",
       "      <td>...</td>\n",
       "      <td>...</td>\n",
       "      <td>...</td>\n",
       "      <td>...</td>\n",
       "      <td>...</td>\n",
       "    </tr>\n",
       "    <tr>\n",
       "      <th>9995</th>\n",
       "      <td>9996</td>\n",
       "      <td>15606229</td>\n",
       "      <td>Obijiaku</td>\n",
       "      <td>771</td>\n",
       "      <td>France</td>\n",
       "      <td>Male</td>\n",
       "      <td>39</td>\n",
       "      <td>5</td>\n",
       "      <td>0.00</td>\n",
       "      <td>2</td>\n",
       "      <td>1</td>\n",
       "      <td>0</td>\n",
       "      <td>96270.64</td>\n",
       "      <td>0</td>\n",
       "    </tr>\n",
       "    <tr>\n",
       "      <th>9996</th>\n",
       "      <td>9997</td>\n",
       "      <td>15569892</td>\n",
       "      <td>Johnstone</td>\n",
       "      <td>516</td>\n",
       "      <td>France</td>\n",
       "      <td>Male</td>\n",
       "      <td>35</td>\n",
       "      <td>10</td>\n",
       "      <td>57369.61</td>\n",
       "      <td>1</td>\n",
       "      <td>1</td>\n",
       "      <td>1</td>\n",
       "      <td>101699.77</td>\n",
       "      <td>0</td>\n",
       "    </tr>\n",
       "    <tr>\n",
       "      <th>9997</th>\n",
       "      <td>9998</td>\n",
       "      <td>15584532</td>\n",
       "      <td>Liu</td>\n",
       "      <td>709</td>\n",
       "      <td>France</td>\n",
       "      <td>Female</td>\n",
       "      <td>36</td>\n",
       "      <td>7</td>\n",
       "      <td>0.00</td>\n",
       "      <td>1</td>\n",
       "      <td>0</td>\n",
       "      <td>1</td>\n",
       "      <td>42085.58</td>\n",
       "      <td>1</td>\n",
       "    </tr>\n",
       "    <tr>\n",
       "      <th>9998</th>\n",
       "      <td>9999</td>\n",
       "      <td>15682355</td>\n",
       "      <td>Sabbatini</td>\n",
       "      <td>772</td>\n",
       "      <td>Germany</td>\n",
       "      <td>Male</td>\n",
       "      <td>42</td>\n",
       "      <td>3</td>\n",
       "      <td>75075.31</td>\n",
       "      <td>2</td>\n",
       "      <td>1</td>\n",
       "      <td>0</td>\n",
       "      <td>92888.52</td>\n",
       "      <td>1</td>\n",
       "    </tr>\n",
       "    <tr>\n",
       "      <th>9999</th>\n",
       "      <td>10000</td>\n",
       "      <td>15628319</td>\n",
       "      <td>Walker</td>\n",
       "      <td>792</td>\n",
       "      <td>France</td>\n",
       "      <td>Female</td>\n",
       "      <td>28</td>\n",
       "      <td>4</td>\n",
       "      <td>130142.79</td>\n",
       "      <td>1</td>\n",
       "      <td>1</td>\n",
       "      <td>0</td>\n",
       "      <td>38190.78</td>\n",
       "      <td>0</td>\n",
       "    </tr>\n",
       "  </tbody>\n",
       "</table>\n",
       "<p>10000 rows × 14 columns</p>\n",
       "</div>"
      ],
      "text/plain": [
       "      RowNumber  CustomerId    Surname  CreditScore Geography  Gender  Age  \\\n",
       "0             1    15634602   Hargrave          619    France  Female   42   \n",
       "1             2    15647311       Hill          608     Spain  Female   41   \n",
       "2             3    15619304       Onio          502    France  Female   42   \n",
       "3             4    15701354       Boni          699    France  Female   39   \n",
       "4             5    15737888   Mitchell          850     Spain  Female   43   \n",
       "...         ...         ...        ...          ...       ...     ...  ...   \n",
       "9995       9996    15606229   Obijiaku          771    France    Male   39   \n",
       "9996       9997    15569892  Johnstone          516    France    Male   35   \n",
       "9997       9998    15584532        Liu          709    France  Female   36   \n",
       "9998       9999    15682355  Sabbatini          772   Germany    Male   42   \n",
       "9999      10000    15628319     Walker          792    France  Female   28   \n",
       "\n",
       "      Tenure    Balance  NumOfProducts  HasCrCard  IsActiveMember  \\\n",
       "0          2       0.00              1          1               1   \n",
       "1          1   83807.86              1          0               1   \n",
       "2          8  159660.80              3          1               0   \n",
       "3          1       0.00              2          0               0   \n",
       "4          2  125510.82              1          1               1   \n",
       "...      ...        ...            ...        ...             ...   \n",
       "9995       5       0.00              2          1               0   \n",
       "9996      10   57369.61              1          1               1   \n",
       "9997       7       0.00              1          0               1   \n",
       "9998       3   75075.31              2          1               0   \n",
       "9999       4  130142.79              1          1               0   \n",
       "\n",
       "      EstimatedSalary  Exited  \n",
       "0           101348.88       1  \n",
       "1           112542.58       0  \n",
       "2           113931.57       1  \n",
       "3            93826.63       0  \n",
       "4            79084.10       0  \n",
       "...               ...     ...  \n",
       "9995         96270.64       0  \n",
       "9996        101699.77       0  \n",
       "9997         42085.58       1  \n",
       "9998         92888.52       1  \n",
       "9999         38190.78       0  \n",
       "\n",
       "[10000 rows x 14 columns]"
      ]
     },
     "execution_count": 80,
     "metadata": {},
     "output_type": "execute_result"
    }
   ],
   "source": [
    "import pandas as pd\n",
    "\n",
    "df = pd.read_csv('./Churn_Modelling.csv')\n",
    "df"
   ]
  },
  {
   "cell_type": "code",
   "execution_count": 5,
   "metadata": {},
   "outputs": [
    {
     "name": "stdout",
     "output_type": "stream",
     "text": [
      "<class 'pandas.core.frame.DataFrame'>\n",
      "RangeIndex: 10000 entries, 0 to 9999\n",
      "Data columns (total 14 columns):\n",
      " #   Column           Non-Null Count  Dtype  \n",
      "---  ------           --------------  -----  \n",
      " 0   RowNumber        10000 non-null  int64  \n",
      " 1   CustomerId       10000 non-null  int64  \n",
      " 2   Surname          10000 non-null  object \n",
      " 3   CreditScore      10000 non-null  int64  \n",
      " 4   Geography        10000 non-null  object \n",
      " 5   Gender           10000 non-null  object \n",
      " 6   Age              10000 non-null  int64  \n",
      " 7   Tenure           10000 non-null  int64  \n",
      " 8   Balance          10000 non-null  float64\n",
      " 9   NumOfProducts    10000 non-null  int64  \n",
      " 10  HasCrCard        10000 non-null  int64  \n",
      " 11  IsActiveMember   10000 non-null  int64  \n",
      " 12  EstimatedSalary  10000 non-null  float64\n",
      " 13  Exited           10000 non-null  int64  \n",
      "dtypes: float64(2), int64(9), object(3)\n",
      "memory usage: 1.1+ MB\n"
     ]
    }
   ],
   "source": [
    "df.info()"
   ]
  },
  {
   "cell_type": "code",
   "execution_count": 81,
   "metadata": {},
   "outputs": [
    {
     "data": {
      "text/html": [
       "<div>\n",
       "<style scoped>\n",
       "    .dataframe tbody tr th:only-of-type {\n",
       "        vertical-align: middle;\n",
       "    }\n",
       "\n",
       "    .dataframe tbody tr th {\n",
       "        vertical-align: top;\n",
       "    }\n",
       "\n",
       "    .dataframe thead th {\n",
       "        text-align: right;\n",
       "    }\n",
       "</style>\n",
       "<table border=\"1\" class=\"dataframe\">\n",
       "  <thead>\n",
       "    <tr style=\"text-align: right;\">\n",
       "      <th></th>\n",
       "      <th>CreditScore</th>\n",
       "      <th>Geography</th>\n",
       "      <th>Gender</th>\n",
       "      <th>Age</th>\n",
       "      <th>Tenure</th>\n",
       "      <th>Balance</th>\n",
       "      <th>NumOfProducts</th>\n",
       "      <th>HasCrCard</th>\n",
       "      <th>IsActiveMember</th>\n",
       "      <th>EstimatedSalary</th>\n",
       "      <th>Exited</th>\n",
       "    </tr>\n",
       "  </thead>\n",
       "  <tbody>\n",
       "    <tr>\n",
       "      <th>0</th>\n",
       "      <td>619</td>\n",
       "      <td>France</td>\n",
       "      <td>Female</td>\n",
       "      <td>42</td>\n",
       "      <td>2</td>\n",
       "      <td>0.00</td>\n",
       "      <td>1</td>\n",
       "      <td>1</td>\n",
       "      <td>1</td>\n",
       "      <td>101348.88</td>\n",
       "      <td>1</td>\n",
       "    </tr>\n",
       "    <tr>\n",
       "      <th>1</th>\n",
       "      <td>608</td>\n",
       "      <td>Spain</td>\n",
       "      <td>Female</td>\n",
       "      <td>41</td>\n",
       "      <td>1</td>\n",
       "      <td>83807.86</td>\n",
       "      <td>1</td>\n",
       "      <td>0</td>\n",
       "      <td>1</td>\n",
       "      <td>112542.58</td>\n",
       "      <td>0</td>\n",
       "    </tr>\n",
       "    <tr>\n",
       "      <th>2</th>\n",
       "      <td>502</td>\n",
       "      <td>France</td>\n",
       "      <td>Female</td>\n",
       "      <td>42</td>\n",
       "      <td>8</td>\n",
       "      <td>159660.80</td>\n",
       "      <td>3</td>\n",
       "      <td>1</td>\n",
       "      <td>0</td>\n",
       "      <td>113931.57</td>\n",
       "      <td>1</td>\n",
       "    </tr>\n",
       "    <tr>\n",
       "      <th>3</th>\n",
       "      <td>699</td>\n",
       "      <td>France</td>\n",
       "      <td>Female</td>\n",
       "      <td>39</td>\n",
       "      <td>1</td>\n",
       "      <td>0.00</td>\n",
       "      <td>2</td>\n",
       "      <td>0</td>\n",
       "      <td>0</td>\n",
       "      <td>93826.63</td>\n",
       "      <td>0</td>\n",
       "    </tr>\n",
       "    <tr>\n",
       "      <th>4</th>\n",
       "      <td>850</td>\n",
       "      <td>Spain</td>\n",
       "      <td>Female</td>\n",
       "      <td>43</td>\n",
       "      <td>2</td>\n",
       "      <td>125510.82</td>\n",
       "      <td>1</td>\n",
       "      <td>1</td>\n",
       "      <td>1</td>\n",
       "      <td>79084.10</td>\n",
       "      <td>0</td>\n",
       "    </tr>\n",
       "  </tbody>\n",
       "</table>\n",
       "</div>"
      ],
      "text/plain": [
       "   CreditScore Geography  Gender  Age  Tenure    Balance  NumOfProducts  \\\n",
       "0          619    France  Female   42       2       0.00              1   \n",
       "1          608     Spain  Female   41       1   83807.86              1   \n",
       "2          502    France  Female   42       8  159660.80              3   \n",
       "3          699    France  Female   39       1       0.00              2   \n",
       "4          850     Spain  Female   43       2  125510.82              1   \n",
       "\n",
       "   HasCrCard  IsActiveMember  EstimatedSalary  Exited  \n",
       "0          1               1        101348.88       1  \n",
       "1          0               1        112542.58       0  \n",
       "2          1               0        113931.57       1  \n",
       "3          0               0         93826.63       0  \n",
       "4          1               1         79084.10       0  "
      ]
     },
     "execution_count": 81,
     "metadata": {},
     "output_type": "execute_result"
    }
   ],
   "source": [
    "df.drop(columns= ['RowNumber','CustomerId','Surname'],inplace=True)\n",
    "df.head()"
   ]
  },
  {
   "cell_type": "code",
   "execution_count": 8,
   "metadata": {},
   "outputs": [
    {
     "data": {
      "text/plain": [
       "0"
      ]
     },
     "execution_count": 8,
     "metadata": {},
     "output_type": "execute_result"
    }
   ],
   "source": [
    "df.duplicated().sum()"
   ]
  },
  {
   "cell_type": "code",
   "execution_count": 10,
   "metadata": {},
   "outputs": [
    {
     "data": {
      "text/html": [
       "<div>\n",
       "<style scoped>\n",
       "    .dataframe tbody tr th:only-of-type {\n",
       "        vertical-align: middle;\n",
       "    }\n",
       "\n",
       "    .dataframe tbody tr th {\n",
       "        vertical-align: top;\n",
       "    }\n",
       "\n",
       "    .dataframe thead th {\n",
       "        text-align: right;\n",
       "    }\n",
       "</style>\n",
       "<table border=\"1\" class=\"dataframe\">\n",
       "  <thead>\n",
       "    <tr style=\"text-align: right;\">\n",
       "      <th></th>\n",
       "      <th>CreditScore</th>\n",
       "      <th>Geography</th>\n",
       "      <th>Gender</th>\n",
       "      <th>Age</th>\n",
       "      <th>Tenure</th>\n",
       "      <th>Balance</th>\n",
       "      <th>NumOfProducts</th>\n",
       "      <th>HasCrCard</th>\n",
       "      <th>IsActiveMember</th>\n",
       "      <th>EstimatedSalary</th>\n",
       "      <th>Exited</th>\n",
       "    </tr>\n",
       "  </thead>\n",
       "  <tbody>\n",
       "  </tbody>\n",
       "</table>\n",
       "</div>"
      ],
      "text/plain": [
       "Empty DataFrame\n",
       "Columns: [CreditScore, Geography, Gender, Age, Tenure, Balance, NumOfProducts, HasCrCard, IsActiveMember, EstimatedSalary, Exited]\n",
       "Index: []"
      ]
     },
     "execution_count": 10,
     "metadata": {},
     "output_type": "execute_result"
    }
   ],
   "source": [
    "df[df.duplicated(keep=False)]"
   ]
  },
  {
   "cell_type": "code",
   "execution_count": 14,
   "metadata": {},
   "outputs": [
    {
     "data": {
      "text/plain": [
       "0     1\n",
       "1     0\n",
       "2     1\n",
       "3     0\n",
       "4     0\n",
       "5     1\n",
       "6     0\n",
       "7     1\n",
       "8     0\n",
       "9     0\n",
       "10    0\n",
       "Name: Exited, dtype: int64"
      ]
     },
     "execution_count": 14,
     "metadata": {},
     "output_type": "execute_result"
    }
   ],
   "source": [
    "df['Exited'].loc[:10]"
   ]
  },
  {
   "cell_type": "code",
   "execution_count": 9,
   "metadata": {},
   "outputs": [
    {
     "data": {
      "text/plain": [
       "CreditScore        NaN\n",
       "Geography            3\n",
       "Gender               2\n",
       "Age                NaN\n",
       "Tenure             NaN\n",
       "Balance            NaN\n",
       "NumOfProducts      NaN\n",
       "HasCrCard          NaN\n",
       "IsActiveMember     NaN\n",
       "EstimatedSalary    NaN\n",
       "Exited             NaN\n",
       "Name: unique, dtype: object"
      ]
     },
     "execution_count": 9,
     "metadata": {},
     "output_type": "execute_result"
    }
   ],
   "source": [
    "df.describe(include='all').loc['unique']"
   ]
  },
  {
   "cell_type": "code",
   "execution_count": 82,
   "metadata": {},
   "outputs": [],
   "source": [
    "df = pd.get_dummies(df, columns=['Geography','Gender'], drop_first=True)"
   ]
  },
  {
   "cell_type": "code",
   "execution_count": 83,
   "metadata": {},
   "outputs": [],
   "source": [
    "X = df.drop(columns=['Exited'])\n",
    "y = df['Exited']\n",
    "from sklearn.model_selection import train_test_split\n",
    "X_train, X_test, y_train, y_test = train_test_split (X,y, test_size=0.3, random_state=42)"
   ]
  },
  {
   "cell_type": "code",
   "execution_count": 84,
   "metadata": {},
   "outputs": [],
   "source": [
    "X_train = X_train.astype('float32')\n",
    "y_train = y_train.astype('float32')"
   ]
  },
  {
   "cell_type": "code",
   "execution_count": 85,
   "metadata": {},
   "outputs": [
    {
     "data": {
      "text/plain": [
       "77000"
      ]
     },
     "execution_count": 85,
     "metadata": {},
     "output_type": "execute_result"
    }
   ],
   "source": [
    "X_train.size"
   ]
  },
  {
   "cell_type": "code",
   "execution_count": 86,
   "metadata": {},
   "outputs": [],
   "source": [
    "from sklearn.preprocessing import StandardScaler\n",
    "scaler = StandardScaler()\n",
    "\n",
    "X_train_scaled = scaler.fit_transform(X_train)\n",
    "X_test_scaled = scaler.transform(X_test)"
   ]
  },
  {
   "cell_type": "code",
   "execution_count": 87,
   "metadata": {},
   "outputs": [],
   "source": [
    "import tensorflow\n",
    "from tensorflow import keras\n",
    "from keras import layers\n"
   ]
  },
  {
   "cell_type": "code",
   "execution_count": 88,
   "metadata": {},
   "outputs": [],
   "source": [
    "model = keras.Sequential()\n",
    "\n",
    "model.add(layers.Dense(11,activation='sigmoid',input_dim=11))\n",
    "model.add(layers.Dense(11,activation='sigmoid'))\n",
    "model.add(layers.Dense(1,activation='sigmoid'))"
   ]
  },
  {
   "cell_type": "code",
   "execution_count": 89,
   "metadata": {},
   "outputs": [
    {
     "name": "stdout",
     "output_type": "stream",
     "text": [
      "Model: \"sequential_4\"\n",
      "_________________________________________________________________\n",
      " Layer (type)                Output Shape              Param #   \n",
      "=================================================================\n",
      " dense_12 (Dense)            (None, 11)                132       \n",
      "                                                                 \n",
      " dense_13 (Dense)            (None, 11)                132       \n",
      "                                                                 \n",
      " dense_14 (Dense)            (None, 1)                 12        \n",
      "                                                                 \n",
      "=================================================================\n",
      "Total params: 276 (1.08 KB)\n",
      "Trainable params: 276 (1.08 KB)\n",
      "Non-trainable params: 0 (0.00 Byte)\n",
      "_________________________________________________________________\n"
     ]
    }
   ],
   "source": [
    "model.summary()"
   ]
  },
  {
   "cell_type": "code",
   "execution_count": 90,
   "metadata": {},
   "outputs": [],
   "source": [
    "model.compile(optimizer='Adam',loss='binary_crossentropy',metrics=['accuracy'])\n"
   ]
  },
  {
   "cell_type": "code",
   "execution_count": 91,
   "metadata": {},
   "outputs": [
    {
     "name": "stdout",
     "output_type": "stream",
     "text": [
      "Epoch 1/100\n"
     ]
    },
    {
     "name": "stdout",
     "output_type": "stream",
     "text": [
      "112/112 [==============================] - 0s 1ms/step - loss: 0.7111 - accuracy: 0.4968 - val_loss: 0.5798 - val_accuracy: 0.7943\n",
      "Epoch 2/100\n",
      "112/112 [==============================] - 0s 498us/step - loss: 0.5407 - accuracy: 0.7920 - val_loss: 0.5135 - val_accuracy: 0.7943\n",
      "Epoch 3/100\n",
      "112/112 [==============================] - 0s 524us/step - loss: 0.5123 - accuracy: 0.7920 - val_loss: 0.5037 - val_accuracy: 0.7943\n",
      "Epoch 4/100\n",
      "112/112 [==============================] - 0s 484us/step - loss: 0.5074 - accuracy: 0.7920 - val_loss: 0.5018 - val_accuracy: 0.7943\n",
      "Epoch 5/100\n",
      "112/112 [==============================] - 0s 491us/step - loss: 0.5068 - accuracy: 0.7920 - val_loss: 0.5005 - val_accuracy: 0.7943\n",
      "Epoch 6/100\n",
      "112/112 [==============================] - 0s 517us/step - loss: 0.5062 - accuracy: 0.7920 - val_loss: 0.4998 - val_accuracy: 0.7943\n",
      "Epoch 7/100\n",
      "112/112 [==============================] - 0s 501us/step - loss: 0.5058 - accuracy: 0.7920 - val_loss: 0.4994 - val_accuracy: 0.7943\n",
      "Epoch 8/100\n",
      "112/112 [==============================] - 0s 500us/step - loss: 0.5057 - accuracy: 0.7920 - val_loss: 0.4991 - val_accuracy: 0.7943\n",
      "Epoch 9/100\n",
      "112/112 [==============================] - 0s 495us/step - loss: 0.5054 - accuracy: 0.7920 - val_loss: 0.4987 - val_accuracy: 0.7943\n",
      "Epoch 10/100\n",
      "112/112 [==============================] - 0s 492us/step - loss: 0.5054 - accuracy: 0.7920 - val_loss: 0.4978 - val_accuracy: 0.7943\n",
      "Epoch 11/100\n",
      "112/112 [==============================] - 0s 498us/step - loss: 0.5057 - accuracy: 0.7920 - val_loss: 0.4976 - val_accuracy: 0.7943\n",
      "Epoch 12/100\n",
      "112/112 [==============================] - 0s 512us/step - loss: 0.5054 - accuracy: 0.7920 - val_loss: 0.4977 - val_accuracy: 0.7943\n",
      "Epoch 13/100\n",
      "112/112 [==============================] - 0s 506us/step - loss: 0.5051 - accuracy: 0.7920 - val_loss: 0.4978 - val_accuracy: 0.7943\n",
      "Epoch 14/100\n",
      "112/112 [==============================] - 0s 505us/step - loss: 0.5050 - accuracy: 0.7920 - val_loss: 0.4980 - val_accuracy: 0.7943\n",
      "Epoch 15/100\n",
      "112/112 [==============================] - 0s 512us/step - loss: 0.5051 - accuracy: 0.7920 - val_loss: 0.4983 - val_accuracy: 0.7943\n",
      "Epoch 16/100\n",
      "112/112 [==============================] - 0s 505us/step - loss: 0.5048 - accuracy: 0.7920 - val_loss: 0.4986 - val_accuracy: 0.7943\n",
      "Epoch 17/100\n",
      "112/112 [==============================] - 0s 536us/step - loss: 0.5052 - accuracy: 0.7920 - val_loss: 0.4980 - val_accuracy: 0.7943\n",
      "Epoch 18/100\n",
      "112/112 [==============================] - 0s 487us/step - loss: 0.5049 - accuracy: 0.7920 - val_loss: 0.4982 - val_accuracy: 0.7943\n",
      "Epoch 19/100\n",
      "112/112 [==============================] - 0s 482us/step - loss: 0.5048 - accuracy: 0.7920 - val_loss: 0.4977 - val_accuracy: 0.7943\n",
      "Epoch 20/100\n",
      "112/112 [==============================] - 0s 519us/step - loss: 0.5046 - accuracy: 0.7920 - val_loss: 0.4977 - val_accuracy: 0.7943\n",
      "Epoch 21/100\n",
      "112/112 [==============================] - 0s 505us/step - loss: 0.5049 - accuracy: 0.7920 - val_loss: 0.4979 - val_accuracy: 0.7943\n",
      "Epoch 22/100\n",
      "112/112 [==============================] - 0s 526us/step - loss: 0.5046 - accuracy: 0.7920 - val_loss: 0.4976 - val_accuracy: 0.7943\n",
      "Epoch 23/100\n",
      "112/112 [==============================] - 0s 478us/step - loss: 0.5047 - accuracy: 0.7920 - val_loss: 0.4976 - val_accuracy: 0.7943\n",
      "Epoch 24/100\n",
      "112/112 [==============================] - 0s 478us/step - loss: 0.5046 - accuracy: 0.7920 - val_loss: 0.4973 - val_accuracy: 0.7943\n",
      "Epoch 25/100\n",
      "112/112 [==============================] - 0s 489us/step - loss: 0.5048 - accuracy: 0.7920 - val_loss: 0.4966 - val_accuracy: 0.7943\n",
      "Epoch 26/100\n",
      "112/112 [==============================] - 0s 488us/step - loss: 0.5048 - accuracy: 0.7920 - val_loss: 0.4966 - val_accuracy: 0.7943\n",
      "Epoch 27/100\n",
      "112/112 [==============================] - 0s 482us/step - loss: 0.5048 - accuracy: 0.7920 - val_loss: 0.4964 - val_accuracy: 0.7943\n",
      "Epoch 28/100\n",
      "112/112 [==============================] - 0s 477us/step - loss: 0.5049 - accuracy: 0.7920 - val_loss: 0.4972 - val_accuracy: 0.7943\n",
      "Epoch 29/100\n",
      "112/112 [==============================] - 0s 504us/step - loss: 0.5046 - accuracy: 0.7920 - val_loss: 0.4971 - val_accuracy: 0.7943\n",
      "Epoch 30/100\n",
      "112/112 [==============================] - 0s 502us/step - loss: 0.5045 - accuracy: 0.7920 - val_loss: 0.4971 - val_accuracy: 0.7943\n",
      "Epoch 31/100\n",
      "112/112 [==============================] - 0s 488us/step - loss: 0.5045 - accuracy: 0.7920 - val_loss: 0.4976 - val_accuracy: 0.7943\n",
      "Epoch 32/100\n",
      "112/112 [==============================] - 0s 468us/step - loss: 0.5045 - accuracy: 0.7920 - val_loss: 0.4980 - val_accuracy: 0.7943\n",
      "Epoch 33/100\n",
      "112/112 [==============================] - 0s 460us/step - loss: 0.5044 - accuracy: 0.7920 - val_loss: 0.4976 - val_accuracy: 0.7943\n",
      "Epoch 34/100\n",
      "112/112 [==============================] - 0s 455us/step - loss: 0.5043 - accuracy: 0.7920 - val_loss: 0.4974 - val_accuracy: 0.7943\n",
      "Epoch 35/100\n",
      "112/112 [==============================] - 0s 459us/step - loss: 0.5044 - accuracy: 0.7920 - val_loss: 0.4974 - val_accuracy: 0.7943\n",
      "Epoch 36/100\n",
      "112/112 [==============================] - 0s 472us/step - loss: 0.5043 - accuracy: 0.7920 - val_loss: 0.4974 - val_accuracy: 0.7943\n",
      "Epoch 37/100\n",
      "112/112 [==============================] - 0s 477us/step - loss: 0.5044 - accuracy: 0.7920 - val_loss: 0.4974 - val_accuracy: 0.7943\n",
      "Epoch 38/100\n",
      "112/112 [==============================] - 0s 468us/step - loss: 0.5045 - accuracy: 0.7920 - val_loss: 0.4974 - val_accuracy: 0.7943\n",
      "Epoch 39/100\n",
      "112/112 [==============================] - 0s 537us/step - loss: 0.5044 - accuracy: 0.7920 - val_loss: 0.4972 - val_accuracy: 0.7943\n",
      "Epoch 40/100\n",
      "112/112 [==============================] - 0s 494us/step - loss: 0.5044 - accuracy: 0.7920 - val_loss: 0.4972 - val_accuracy: 0.7943\n",
      "Epoch 41/100\n",
      "112/112 [==============================] - 0s 484us/step - loss: 0.5043 - accuracy: 0.7920 - val_loss: 0.4971 - val_accuracy: 0.7943\n",
      "Epoch 42/100\n",
      "112/112 [==============================] - 0s 467us/step - loss: 0.5042 - accuracy: 0.7920 - val_loss: 0.4972 - val_accuracy: 0.7943\n",
      "Epoch 43/100\n",
      "112/112 [==============================] - 0s 481us/step - loss: 0.5042 - accuracy: 0.7920 - val_loss: 0.4971 - val_accuracy: 0.7943\n",
      "Epoch 44/100\n",
      "112/112 [==============================] - 0s 475us/step - loss: 0.5042 - accuracy: 0.7920 - val_loss: 0.4969 - val_accuracy: 0.7943\n",
      "Epoch 45/100\n",
      "112/112 [==============================] - 0s 483us/step - loss: 0.5043 - accuracy: 0.7920 - val_loss: 0.4968 - val_accuracy: 0.7943\n",
      "Epoch 46/100\n",
      "112/112 [==============================] - 0s 503us/step - loss: 0.5043 - accuracy: 0.7920 - val_loss: 0.4968 - val_accuracy: 0.7943\n",
      "Epoch 47/100\n",
      "112/112 [==============================] - 0s 496us/step - loss: 0.5042 - accuracy: 0.7920 - val_loss: 0.4970 - val_accuracy: 0.7943\n",
      "Epoch 48/100\n",
      "112/112 [==============================] - 0s 485us/step - loss: 0.5043 - accuracy: 0.7920 - val_loss: 0.4970 - val_accuracy: 0.7943\n",
      "Epoch 49/100\n",
      "112/112 [==============================] - 0s 479us/step - loss: 0.5041 - accuracy: 0.7920 - val_loss: 0.4969 - val_accuracy: 0.7943\n",
      "Epoch 50/100\n",
      "112/112 [==============================] - 0s 470us/step - loss: 0.5044 - accuracy: 0.7920 - val_loss: 0.4966 - val_accuracy: 0.7943\n",
      "Epoch 51/100\n",
      "112/112 [==============================] - 0s 496us/step - loss: 0.5043 - accuracy: 0.7920 - val_loss: 0.4966 - val_accuracy: 0.7943\n",
      "Epoch 52/100\n",
      "112/112 [==============================] - 0s 476us/step - loss: 0.5043 - accuracy: 0.7920 - val_loss: 0.4965 - val_accuracy: 0.7943\n",
      "Epoch 53/100\n",
      "112/112 [==============================] - 0s 480us/step - loss: 0.5044 - accuracy: 0.7920 - val_loss: 0.4967 - val_accuracy: 0.7943\n",
      "Epoch 54/100\n",
      "112/112 [==============================] - 0s 473us/step - loss: 0.5043 - accuracy: 0.7920 - val_loss: 0.4966 - val_accuracy: 0.7943\n",
      "Epoch 55/100\n",
      "112/112 [==============================] - 0s 455us/step - loss: 0.5039 - accuracy: 0.7920 - val_loss: 0.4966 - val_accuracy: 0.7943\n",
      "Epoch 56/100\n",
      "112/112 [==============================] - 0s 454us/step - loss: 0.5042 - accuracy: 0.7920 - val_loss: 0.4965 - val_accuracy: 0.7943\n",
      "Epoch 57/100\n",
      "112/112 [==============================] - 0s 482us/step - loss: 0.5041 - accuracy: 0.7920 - val_loss: 0.4969 - val_accuracy: 0.7943\n",
      "Epoch 58/100\n",
      "112/112 [==============================] - 0s 477us/step - loss: 0.5043 - accuracy: 0.7920 - val_loss: 0.4965 - val_accuracy: 0.7943\n",
      "Epoch 59/100\n",
      "112/112 [==============================] - 0s 493us/step - loss: 0.5042 - accuracy: 0.7920 - val_loss: 0.4965 - val_accuracy: 0.7943\n",
      "Epoch 60/100\n",
      "112/112 [==============================] - 0s 508us/step - loss: 0.5041 - accuracy: 0.7920 - val_loss: 0.4967 - val_accuracy: 0.7943\n",
      "Epoch 61/100\n",
      "112/112 [==============================] - 0s 525us/step - loss: 0.5042 - accuracy: 0.7920 - val_loss: 0.4965 - val_accuracy: 0.7943\n",
      "Epoch 62/100\n",
      "112/112 [==============================] - 0s 499us/step - loss: 0.5040 - accuracy: 0.7920 - val_loss: 0.4966 - val_accuracy: 0.7943\n",
      "Epoch 63/100\n",
      "112/112 [==============================] - 0s 526us/step - loss: 0.5041 - accuracy: 0.7920 - val_loss: 0.4967 - val_accuracy: 0.7943\n",
      "Epoch 64/100\n",
      "112/112 [==============================] - 0s 474us/step - loss: 0.5041 - accuracy: 0.7920 - val_loss: 0.4969 - val_accuracy: 0.7943\n",
      "Epoch 65/100\n",
      "112/112 [==============================] - 0s 479us/step - loss: 0.5042 - accuracy: 0.7920 - val_loss: 0.4967 - val_accuracy: 0.7943\n",
      "Epoch 66/100\n",
      "112/112 [==============================] - 0s 469us/step - loss: 0.5041 - accuracy: 0.7920 - val_loss: 0.4966 - val_accuracy: 0.7943\n",
      "Epoch 67/100\n",
      "112/112 [==============================] - 0s 494us/step - loss: 0.5040 - accuracy: 0.7920 - val_loss: 0.4969 - val_accuracy: 0.7943\n",
      "Epoch 68/100\n",
      "112/112 [==============================] - 0s 462us/step - loss: 0.5042 - accuracy: 0.7920 - val_loss: 0.4965 - val_accuracy: 0.7943\n",
      "Epoch 69/100\n",
      "112/112 [==============================] - 0s 467us/step - loss: 0.5041 - accuracy: 0.7920 - val_loss: 0.4966 - val_accuracy: 0.7943\n",
      "Epoch 70/100\n",
      "112/112 [==============================] - 0s 465us/step - loss: 0.5042 - accuracy: 0.7920 - val_loss: 0.4964 - val_accuracy: 0.7943\n",
      "Epoch 71/100\n",
      "112/112 [==============================] - 0s 500us/step - loss: 0.5046 - accuracy: 0.7920 - val_loss: 0.4965 - val_accuracy: 0.7943\n",
      "Epoch 72/100\n",
      "112/112 [==============================] - 0s 501us/step - loss: 0.5044 - accuracy: 0.7920 - val_loss: 0.4964 - val_accuracy: 0.7943\n",
      "Epoch 73/100\n",
      "112/112 [==============================] - 0s 462us/step - loss: 0.5042 - accuracy: 0.7920 - val_loss: 0.4967 - val_accuracy: 0.7943\n",
      "Epoch 74/100\n",
      "112/112 [==============================] - 0s 456us/step - loss: 0.5038 - accuracy: 0.7920 - val_loss: 0.4967 - val_accuracy: 0.7943\n",
      "Epoch 75/100\n",
      "112/112 [==============================] - 0s 470us/step - loss: 0.5040 - accuracy: 0.7920 - val_loss: 0.4964 - val_accuracy: 0.7943\n",
      "Epoch 76/100\n",
      "112/112 [==============================] - 0s 474us/step - loss: 0.5042 - accuracy: 0.7920 - val_loss: 0.4966 - val_accuracy: 0.7943\n",
      "Epoch 77/100\n",
      "112/112 [==============================] - 0s 476us/step - loss: 0.5041 - accuracy: 0.7920 - val_loss: 0.4963 - val_accuracy: 0.7943\n",
      "Epoch 78/100\n",
      "112/112 [==============================] - 0s 465us/step - loss: 0.5044 - accuracy: 0.7920 - val_loss: 0.4964 - val_accuracy: 0.7943\n",
      "Epoch 79/100\n",
      "112/112 [==============================] - 0s 484us/step - loss: 0.5043 - accuracy: 0.7920 - val_loss: 0.4966 - val_accuracy: 0.7943\n",
      "Epoch 80/100\n",
      "112/112 [==============================] - 0s 479us/step - loss: 0.5040 - accuracy: 0.7920 - val_loss: 0.4964 - val_accuracy: 0.7943\n",
      "Epoch 81/100\n",
      "112/112 [==============================] - 0s 459us/step - loss: 0.5040 - accuracy: 0.7920 - val_loss: 0.4969 - val_accuracy: 0.7943\n",
      "Epoch 82/100\n",
      "112/112 [==============================] - 0s 474us/step - loss: 0.5043 - accuracy: 0.7920 - val_loss: 0.4965 - val_accuracy: 0.7943\n",
      "Epoch 83/100\n",
      "112/112 [==============================] - 0s 485us/step - loss: 0.5042 - accuracy: 0.7920 - val_loss: 0.4964 - val_accuracy: 0.7943\n",
      "Epoch 84/100\n",
      "112/112 [==============================] - 0s 563us/step - loss: 0.5043 - accuracy: 0.7920 - val_loss: 0.4965 - val_accuracy: 0.7943\n",
      "Epoch 85/100\n",
      "112/112 [==============================] - 0s 472us/step - loss: 0.5041 - accuracy: 0.7920 - val_loss: 0.4964 - val_accuracy: 0.7943\n",
      "Epoch 86/100\n",
      "112/112 [==============================] - 0s 473us/step - loss: 0.5041 - accuracy: 0.7920 - val_loss: 0.4964 - val_accuracy: 0.7943\n",
      "Epoch 87/100\n",
      "112/112 [==============================] - 0s 488us/step - loss: 0.5041 - accuracy: 0.7920 - val_loss: 0.4965 - val_accuracy: 0.7943\n",
      "Epoch 88/100\n",
      "112/112 [==============================] - 0s 469us/step - loss: 0.5041 - accuracy: 0.7920 - val_loss: 0.4966 - val_accuracy: 0.7943\n",
      "Epoch 89/100\n",
      "112/112 [==============================] - 0s 480us/step - loss: 0.5042 - accuracy: 0.7920 - val_loss: 0.4963 - val_accuracy: 0.7943\n",
      "Epoch 90/100\n",
      "112/112 [==============================] - 0s 488us/step - loss: 0.5043 - accuracy: 0.7920 - val_loss: 0.4965 - val_accuracy: 0.7943\n",
      "Epoch 91/100\n",
      "112/112 [==============================] - 0s 475us/step - loss: 0.5041 - accuracy: 0.7920 - val_loss: 0.4966 - val_accuracy: 0.7943\n",
      "Epoch 92/100\n",
      "112/112 [==============================] - 0s 497us/step - loss: 0.5041 - accuracy: 0.7920 - val_loss: 0.4964 - val_accuracy: 0.7943\n",
      "Epoch 93/100\n",
      "112/112 [==============================] - 0s 509us/step - loss: 0.5040 - accuracy: 0.7920 - val_loss: 0.4967 - val_accuracy: 0.7943\n",
      "Epoch 94/100\n",
      "112/112 [==============================] - 0s 476us/step - loss: 0.5041 - accuracy: 0.7920 - val_loss: 0.4963 - val_accuracy: 0.7943\n",
      "Epoch 95/100\n",
      "112/112 [==============================] - 0s 458us/step - loss: 0.5041 - accuracy: 0.7920 - val_loss: 0.4963 - val_accuracy: 0.7943\n",
      "Epoch 96/100\n",
      "112/112 [==============================] - 0s 512us/step - loss: 0.5041 - accuracy: 0.7920 - val_loss: 0.4964 - val_accuracy: 0.7943\n",
      "Epoch 97/100\n",
      "112/112 [==============================] - 0s 469us/step - loss: 0.5041 - accuracy: 0.7920 - val_loss: 0.4963 - val_accuracy: 0.7943\n",
      "Epoch 98/100\n",
      "112/112 [==============================] - 0s 476us/step - loss: 0.5041 - accuracy: 0.7920 - val_loss: 0.4963 - val_accuracy: 0.7943\n",
      "Epoch 99/100\n",
      "112/112 [==============================] - 0s 467us/step - loss: 0.5040 - accuracy: 0.7920 - val_loss: 0.4964 - val_accuracy: 0.7943\n",
      "Epoch 100/100\n",
      "112/112 [==============================] - 0s 488us/step - loss: 0.5041 - accuracy: 0.7920 - val_loss: 0.4965 - val_accuracy: 0.7943\n"
     ]
    }
   ],
   "source": [
    "history = model.fit(X_train,y_train,batch_size=50,epochs=100,verbose=1,validation_split=0.2)\n"
   ]
  },
  {
   "cell_type": "code",
   "execution_count": 93,
   "metadata": {},
   "outputs": [],
   "source": [
    "X_test = X_test.astype('float32')\n",
    "y_test= y_test.astype('float32')"
   ]
  },
  {
   "cell_type": "code",
   "execution_count": 94,
   "metadata": {},
   "outputs": [
    {
     "name": "stdout",
     "output_type": "stream",
     "text": [
      "94/94 [==============================] - 0s 263us/step\n"
     ]
    }
   ],
   "source": [
    "y_pred = model.predict(X_test)"
   ]
  },
  {
   "cell_type": "code",
   "execution_count": 95,
   "metadata": {},
   "outputs": [
    {
     "data": {
      "text/plain": [
       "array([[0.23591934],\n",
       "       [0.14042266],\n",
       "       [0.14042266],\n",
       "       ...,\n",
       "       [0.22527424],\n",
       "       [0.14042266],\n",
       "       [0.23591934]], dtype=float32)"
      ]
     },
     "execution_count": 95,
     "metadata": {},
     "output_type": "execute_result"
    }
   ],
   "source": [
    "y_pred"
   ]
  },
  {
   "cell_type": "code",
   "execution_count": 96,
   "metadata": {},
   "outputs": [],
   "source": [
    "y_pred = y_pred.argmax(axis=-1)\n"
   ]
  },
  {
   "cell_type": "code",
   "execution_count": 97,
   "metadata": {},
   "outputs": [
    {
     "data": {
      "text/plain": [
       "0.8053333333333333"
      ]
     },
     "execution_count": 97,
     "metadata": {},
     "output_type": "execute_result"
    }
   ],
   "source": [
    "from sklearn.metrics import accuracy_score\n",
    "accuracy_score(y_test,y_pred)\n"
   ]
  },
  {
   "cell_type": "code",
   "execution_count": 98,
   "metadata": {},
   "outputs": [
    {
     "data": {
      "text/plain": [
       "[<matplotlib.lines.Line2D at 0x7fdf4470d960>]"
      ]
     },
     "execution_count": 98,
     "metadata": {},
     "output_type": "execute_result"
    },
    {
     "data": {
      "image/png": "[encoded data removed]",
      "text/plain": [
       "<Figure size 640x480 with 1 Axes>"
      ]
     },
     "metadata": {},
     "output_type": "display_data"
    }
   ],
   "source": [
    "import matplotlib.pyplot as plt\n",
    "\n",
    "plt.plot(history.history['loss'])\n",
    "plt.plot(history.history['val_loss'])"
   ]
  },
  {
   "cell_type": "code",
   "execution_count": 99,
   "metadata": {},
   "outputs": [
    {
     "data": {
      "text/plain": [
       "[<matplotlib.lines.Line2D at 0x7fdf44737bb0>]"
      ]
     },
     "execution_count": 99,
     "metadata": {},
     "output_type": "execute_result"
    },
    {
     "data": {
      "image/png": "[encoded data removed]",
      "text/plain": [
       "<Figure size 640x480 with 1 Axes>"
      ]
     },
     "metadata": {},
     "output_type": "display_data"
    }
   ],
   "source": [
    "plt.plot(history.history['accuracy'])\n",
    "plt.plot(history.history['val_accuracy'])"
   ]
  },
  {
   "cell_type": "code",
   "execution_count": 100,
   "metadata": {},
   "outputs": [
    {
     "data": {
      "text/plain": [
       "array([[2416,    0],\n",
       "       [ 584,    0]])"
      ]
     },
     "execution_count": 100,
     "metadata": {},
     "output_type": "execute_result"
    },
    {
     "data": {
      "image/png": "[encoded data removed]",
      "text/plain": [
       "<Figure size 400x200 with 2 Axes>"
      ]
     },
     "metadata": {},
     "output_type": "display_data"
    }
   ],
   "source": [
    "from sklearn.metrics import precision_score, recall_score, confusion_matrix, classification_report, accuracy_score, f1_score\n",
    "import matplotlib.pyplot as plt\n",
    "cmap1 = sns.diverging_palette(751,75,  s=40, l=65, n=6)\n",
    "plt.subplots(figsize=(4,2))\n",
    "cf_matrix = confusion_matrix(y_test, y_pred)\n",
    "sns.heatmap(cf_matrix/np.sum(cf_matrix), cmap = cmap1, annot = True, annot_kws = {'size':15})\n",
    "cf_matrix"
   ]
  },
  {
   "cell_type": "code",
   "execution_count": 120,
   "metadata": {},
   "outputs": [
    {
     "name": "stdout",
     "output_type": "stream",
     "text": [
      "Total count of 0: 2416\n",
      "Total count of 1: 584\n"
     ]
    }
   ],
   "source": [
    "count_of_0 = np.sum(y_test.values == 0)\n",
    "print(\"Total count of 0:\", count_of_0)\n",
    "count_of_1 = np.sum(y_test.values == 1)\n",
    "print(\"Total count of 1:\", count_of_1)\n"
   ]
  },
  {
   "cell_type": "markdown",
   "metadata": {},
   "source": [
    "## Model 2"
   ]
  },
  {
   "cell_type": "code",
   "execution_count": 49,
   "metadata": {},
   "outputs": [],
   "source": [
    "model2 = keras.Sequential()\n",
    "\n",
    "model2.add(layers.Dense(16,activation='relu',input_dim=11))\n",
    "model2.add(layers.Dense(8,activation='relu'))\n",
    "model2.add(layers.Dense(1,activation='sigmoid'))"
   ]
  },
  {
   "cell_type": "code",
   "execution_count": 50,
   "metadata": {},
   "outputs": [
    {
     "name": "stdout",
     "output_type": "stream",
     "text": [
      "Model: \"sequential_2\"\n",
      "_________________________________________________________________\n",
      " Layer (type)                Output Shape              Param #   \n",
      "=================================================================\n",
      " dense_6 (Dense)             (None, 16)                192       \n",
      "                                                                 \n",
      " dense_7 (Dense)             (None, 8)                 136       \n",
      "                                                                 \n",
      " dense_8 (Dense)             (None, 1)                 9         \n",
      "                                                                 \n",
      "=================================================================\n",
      "Total params: 337 (1.32 KB)\n",
      "Trainable params: 337 (1.32 KB)\n",
      "Non-trainable params: 0 (0.00 Byte)\n",
      "_________________________________________________________________\n"
     ]
    }
   ],
   "source": [
    "model2.summary()"
   ]
  },
  {
   "cell_type": "code",
   "execution_count": 51,
   "metadata": {},
   "outputs": [],
   "source": [
    "model2.compile(optimizer='Adam',loss='binary_crossentropy',metrics=['accuracy'])\n"
   ]
  },
  {
   "cell_type": "code",
   "execution_count": 52,
   "metadata": {},
   "outputs": [
    {
     "name": "stdout",
     "output_type": "stream",
     "text": [
      "Epoch 1/100\n",
      "112/112 [==============================] - 0s 931us/step - loss: 2943.1697 - accuracy: 0.6396 - val_loss: 92.8341 - val_accuracy: 0.7207\n",
      "Epoch 2/100\n",
      "112/112 [==============================] - 0s 473us/step - loss: 167.9312 - accuracy: 0.6730 - val_loss: 218.8452 - val_accuracy: 0.5336\n",
      "Epoch 3/100\n",
      "112/112 [==============================] - 0s 488us/step - loss: 158.6588 - accuracy: 0.6754 - val_loss: 118.1950 - val_accuracy: 0.6107\n",
      "Epoch 4/100\n",
      "112/112 [==============================] - 0s 459us/step - loss: 141.8891 - accuracy: 0.6770 - val_loss: 187.0173 - val_accuracy: 0.7764\n",
      "Epoch 5/100\n",
      "112/112 [==============================] - 0s 518us/step - loss: 146.7720 - accuracy: 0.6825 - val_loss: 79.1196 - val_accuracy: 0.7971\n",
      "Epoch 6/100\n",
      "112/112 [==============================] - 0s 489us/step - loss: 133.0854 - accuracy: 0.6795 - val_loss: 76.2949 - val_accuracy: 0.6643\n",
      "Epoch 7/100\n",
      "112/112 [==============================] - 0s 489us/step - loss: 148.6957 - accuracy: 0.6720 - val_loss: 108.2268 - val_accuracy: 0.7964\n",
      "Epoch 8/100\n",
      "112/112 [==============================] - 0s 585us/step - loss: 124.1214 - accuracy: 0.6839 - val_loss: 89.2247 - val_accuracy: 0.6593\n",
      "Epoch 9/100\n",
      "112/112 [==============================] - 0s 498us/step - loss: 131.1906 - accuracy: 0.6787 - val_loss: 88.7087 - val_accuracy: 0.7879\n",
      "Epoch 10/100\n",
      "112/112 [==============================] - 0s 483us/step - loss: 109.1964 - accuracy: 0.6786 - val_loss: 151.4926 - val_accuracy: 0.7943\n",
      "Epoch 11/100\n",
      "112/112 [==============================] - 0s 486us/step - loss: 112.3425 - accuracy: 0.6730 - val_loss: 88.9403 - val_accuracy: 0.7943\n",
      "Epoch 12/100\n",
      "112/112 [==============================] - 0s 497us/step - loss: 106.3929 - accuracy: 0.6786 - val_loss: 133.3468 - val_accuracy: 0.4143\n",
      "Epoch 13/100\n",
      "112/112 [==============================] - 0s 489us/step - loss: 101.3092 - accuracy: 0.6702 - val_loss: 101.2243 - val_accuracy: 0.4979\n",
      "Epoch 14/100\n",
      "112/112 [==============================] - 0s 490us/step - loss: 79.6714 - accuracy: 0.6730 - val_loss: 64.0447 - val_accuracy: 0.7893\n",
      "Epoch 15/100\n",
      "112/112 [==============================] - 0s 476us/step - loss: 141.2215 - accuracy: 0.6818 - val_loss: 108.5705 - val_accuracy: 0.5286\n",
      "Epoch 16/100\n",
      "112/112 [==============================] - 0s 476us/step - loss: 82.4567 - accuracy: 0.6718 - val_loss: 101.8186 - val_accuracy: 0.5993\n",
      "Epoch 17/100\n",
      "112/112 [==============================] - 0s 471us/step - loss: 117.0238 - accuracy: 0.6764 - val_loss: 101.9360 - val_accuracy: 0.7850\n",
      "Epoch 18/100\n",
      "112/112 [==============================] - 0s 463us/step - loss: 140.8790 - accuracy: 0.6712 - val_loss: 134.7338 - val_accuracy: 0.7936\n",
      "Epoch 19/100\n",
      "112/112 [==============================] - 0s 470us/step - loss: 150.2825 - accuracy: 0.6789 - val_loss: 322.9742 - val_accuracy: 0.4743\n",
      "Epoch 20/100\n",
      "112/112 [==============================] - 0s 475us/step - loss: 104.8826 - accuracy: 0.6766 - val_loss: 38.2957 - val_accuracy: 0.6164\n",
      "Epoch 21/100\n",
      "112/112 [==============================] - 0s 494us/step - loss: 98.0873 - accuracy: 0.6804 - val_loss: 27.3259 - val_accuracy: 0.6993\n",
      "Epoch 22/100\n",
      "112/112 [==============================] - 0s 474us/step - loss: 76.0680 - accuracy: 0.6739 - val_loss: 56.6633 - val_accuracy: 0.4650\n",
      "Epoch 23/100\n",
      "112/112 [==============================] - 0s 485us/step - loss: 101.1419 - accuracy: 0.6823 - val_loss: 58.7172 - val_accuracy: 0.7857\n",
      "Epoch 24/100\n",
      "112/112 [==============================] - 0s 462us/step - loss: 75.1776 - accuracy: 0.6832 - val_loss: 62.0000 - val_accuracy: 0.7879\n",
      "Epoch 25/100\n",
      "112/112 [==============================] - 0s 469us/step - loss: 116.2395 - accuracy: 0.6848 - val_loss: 157.4493 - val_accuracy: 0.3143\n",
      "Epoch 26/100\n",
      "112/112 [==============================] - 0s 486us/step - loss: 120.3302 - accuracy: 0.6702 - val_loss: 193.0394 - val_accuracy: 0.7950\n",
      "Epoch 27/100\n",
      "112/112 [==============================] - 0s 474us/step - loss: 106.1004 - accuracy: 0.6764 - val_loss: 189.1480 - val_accuracy: 0.5307\n",
      "Epoch 28/100\n",
      "112/112 [==============================] - 0s 481us/step - loss: 94.8282 - accuracy: 0.6821 - val_loss: 80.5544 - val_accuracy: 0.5564\n",
      "Epoch 29/100\n",
      "112/112 [==============================] - 0s 463us/step - loss: 115.0908 - accuracy: 0.6771 - val_loss: 73.7199 - val_accuracy: 0.7879\n",
      "Epoch 30/100\n",
      "112/112 [==============================] - 0s 464us/step - loss: 69.1859 - accuracy: 0.6818 - val_loss: 109.1018 - val_accuracy: 0.5321\n",
      "Epoch 31/100\n",
      "112/112 [==============================] - 0s 465us/step - loss: 105.0340 - accuracy: 0.6618 - val_loss: 61.8983 - val_accuracy: 0.7871\n",
      "Epoch 32/100\n",
      "112/112 [==============================] - 0s 476us/step - loss: 101.9056 - accuracy: 0.6698 - val_loss: 156.6349 - val_accuracy: 0.7943\n",
      "Epoch 33/100\n",
      "112/112 [==============================] - 0s 475us/step - loss: 85.3867 - accuracy: 0.6898 - val_loss: 29.9672 - val_accuracy: 0.6714\n",
      "Epoch 34/100\n",
      "112/112 [==============================] - 0s 464us/step - loss: 88.2913 - accuracy: 0.6861 - val_loss: 239.9924 - val_accuracy: 0.7943\n",
      "Epoch 35/100\n",
      "112/112 [==============================] - 0s 458us/step - loss: 103.5391 - accuracy: 0.6761 - val_loss: 65.7697 - val_accuracy: 0.3407\n",
      "Epoch 36/100\n",
      "112/112 [==============================] - 0s 477us/step - loss: 90.7731 - accuracy: 0.6743 - val_loss: 116.4507 - val_accuracy: 0.5636\n",
      "Epoch 37/100\n",
      "112/112 [==============================] - 0s 555us/step - loss: 79.4160 - accuracy: 0.6670 - val_loss: 155.4332 - val_accuracy: 0.7943\n",
      "Epoch 38/100\n",
      "112/112 [==============================] - 0s 475us/step - loss: 128.6803 - accuracy: 0.6821 - val_loss: 183.3762 - val_accuracy: 0.5321\n",
      "Epoch 39/100\n",
      "112/112 [==============================] - 0s 468us/step - loss: 95.9757 - accuracy: 0.6784 - val_loss: 122.4268 - val_accuracy: 0.4493\n",
      "Epoch 40/100\n",
      "112/112 [==============================] - 0s 481us/step - loss: 97.0178 - accuracy: 0.6811 - val_loss: 65.9752 - val_accuracy: 0.7936\n",
      "Epoch 41/100\n",
      "112/112 [==============================] - 0s 472us/step - loss: 81.6545 - accuracy: 0.6818 - val_loss: 90.4515 - val_accuracy: 0.7943\n",
      "Epoch 42/100\n",
      "112/112 [==============================] - 0s 489us/step - loss: 109.8917 - accuracy: 0.6805 - val_loss: 45.4646 - val_accuracy: 0.7150\n",
      "Epoch 43/100\n",
      "112/112 [==============================] - 0s 466us/step - loss: 70.1620 - accuracy: 0.6854 - val_loss: 49.1767 - val_accuracy: 0.7957\n",
      "Epoch 44/100\n",
      "112/112 [==============================] - 0s 475us/step - loss: 97.4461 - accuracy: 0.6823 - val_loss: 79.3965 - val_accuracy: 0.7943\n",
      "Epoch 45/100\n",
      "112/112 [==============================] - 0s 462us/step - loss: 105.1593 - accuracy: 0.6754 - val_loss: 113.7507 - val_accuracy: 0.5207\n",
      "Epoch 46/100\n",
      "112/112 [==============================] - 0s 471us/step - loss: 83.9165 - accuracy: 0.6891 - val_loss: 70.4686 - val_accuracy: 0.7957\n",
      "Epoch 47/100\n",
      "112/112 [==============================] - 0s 479us/step - loss: 72.7593 - accuracy: 0.6796 - val_loss: 141.3068 - val_accuracy: 0.7943\n",
      "Epoch 48/100\n",
      "112/112 [==============================] - 0s 471us/step - loss: 81.5483 - accuracy: 0.6791 - val_loss: 36.5016 - val_accuracy: 0.7921\n",
      "Epoch 49/100\n",
      "112/112 [==============================] - 0s 484us/step - loss: 62.0289 - accuracy: 0.6866 - val_loss: 91.8226 - val_accuracy: 0.7943\n",
      "Epoch 50/100\n",
      "112/112 [==============================] - 0s 476us/step - loss: 96.2837 - accuracy: 0.6766 - val_loss: 29.9142 - val_accuracy: 0.3400\n",
      "Epoch 51/100\n",
      "112/112 [==============================] - 0s 478us/step - loss: 68.9518 - accuracy: 0.6777 - val_loss: 62.4811 - val_accuracy: 0.7443\n",
      "Epoch 52/100\n",
      "112/112 [==============================] - 0s 471us/step - loss: 79.0988 - accuracy: 0.6839 - val_loss: 23.8590 - val_accuracy: 0.5871\n",
      "Epoch 53/100\n",
      "112/112 [==============================] - 0s 471us/step - loss: 89.0584 - accuracy: 0.6814 - val_loss: 186.8025 - val_accuracy: 0.7943\n",
      "Epoch 54/100\n",
      "112/112 [==============================] - 0s 466us/step - loss: 110.5690 - accuracy: 0.6798 - val_loss: 35.0572 - val_accuracy: 0.7921\n",
      "Epoch 55/100\n",
      "112/112 [==============================] - 0s 463us/step - loss: 79.5602 - accuracy: 0.6802 - val_loss: 168.9288 - val_accuracy: 0.7950\n",
      "Epoch 56/100\n",
      "112/112 [==============================] - 0s 468us/step - loss: 79.8712 - accuracy: 0.6730 - val_loss: 135.1849 - val_accuracy: 0.2321\n",
      "Epoch 57/100\n",
      "112/112 [==============================] - 0s 459us/step - loss: 94.7542 - accuracy: 0.6759 - val_loss: 65.6568 - val_accuracy: 0.7943\n",
      "Epoch 58/100\n",
      "112/112 [==============================] - 0s 462us/step - loss: 71.2156 - accuracy: 0.6961 - val_loss: 125.9860 - val_accuracy: 0.4750\n",
      "Epoch 59/100\n",
      "112/112 [==============================] - 0s 479us/step - loss: 112.1401 - accuracy: 0.6789 - val_loss: 41.4453 - val_accuracy: 0.5529\n",
      "Epoch 60/100\n",
      "112/112 [==============================] - 0s 469us/step - loss: 85.9178 - accuracy: 0.6745 - val_loss: 117.0464 - val_accuracy: 0.5821\n",
      "Epoch 61/100\n",
      "112/112 [==============================] - 0s 467us/step - loss: 68.4227 - accuracy: 0.6837 - val_loss: 159.6715 - val_accuracy: 0.7943\n",
      "Epoch 62/100\n",
      "112/112 [==============================] - 0s 468us/step - loss: 83.9746 - accuracy: 0.6816 - val_loss: 189.9844 - val_accuracy: 0.7943\n",
      "Epoch 63/100\n",
      "112/112 [==============================] - 0s 483us/step - loss: 97.6513 - accuracy: 0.6857 - val_loss: 335.0952 - val_accuracy: 0.4750\n",
      "Epoch 64/100\n",
      "112/112 [==============================] - 0s 550us/step - loss: 90.1234 - accuracy: 0.6777 - val_loss: 62.7072 - val_accuracy: 0.5529\n",
      "Epoch 65/100\n",
      "112/112 [==============================] - 0s 478us/step - loss: 144.6811 - accuracy: 0.6777 - val_loss: 129.4941 - val_accuracy: 0.7943\n",
      "Epoch 66/100\n",
      "112/112 [==============================] - 0s 471us/step - loss: 126.2677 - accuracy: 0.6759 - val_loss: 73.9178 - val_accuracy: 0.6143\n",
      "Epoch 67/100\n",
      "112/112 [==============================] - 0s 455us/step - loss: 69.4276 - accuracy: 0.6854 - val_loss: 38.2934 - val_accuracy: 0.7943\n",
      "Epoch 68/100\n",
      "112/112 [==============================] - 0s 473us/step - loss: 109.5981 - accuracy: 0.6771 - val_loss: 121.7056 - val_accuracy: 0.7943\n",
      "Epoch 69/100\n",
      "112/112 [==============================] - 0s 470us/step - loss: 75.7449 - accuracy: 0.6816 - val_loss: 74.3532 - val_accuracy: 0.7921\n",
      "Epoch 70/100\n",
      "112/112 [==============================] - 0s 467us/step - loss: 84.2552 - accuracy: 0.6773 - val_loss: 85.2558 - val_accuracy: 0.4993\n",
      "Epoch 71/100\n",
      "112/112 [==============================] - 0s 485us/step - loss: 87.1274 - accuracy: 0.6732 - val_loss: 85.2287 - val_accuracy: 0.4993\n",
      "Epoch 72/100\n",
      "112/112 [==============================] - 0s 468us/step - loss: 87.6628 - accuracy: 0.6859 - val_loss: 73.2038 - val_accuracy: 0.6529\n",
      "Epoch 73/100\n",
      "112/112 [==============================] - 0s 466us/step - loss: 126.2615 - accuracy: 0.6771 - val_loss: 27.2609 - val_accuracy: 0.5457\n",
      "Epoch 74/100\n",
      "112/112 [==============================] - 0s 480us/step - loss: 83.8947 - accuracy: 0.6798 - val_loss: 22.3027 - val_accuracy: 0.5507\n",
      "Epoch 75/100\n",
      "112/112 [==============================] - 0s 478us/step - loss: 71.4958 - accuracy: 0.6859 - val_loss: 103.6720 - val_accuracy: 0.7936\n",
      "Epoch 76/100\n",
      "112/112 [==============================] - 0s 454us/step - loss: 52.1229 - accuracy: 0.6862 - val_loss: 65.4159 - val_accuracy: 0.7921\n",
      "Epoch 77/100\n",
      "112/112 [==============================] - 0s 461us/step - loss: 79.6609 - accuracy: 0.6836 - val_loss: 159.7306 - val_accuracy: 0.7921\n",
      "Epoch 78/100\n",
      "112/112 [==============================] - 0s 498us/step - loss: 83.7941 - accuracy: 0.6907 - val_loss: 22.8198 - val_accuracy: 0.7893\n",
      "Epoch 79/100\n",
      "112/112 [==============================] - 0s 475us/step - loss: 89.3880 - accuracy: 0.6795 - val_loss: 84.9116 - val_accuracy: 0.7929\n",
      "Epoch 80/100\n",
      "112/112 [==============================] - 0s 478us/step - loss: 86.9707 - accuracy: 0.6882 - val_loss: 160.6110 - val_accuracy: 0.7929\n",
      "Epoch 81/100\n",
      "112/112 [==============================] - 0s 469us/step - loss: 131.1184 - accuracy: 0.6796 - val_loss: 97.0960 - val_accuracy: 0.7871\n",
      "Epoch 82/100\n",
      "112/112 [==============================] - 0s 467us/step - loss: 99.2981 - accuracy: 0.6850 - val_loss: 235.0171 - val_accuracy: 0.7929\n",
      "Epoch 83/100\n",
      "112/112 [==============================] - 0s 474us/step - loss: 116.4054 - accuracy: 0.6770 - val_loss: 78.8784 - val_accuracy: 0.7929\n",
      "Epoch 84/100\n",
      "112/112 [==============================] - 0s 469us/step - loss: 57.1122 - accuracy: 0.6755 - val_loss: 76.1884 - val_accuracy: 0.7879\n",
      "Epoch 85/100\n",
      "112/112 [==============================] - 0s 485us/step - loss: 75.7288 - accuracy: 0.6848 - val_loss: 67.7648 - val_accuracy: 0.7936\n",
      "Epoch 86/100\n",
      "112/112 [==============================] - 0s 544us/step - loss: 77.0765 - accuracy: 0.6852 - val_loss: 94.5686 - val_accuracy: 0.6171\n",
      "Epoch 87/100\n",
      "112/112 [==============================] - 0s 484us/step - loss: 82.3420 - accuracy: 0.6818 - val_loss: 54.1331 - val_accuracy: 0.7893\n",
      "Epoch 88/100\n",
      "112/112 [==============================] - 0s 486us/step - loss: 51.5769 - accuracy: 0.6862 - val_loss: 106.0683 - val_accuracy: 0.7921\n",
      "Epoch 89/100\n",
      "112/112 [==============================] - 0s 474us/step - loss: 73.4036 - accuracy: 0.6879 - val_loss: 31.4466 - val_accuracy: 0.5421\n",
      "Epoch 90/100\n",
      "112/112 [==============================] - 0s 483us/step - loss: 74.6935 - accuracy: 0.6814 - val_loss: 161.4775 - val_accuracy: 0.7914\n",
      "Epoch 91/100\n",
      "112/112 [==============================] - 0s 471us/step - loss: 91.7374 - accuracy: 0.6832 - val_loss: 31.9547 - val_accuracy: 0.7557\n",
      "Epoch 92/100\n",
      "112/112 [==============================] - 0s 465us/step - loss: 87.0092 - accuracy: 0.6848 - val_loss: 34.4902 - val_accuracy: 0.5043\n",
      "Epoch 93/100\n",
      "112/112 [==============================] - 0s 474us/step - loss: 62.3944 - accuracy: 0.6943 - val_loss: 21.8991 - val_accuracy: 0.6279\n",
      "Epoch 94/100\n",
      "112/112 [==============================] - 0s 462us/step - loss: 63.7791 - accuracy: 0.6907 - val_loss: 98.6326 - val_accuracy: 0.4686\n",
      "Epoch 95/100\n",
      "112/112 [==============================] - 0s 469us/step - loss: 121.2926 - accuracy: 0.6866 - val_loss: 86.3469 - val_accuracy: 0.6329\n",
      "Epoch 96/100\n",
      "112/112 [==============================] - 0s 468us/step - loss: 79.2160 - accuracy: 0.6798 - val_loss: 44.9498 - val_accuracy: 0.7893\n",
      "Epoch 97/100\n",
      "112/112 [==============================] - 0s 465us/step - loss: 156.1936 - accuracy: 0.6859 - val_loss: 9.3117 - val_accuracy: 0.7786\n",
      "Epoch 98/100\n",
      "112/112 [==============================] - 0s 459us/step - loss: 91.6567 - accuracy: 0.6855 - val_loss: 71.2887 - val_accuracy: 0.5736\n",
      "Epoch 99/100\n",
      "112/112 [==============================] - 0s 467us/step - loss: 75.9048 - accuracy: 0.6748 - val_loss: 27.8662 - val_accuracy: 0.7936\n",
      "Epoch 100/100\n",
      "112/112 [==============================] - 0s 462us/step - loss: 78.5320 - accuracy: 0.6830 - val_loss: 121.8673 - val_accuracy: 0.7907\n"
     ]
    }
   ],
   "source": [
    "history = model2.fit(X_train,y_train,batch_size=50,epochs=100,verbose=1,validation_split=0.2)"
   ]
  },
  {
   "cell_type": "code",
   "execution_count": 53,
   "metadata": {},
   "outputs": [
    {
     "name": "stdout",
     "output_type": "stream",
     "text": [
      "94/94 [==============================] - 0s 283us/step\n"
     ]
    }
   ],
   "source": [
    "y_pred2 = model2.predict(X_test)"
   ]
  },
  {
   "cell_type": "code",
   "execution_count": 54,
   "metadata": {},
   "outputs": [],
   "source": [
    "y_pred2 = y_pred2.argmax(axis=-1)\n"
   ]
  },
  {
   "cell_type": "code",
   "execution_count": null,
   "metadata": {},
   "outputs": [],
   "source": []
  },
  {
   "cell_type": "code",
   "execution_count": 55,
   "metadata": {},
   "outputs": [
    {
     "data": {
      "text/plain": [
       "0.8053333333333333"
      ]
     },
     "execution_count": 55,
     "metadata": {},
     "output_type": "execute_result"
    }
   ],
   "source": [
    "from sklearn.metrics import accuracy_score\n",
    "accuracy_score(y_test,y_pred2)"
   ]
  },
  {
   "cell_type": "code",
   "execution_count": 56,
   "metadata": {},
   "outputs": [
    {
     "data": {
      "text/plain": [
       "[<matplotlib.lines.Line2D at 0x7fdf4c665390>]"
      ]
     },
     "execution_count": 56,
     "metadata": {},
     "output_type": "execute_result"
    },
    {
     "data": {
      "image/png": "[encoded data removed]",
      "text/plain": [
       "<Figure size 640x480 with 1 Axes>"
      ]
     },
     "metadata": {},
     "output_type": "display_data"
    }
   ],
   "source": [
    "import matplotlib.pyplot as plt\n",
    "\n",
    "plt.plot(history.history['loss'])\n",
    "plt.plot(history.history['val_loss'])"
   ]
  },
  {
   "cell_type": "code",
   "execution_count": 57,
   "metadata": {},
   "outputs": [
    {
     "data": {
      "text/plain": [
       "[<matplotlib.lines.Line2D at 0x7fdf4c6dc9d0>]"
      ]
     },
     "execution_count": 57,
     "metadata": {},
     "output_type": "execute_result"
    },
    {
     "data": {
      "image/png": "[encoded data removed]",
      "text/plain": [
       "<Figure size 640x480 with 1 Axes>"
      ]
     },
     "metadata": {},
     "output_type": "display_data"
    }
   ],
   "source": [
    "plt.plot(history.history['accuracy'])\n",
    "plt.plot(history.history['val_accuracy'])"
   ]
  },
  {
   "cell_type": "code",
   "execution_count": 101,
   "metadata": {},
   "outputs": [],
   "source": [
    "import seaborn as sns\n",
    "import numpy as np"
   ]
  },
  {
   "cell_type": "code",
   "execution_count": 62,
   "metadata": {},
   "outputs": [
    {
     "data": {
      "text/plain": [
       "array([[2416,    0],\n",
       "       [ 584,    0]])"
      ]
     },
     "execution_count": 62,
     "metadata": {},
     "output_type": "execute_result"
    },
    {
     "data": {
      "image/png": "[encoded data removed]",
      "text/plain": [
       "<Figure size 400x200 with 2 Axes>"
      ]
     },
     "metadata": {},
     "output_type": "display_data"
    }
   ],
   "source": [
    "from sklearn.metrics import precision_score, recall_score, confusion_matrix, classification_report, accuracy_score, f1_score\n",
    "import matplotlib.pyplot as plt\n",
    "cmap1 = sns.diverging_palette(751,75,  s=40, l=65, n=6)\n",
    "plt.subplots(figsize=(4,2))\n",
    "cf_matrix = confusion_matrix(y_test, y_pred)\n",
    "sns.heatmap(cf_matrix/np.sum(cf_matrix), cmap = cmap1, annot = True, annot_kws = {'size':15})\n",
    "cf_matrix"
   ]
  },
  {
   "cell_type": "code",
   "execution_count": null,
   "metadata": {},
   "outputs": [],
   "source": []
  }
 ],
 "metadata": {
  "kernelspec": {
   "display_name": ".venv",
   "language": "python",
   "name": "python3"
  },
  "language_info": {
   "codemirror_mode": {
    "name": "ipython",
    "version": 3
   },
   "file_extension": ".py",
   "mimetype": "text/x-python",
   "name": "python",
   "nbconvert_exporter": "python",
   "pygments_lexer": "ipython3",
   "version": "3.10.12"
  },
  "orig_nbformat": 4
 },
 "nbformat": 4,
 "nbformat_minor": 2
}
