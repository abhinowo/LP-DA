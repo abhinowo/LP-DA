{
 "cells": [
  {
   "cell_type": "markdown",
   "metadata": {},
   "source": [
    "# Python Journey\n",
    "\n",
    "for all of you who may new to this programming language, let me show you a brief what kind of badass programming language a.k.a \"python\" can do. some of this roadmap journey were based on w3schools and i just take a few examples so you know what you are doing implicitly on data analytics roadmap (hopefully)"
   ]
  },
  {
   "cell_type": "code",
   "execution_count": 4,
   "metadata": {},
   "outputs": [
    {
     "name": "stdout",
     "output_type": "stream",
     "text": [
      "3.10.12 (main, Nov 20 2023, 15:14:05) [GCC 11.4.0]\n"
     ]
    }
   ],
   "source": [
    "# make sure you have the right version of python\n",
    "import sys\n",
    "print(sys.version)\n"
   ]
  },
  {
   "cell_type": "code",
   "execution_count": 5,
   "metadata": {},
   "outputs": [
    {
     "name": "stdout",
     "output_type": "stream",
     "text": [
      "Hello World\n"
     ]
    }
   ],
   "source": [
    "print('Hello World')"
   ]
  },
  {
   "cell_type": "code",
   "execution_count": 6,
   "metadata": {},
   "outputs": [
    {
     "name": "stdout",
     "output_type": "stream",
     "text": [
      "5\n",
      "Leroy\n"
     ]
    }
   ],
   "source": [
    "# make a variable\n",
    "\n",
    "x = 5\n",
    "print(x)\n",
    "y = 'Leroy'\n",
    "print(y)"
   ]
  },
  {
   "cell_type": "code",
   "execution_count": 8,
   "metadata": {},
   "outputs": [
    {
     "name": "stdout",
     "output_type": "stream",
     "text": [
      "<class 'int'>\n",
      "<class 'str'>\n"
     ]
    }
   ],
   "source": [
    "# check the type of a variable\n",
    "\n",
    "print(type(x))\n",
    "print(type(y))"
   ]
  },
  {
   "cell_type": "code",
   "execution_count": 9,
   "metadata": {},
   "outputs": [
    {
     "ename": "TypeError",
     "evalue": "unsupported operand type(s) for +: 'int' and 'str'",
     "output_type": "error",
     "traceback": [
      "\u001b[0;31m---------------------------------------------------------------------------\u001b[0m",
      "\u001b[0;31mTypeError\u001b[0m                                 Traceback (most recent call last)",
      "Cell \u001b[0;32mIn[9], line 4\u001b[0m\n\u001b[1;32m      1\u001b[0m \u001b[38;5;66;03m# obvious stuff\u001b[39;00m\n\u001b[1;32m      2\u001b[0m \n\u001b[1;32m      3\u001b[0m \u001b[38;5;66;03m# you cant add a string and a number\u001b[39;00m\n\u001b[0;32m----> 4\u001b[0m \u001b[38;5;28mprint\u001b[39m(\u001b[43mx\u001b[49m\u001b[43m \u001b[49m\u001b[38;5;241;43m+\u001b[39;49m\u001b[43m \u001b[49m\u001b[43my\u001b[49m)\n",
      "\u001b[0;31mTypeError\u001b[0m: unsupported operand type(s) for +: 'int' and 'str'"
     ]
    }
   ],
   "source": [
    "# obvious stuff\n",
    "\n",
    "# you cant add a string and a number\n",
    "print(x + y)"
   ]
  },
  {
   "cell_type": "code",
   "execution_count": 14,
   "metadata": {},
   "outputs": [
    {
     "name": "stdout",
     "output_type": "stream",
     "text": [
      "Pythoniscool\n",
      "Python is cool\n"
     ]
    }
   ],
   "source": [
    "# but you can add two or multiple strings using print with plus or a coma, the coma in this case adds a space\n",
    "x = 'Python'\n",
    "y = 'is'\n",
    "z = 'cool'\n",
    "\n",
    "print(x + y + z)\n",
    "print(x,y,z)"
   ]
  },
  {
   "cell_type": "code",
   "execution_count": 15,
   "metadata": {},
   "outputs": [
    {
     "name": "stdout",
     "output_type": "stream",
     "text": [
      "Python is cool\n"
     ]
    }
   ],
   "source": [
    "# another way to print strings is to use the format method\n",
    "print('{} {} {}'.format(x,y,z))\n"
   ]
  },
  {
   "cell_type": "code",
   "execution_count": 16,
   "metadata": {},
   "outputs": [
    {
     "name": "stdout",
     "output_type": "stream",
     "text": [
      "x is Python\n",
      "y is is\n",
      "z is cool\n"
     ]
    }
   ],
   "source": [
    "# you can also use the format method to print variables\n",
    "print('x is {}'.format(x))\n",
    "print('y is {}'.format(y))\n",
    "print('z is {}'.format(z))\n"
   ]
  },
  {
   "cell_type": "code",
   "execution_count": 44,
   "metadata": {},
   "outputs": [
    {
     "name": "stdout",
     "output_type": "stream",
     "text": [
      "30\n",
      "5 10 15\n"
     ]
    }
   ],
   "source": [
    "# obviously you can add two or multiple numbers together but not with using coma\n",
    "\n",
    "x = 5\n",
    "y = 10\n",
    "z = 15\n",
    "\n",
    "print(x + y + z)\n",
    "print(x,y,z)"
   ]
  },
  {
   "cell_type": "code",
   "execution_count": 18,
   "metadata": {},
   "outputs": [
    {
     "name": "stdout",
     "output_type": "stream",
     "text": [
      "28\n",
      "28\n",
      "28\n"
     ]
    }
   ],
   "source": [
    "# lets see how many memories that takes up\n",
    "import sys\n",
    "print(sys.getsizeof(x))\n",
    "print(sys.getsizeof(y))\n",
    "print(sys.getsizeof(z))\n",
    "\n",
    "# 28 bytes for each number, 84 bytes total"
   ]
  },
  {
   "cell_type": "markdown",
   "metadata": {},
   "source": [
    "memories usage is utterly important to know when you try to handle some of a big data out there. so this code above is just an intro to know how allocated memory were used on just a simple variable. next time probably you will soon learn how loop memory usage, type data memory usage or any other libraries memory usage can do in one of your projects."
   ]
  },
  {
   "cell_type": "code",
   "execution_count": 24,
   "metadata": {},
   "outputs": [
    {
     "name": "stdout",
     "output_type": "stream",
     "text": [
      "[5, 10, 15]\n",
      "<class 'list'>\n",
      "88\n"
     ]
    }
   ],
   "source": [
    "# Memory is kinda expensive, so we can use a list to store multiple variables\n",
    "\n",
    "x = [5,10,15]\n",
    "print(x)\n",
    "print(type(x))\n",
    "print(sys.getsizeof(x))\n",
    "\n",
    "# notice the size is 88 bytes, 4 bytes more than the three numbers added together. This is because the list has to store the numbers and the commas and the brackets"
   ]
  },
  {
   "cell_type": "code",
   "execution_count": 25,
   "metadata": {},
   "outputs": [
    {
     "name": "stdout",
     "output_type": "stream",
     "text": [
      "[5, 10, 15, 20]\n",
      "<class 'list'>\n",
      "88\n"
     ]
    }
   ],
   "source": [
    "x = [5,10,15,20]\n",
    "print(x)\n",
    "print(type(x))\n",
    "print(sys.getsizeof(x))\n",
    "\n",
    "# if i add another number to the list, the size memory isnt increase. "
   ]
  },
  {
   "cell_type": "code",
   "execution_count": 26,
   "metadata": {},
   "outputs": [
    {
     "name": "stdout",
     "output_type": "stream",
     "text": [
      "5\n"
     ]
    }
   ],
   "source": [
    "# back to the variable. theres also called a global variable. which is a variable that can be used anywhere in the program.\n",
    "\n",
    "x = 5 # createed oustide a function.\n",
    "def print_number():\n",
    "    print(x)\n",
    "\n",
    "print_number()"
   ]
  },
  {
   "cell_type": "code",
   "execution_count": 31,
   "metadata": {},
   "outputs": [
    {
     "name": "stdout",
     "output_type": "stream",
     "text": [
      "5\n"
     ]
    }
   ],
   "source": [
    "# you can also create a local variable, which is a variable that can only be used inside a function.\n",
    "\n",
    "def print_number():\n",
    "    number = 5\n",
    "    print(number)\n",
    "\n",
    "print_number()\n",
    "\n",
    "# if you try to print the variable outside the function, it will give you an error\n",
    "# print(number)"
   ]
  },
  {
   "cell_type": "code",
   "execution_count": 32,
   "metadata": {},
   "outputs": [
    {
     "name": "stdout",
     "output_type": "stream",
     "text": [
      "5\n",
      "10\n"
     ]
    }
   ],
   "source": [
    "# learn about list and dictionaries\n",
    "\n",
    "# a list is a collection of variables that can be accessed by an index number\n",
    "\n",
    "x = [5,10,15,20]\n",
    "print(x[0])\n",
    "print(x[1])"
   ]
  },
  {
   "cell_type": "code",
   "execution_count": 34,
   "metadata": {},
   "outputs": [
    {
     "name": "stdout",
     "output_type": "stream",
     "text": [
      "5\n",
      "10\n"
     ]
    }
   ],
   "source": [
    "# dictionaries are a collection of variables that can be accessed by a key\n",
    "\n",
    "x = {'first': 5, 'second': 10, 'third': 15, 'fourth': 20}\n",
    "print(x['first'])\n",
    "print(x['second'])"
   ]
  },
  {
   "cell_type": "code",
   "execution_count": 35,
   "metadata": {},
   "outputs": [
    {
     "name": "stdout",
     "output_type": "stream",
     "text": [
      "[5, 10, 15, 20]\n"
     ]
    }
   ],
   "source": [
    "# you can also use a list inside a dictionary\n",
    "\n",
    "x = {'first': [5,10,15,20], 'second': 10, 'third': 15, 'fourth': 20}\n",
    "print(x['first'])"
   ]
  },
  {
   "cell_type": "code",
   "execution_count": 36,
   "metadata": {},
   "outputs": [
    {
     "name": "stdout",
     "output_type": "stream",
     "text": [
      "{'first': 5, 'second': 10, 'third': 15, 'fourth': 20}\n"
     ]
    }
   ],
   "source": [
    "# you can also use a dictionary inside a list\n",
    "\n",
    "x = [{'first': 5, 'second': 10, 'third': 15, 'fourth': 20}, 10, 15, 20]\n",
    "print(x[0])"
   ]
  },
  {
   "cell_type": "markdown",
   "metadata": {},
   "source": [
    "- notice that list use square brackets and dictionaries use curly brackets"
   ]
  },
  {
   "cell_type": "code",
   "execution_count": 37,
   "metadata": {},
   "outputs": [
    {
     "name": "stdout",
     "output_type": "stream",
     "text": [
      "(5, 10, 15, 20)\n",
      "<class 'tuple'>\n"
     ]
    }
   ],
   "source": [
    "# now, what is a tuple? a tuple is a list that cannot be changed.\n",
    "\n",
    "x = (5,10,15,20)\n",
    "print(x)\n",
    "print(type(x))"
   ]
  },
  {
   "cell_type": "code",
   "execution_count": 38,
   "metadata": {},
   "outputs": [
    {
     "ename": "TypeError",
     "evalue": "'tuple' object does not support item assignment",
     "output_type": "error",
     "traceback": [
      "\u001b[0;31m---------------------------------------------------------------------------\u001b[0m",
      "\u001b[0;31mTypeError\u001b[0m                                 Traceback (most recent call last)",
      "Cell \u001b[0;32mIn[38], line 3\u001b[0m\n\u001b[1;32m      1\u001b[0m \u001b[38;5;66;03m# now lets try to change the tuple\u001b[39;00m\n\u001b[0;32m----> 3\u001b[0m \u001b[43mx\u001b[49m\u001b[43m[\u001b[49m\u001b[38;5;241;43m0\u001b[39;49m\u001b[43m]\u001b[49m \u001b[38;5;241m=\u001b[39m \u001b[38;5;241m10\u001b[39m\n",
      "\u001b[0;31mTypeError\u001b[0m: 'tuple' object does not support item assignment"
     ]
    }
   ],
   "source": [
    "# now lets try to change the tuple\n",
    "\n",
    "x[0] = 10"
   ]
  },
  {
   "cell_type": "code",
   "execution_count": 39,
   "metadata": {},
   "outputs": [
    {
     "name": "stdout",
     "output_type": "stream",
     "text": [
      "[5, 10, 15, 20]\n"
     ]
    }
   ],
   "source": [
    "# you get an error. tuples are immutable.\n",
    "# its different when it comes to a list\n",
    "\n",
    "x = [5,10,15,20]\n",
    "print(x)\n"
   ]
  },
  {
   "cell_type": "code",
   "execution_count": 41,
   "metadata": {},
   "outputs": [
    {
     "name": "stdout",
     "output_type": "stream",
     "text": [
      "[10, 10, 15, 20]\n"
     ]
    }
   ],
   "source": [
    "x[0] = 10\n",
    "print(x)"
   ]
  },
  {
   "cell_type": "code",
   "execution_count": 42,
   "metadata": {},
   "outputs": [
    {
     "name": "stdout",
     "output_type": "stream",
     "text": [
      "(5, 10, 15, 20)\n",
      "<class 'tuple'>\n",
      "[5, 10, 15, 20]\n",
      "<class 'list'>\n"
     ]
    }
   ],
   "source": [
    "# so when do i use a tuple? when you dont want the data to be changed. for example, if you have a list of names, and you dont want the names to be changed, you can use a tuple.\n",
    "# now what if i already have a tuple and i want to change it? you can convert it to a list, change it, and then convert it back to a tuple.\n",
    "\n",
    "x = (5,10,15,20)\n",
    "print(x)\n",
    "print(type(x))\n",
    "\n",
    "x = list(x)\n",
    "print(x)\n",
    "print(type(x))\n",
    "\n",
    "# x[0] = 10\n",
    "# print(x)\n",
    "# print(type(x))\n",
    "\n",
    "# x = tuple(x)\n"
   ]
  },
  {
   "cell_type": "code",
   "execution_count": 45,
   "metadata": {},
   "outputs": [
    {
     "name": "stdout",
     "output_type": "stream",
     "text": [
      "*\n",
      "**\n",
      "***\n",
      "****\n",
      "*****\n"
     ]
    }
   ],
   "source": [
    "# lets learn about loops. we are gonna make a * triangle that looks like this\n",
    "print('*')\n",
    "print('**')\n",
    "print('***')\n",
    "print('****')\n",
    "print('*****')\n"
   ]
  },
  {
   "cell_type": "code",
   "execution_count": 47,
   "metadata": {},
   "outputs": [
    {
     "name": "stdout",
     "output_type": "stream",
     "text": [
      "\n",
      "*\n",
      "**\n",
      "***\n",
      "****\n",
      "*****\n"
     ]
    }
   ],
   "source": [
    "# now lets make a loop that prints a * triangle\n",
    "\n",
    "for i in range(6):\n",
    "    print('*' * i)"
   ]
  },
  {
   "cell_type": "code",
   "execution_count": 48,
   "metadata": {},
   "outputs": [
    {
     "name": "stdout",
     "output_type": "stream",
     "text": [
      "*****\n",
      "****\n",
      "***\n",
      "**\n",
      "*\n"
     ]
    }
   ],
   "source": [
    "# now lets make a loop that prints a * triangle backwards\n",
    "\n",
    "for i in range(5,0,-1): # the -1 is the step, the 0 is the end, and the 5 is the start\n",
    "    print('*' * i)"
   ]
  },
  {
   "cell_type": "code",
   "execution_count": 49,
   "metadata": {},
   "outputs": [
    {
     "name": "stdout",
     "output_type": "stream",
     "text": [
      "x is 5\n"
     ]
    }
   ],
   "source": [
    "# now we learn about switch statements. switch statements are used to execute different blocks of code depending on different conditions.\n",
    "\n",
    "x = 5\n",
    "\n",
    "if x == 5:\n",
    "    print('x is 5')\n",
    "elif x == 10:\n",
    "    print('x is 10')\n",
    "else:\n",
    "    print('x is not 5 or 10')  "
   ]
  },
  {
   "cell_type": "code",
   "execution_count": 51,
   "metadata": {},
   "outputs": [
    {
     "name": "stdout",
     "output_type": "stream",
     "text": [
      "arg = a\n",
      "arg = a\n",
      "arg = b\n"
     ]
    }
   ],
   "source": [
    "# args and kwargs\n",
    "# args is used to pass a variable number of arguments to a function\n",
    "\n",
    "def print_args(*args):\n",
    "    for arg in args:\n",
    "        print('arg = {}'.format(arg))\n",
    "    \n",
    "print_args('a')\n",
    "\n",
    "print_args('a','b')"
   ]
  },
  {
   "cell_type": "code",
   "execution_count": 53,
   "metadata": {},
   "outputs": [
    {
     "name": "stdout",
     "output_type": "stream",
     "text": [
      "key = name, value = Leroy\n",
      "key = age, value = 30\n"
     ]
    }
   ],
   "source": [
    "# kwargs is used to pass a variable number of keyword arguments to a function\n",
    "\n",
    "def print_kwargs(**kwargs):\n",
    "    for k,v in kwargs.items():\n",
    "        print('key = {}, value = {}'.format(k,v))\n",
    "      \n",
    "print_kwargs(name='Leroy', age=30)"
   ]
  },
  {
   "cell_type": "code",
   "execution_count": null,
   "metadata": {},
   "outputs": [],
   "source": []
  }
 ],
 "metadata": {
  "kernelspec": {
   "display_name": ".venv",
   "language": "python",
   "name": "python3"
  },
  "language_info": {
   "codemirror_mode": {
    "name": "ipython",
    "version": 3
   },
   "file_extension": ".py",
   "mimetype": "text/x-python",
   "name": "python",
   "nbconvert_exporter": "python",
   "pygments_lexer": "ipython3",
   "version": "3.10.12"
  }
 },
 "nbformat": 4,
 "nbformat_minor": 2
}
