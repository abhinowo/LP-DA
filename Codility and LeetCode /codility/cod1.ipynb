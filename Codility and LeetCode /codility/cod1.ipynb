{
 "cells": [
  {
   "cell_type": "code",
   "execution_count": 9,
   "metadata": {},
   "outputs": [
    {
     "name": "stdout",
     "output_type": "stream",
     "text": [
      "True\n"
     ]
    }
   ],
   "source": [
    "def solution(A):\n",
    "    A = sorted(A)\n",
    "    if A[0] !=  A[3]:\n",
    "       return True\n",
    "    else:\n",
    "        return False\n",
    "    \n",
    "    pass\n",
    "    \n",
    "A = [1,3,1,2]\n",
    "print(solution(A))"
   ]
  },
  {
   "cell_type": "code",
   "execution_count": 1,
   "metadata": {},
   "outputs": [
    {
     "name": "stdout",
     "output_type": "stream",
     "text": [
      "5\n"
     ]
    }
   ],
   "source": [
    "# given an array a of n integers, return the smalles positive integer greater than 0 that does not occur in A\n",
    "\n",
    "def solution(A):\n",
    "    A = sorted(A)\n",
    "    if A[-1] <= 0:\n",
    "        return 1\n",
    "    elif A[0] > 1:\n",
    "        return 1\n",
    "    else:\n",
    "        for i in range(len(A)-1):\n",
    "            if A[i+1] - A[i] > 1:\n",
    "                return A[i]+1\n",
    "        return A[-1]+1\n",
    "    pass\n",
    "\n",
    "# try to test the function above\n",
    "A = [1,3,6,4,1,2]\n",
    "print(solution(A))"
   ]
  },
  {
   "cell_type": "code",
   "execution_count": 2,
   "metadata": {},
   "outputs": [
    {
     "name": "stdout",
     "output_type": "stream",
     "text": [
      "True\n"
     ]
    }
   ],
   "source": [
    "# Given A=[1,2,2,1] your function should return true as the pairs are (A[0], A[3]) and so on\n",
    "\n",
    "def solution(A):\n",
    "    A = sorted(A)\n",
    "    for i in range(len(A)-1):\n",
    "        if A[i] == A[i+1]:\n",
    "            return True\n",
    "    return False\n",
    "    pass\n",
    "\n",
    "A = [1,3,1,2]\n",
    "print(solution(A))\n",
    "    "
   ]
  },
  {
   "cell_type": "code",
   "execution_count": 3,
   "metadata": {},
   "outputs": [
    {
     "name": "stdout",
     "output_type": "stream",
     "text": [
      "True\n"
     ]
    }
   ],
   "source": [
    "def solution(A):\n",
    "    A = sorted(A)\n",
    "    if A[0] !=  A[3]:\n",
    "       return True\n",
    "    else:\n",
    "        return False\n",
    "    \n",
    "    pass\n",
    "    \n",
    "A = [1,3,1,2]\n",
    "print(solution(A))"
   ]
  },
  {
   "cell_type": "code",
   "execution_count": 4,
   "metadata": {},
   "outputs": [
    {
     "name": "stdout",
     "output_type": "stream",
     "text": [
      "False\n"
     ]
    }
   ],
   "source": [
    "# return true if given an array A consisting N integers return whether it is possible to split all integers into pairs\n",
    "\n",
    "def solution(A):\n",
    "    A = sorted(A)\n",
    "    for i in range(0,len(A),2):\n",
    "        if len(A) % 2 != 0:\n",
    "            return False\n",
    "        elif A[i] != A[i+1]:\n",
    "            return False\n",
    "        ## if there is like only total of odd number in array return false\n",
    "        else:\n",
    "            return True\n",
    "    # return True\n",
    "    pass\n",
    "\n",
    "A = [7,7,7]\n",
    "print(solution(A))"
   ]
  },
  {
   "cell_type": "code",
   "execution_count": 5,
   "metadata": {},
   "outputs": [
    {
     "name": "stdout",
     "output_type": "stream",
     "text": [
      "['b', 'c']\n"
     ]
    }
   ],
   "source": [
    "# w given a string write a solution function that given a string S consisting of N characters return the alphabetically smallest string  that can be obtained by removing exactly one letter from S\n",
    "def solution(S):\n",
    "    S = sorted(S)\n",
    "    # S = sorted(S.lower())\n",
    "\n",
    "    # make it only lowercase\n",
    "    # S = S.lower()\n",
    "    return S[1:]\n",
    "    pass\n",
    "\n",
    "# try to test the function above by removing one letter from S\n",
    "S = 'acb'\n",
    "print(solution(S))"
   ]
  },
  {
   "cell_type": "code",
   "execution_count": 6,
   "metadata": {},
   "outputs": [
    {
     "name": "stdout",
     "output_type": "stream",
     "text": [
      "['o', 't']\n"
     ]
    }
   ],
   "source": [
    "# w given a string write a solution function that given a string S consisting of N characters return the alphabetically smallest string  that can be obtained by removing exactly one letter from S\n",
    "\n",
    "def solution(S):\n",
    "    S = sorted(S)\n",
    "    # S = sorted(S.lower())\n",
    "\n",
    "    # make it only lowercase\n",
    "    # S = S.lower()\n",
    "    return S[1:]\n",
    "    pass\n",
    "\n",
    "\n",
    "# def solution(S):\n",
    "#     S = sorted(S)\n",
    "#     return S[1:]\n",
    "#     pass\n",
    "\n",
    "S = 'hot'\n",
    "print(solution(S))"
   ]
  },
  {
   "cell_type": "code",
   "execution_count": 7,
   "metadata": {},
   "outputs": [
    {
     "name": "stdout",
     "output_type": "stream",
     "text": [
      "['o', 't']\n"
     ]
    }
   ],
   "source": [
    "# given S = 'acb' the function should return 'ab', given s = hot should return ho \n",
    "\n",
    "def solution(S):\n",
    "    S = sorted(S)\n",
    "    return S[1:]\n",
    "    pass    \n",
    "\n",
    "S = 'hot'\n",
    "print(solution(S))\n",
    "\n"
   ]
  },
  {
   "cell_type": "code",
   "execution_count": 8,
   "metadata": {},
   "outputs": [
    {
     "name": "stdout",
     "output_type": "stream",
     "text": [
      "3\n"
     ]
    }
   ],
   "source": [
    "# given world should return 1\n",
    "# given dddd should return 4\n",
    "\n",
    "# function that return the number of distinct letters in string S\n",
    "\n",
    "def solution(S):\n",
    "    S = sorted(S)\n",
    "    # make it return 1 if the string has no same character in it\n",
    "    for char in S:\n",
    "        if S.count(char) == 1:\n",
    "            return 1\n",
    "        # make it return the number of same character. abba equals to 2\n",
    "        elif S.count(char) > 1:\n",
    "            # S.count(char) > 1\n",
    "            return S.count(char)\n",
    "        else:\n",
    "            return len(S)\n",
    "    pass\n",
    "    # make it return to the number of letter if theres same character in it\n",
    "    # else:\n",
    "    #     return len(S)\n",
    "    \n",
    "\n",
    "\n",
    "\n",
    "# def solution(w):\n",
    "#     w = sorted(w)\n",
    "#     return len(w)\n",
    "#     pass\n",
    "\n",
    "S = 'ddd'\n",
    "print(solution(S))\n"
   ]
  },
  {
   "cell_type": "code",
   "execution_count": null,
   "metadata": {},
   "outputs": [],
   "source": []
  }
 ],
 "metadata": {
  "kernelspec": {
   "display_name": ".venv",
   "language": "python",
   "name": "python3"
  },
  "language_info": {
   "codemirror_mode": {
    "name": "ipython",
    "version": 3
   },
   "file_extension": ".py",
   "mimetype": "text/x-python",
   "name": "python",
   "nbconvert_exporter": "python",
   "pygments_lexer": "ipython3",
   "version": "3.10.12"
  }
 },
 "nbformat": 4,
 "nbformat_minor": 2
}
